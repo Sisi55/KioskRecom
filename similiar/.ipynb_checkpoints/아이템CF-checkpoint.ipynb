{
 "cells": [
  {
   "cell_type": "code",
   "execution_count": 1,
   "metadata": {},
   "outputs": [
    {
     "data": {
      "text/plain": [
       "<firebase_admin.App at 0x1da565c15f8>"
      ]
     },
     "execution_count": 1,
     "metadata": {},
     "output_type": "execute_result"
    }
   ],
   "source": [
    "import firebase_admin\n",
    "from firebase_admin import credentials\n",
    "from firebase_admin import firestore\n",
    "import pandas as pd\n",
    "import numpy as np\n",
    "from sklearn.preprocessing import LabelEncoder\n",
    "from sklearn.metrics.pairwise import cosine_similarity\n",
    "\n",
    "cred = credentials.Certificate('kiosk-firestore-jnsy-bcfe4-firebase-adminsdk-269q4-4a795774bb.json')\n",
    "firebase_admin.initialize_app(cred)"
   ]
  },
  {
   "cell_type": "code",
   "execution_count": 2,
   "metadata": {},
   "outputs": [],
   "source": [
    "#모든 user를 루프돌아서\n",
    "#선호도 가져오면 되겠다\n",
    "#전체 아이템 알려면 menu도 루프 돌아야겠지\n",
    "# tag='user'이면 모든 사용자 루프\n",
    "def get_user_rating_list(tag='user'):\n",
    "    docs = firestore.client().collection(tag).stream()\n",
    "    doc_list = []\n",
    "    \n",
    "    for doc in docs:\n",
    "        doc_list_row = []\n",
    "        doc_list_row.append(doc.get('personUUID'))\n",
    "        for key in doc.get('itemPreference').keys(): # {아이템이름str:점수int}\n",
    "            doc_list_row.append([key,doc.get('itemPreference').get(key)])\n",
    "            \n",
    "        doc_list.append(doc_list_row)\n",
    "    \n",
    "    return doc_list\n",
    "\n",
    "#def get_menu_list(tag='menu'):\n",
    "#    docs = firestore.client().collection(tag).stream()\n",
    "#    menu_list = []\n",
    "#    \n",
    "#    for doc in docs: # 메뉴 이름만 일단 모아서 반환한다\n",
    "#        menu_list.append(doc.get('name'))\n",
    "#    \n",
    "#    return menu_list\n",
    "\n"
   ]
  },
  {
   "cell_type": "code",
   "execution_count": null,
   "metadata": {},
   "outputs": [],
   "source": [
    "def data_preprocessing(user_items_list):\n",
    "    temp_list = [] # user,item,rating 저장할 리스트\n",
    "    \n",
    "    for row in user_items_list: #[0]은 항상 person uuid\n",
    "        if len(row) != 1: #길이가 하나인 행은 uuid만 있으므로 제외\n",
    "            size = len(row)-1  # size는 user의 점수 매긴 item 개수\n",
    "            for i in range(1,size+1): # 한 행 안의 아이템 루프 \n",
    "                temp_list.append([row[0], row[i][0] , row[i][1] ])\n",
    "                \n",
    "    return temp_list\n",
    "    \n",
    "    \n",
    "    "
   ]
  },
  {
   "cell_type": "code",
   "execution_count": 3,
   "metadata": {},
   "outputs": [
    {
     "name": "stdout",
     "output_type": "stream",
     "text": [
      "[['c07c639c-3413-4522-832d-3eaa7a1f3480', '아메리카노', 9], ['a056b551-622b-46f8-8620-731a66bc5be8', '삼계탕', 9], ['a056b551-622b-46f8-8620-731a66bc5be8', '라떼', 9], ['9d03e5f2-6070-42e2-8683-dc74c9895b95', '아메리카노', 5], ['4f0bb319-06ea-469e-a849-55f8c6fa4c6d', '삼계탕', 3]]\n"
     ]
    }
   ],
   "source": [
    "user_items_list = data_preprocessing(get_user_rating_list()) # order DB에서 데이터 가공해서 가져온다\n",
    "#print(user_items_list)\n",
    "\n",
    "\n",
    "print(user_items_list)"
   ]
  },
  {
   "cell_type": "code",
   "execution_count": 4,
   "metadata": {},
   "outputs": [
    {
     "name": "stdout",
     "output_type": "stream",
     "text": [
      "<class 'pandas.core.frame.DataFrame'>\n",
      "RangeIndex: 5 entries, 0 to 4\n",
      "Data columns (total 3 columns):\n",
      "userid    5 non-null object\n",
      "itemid    5 non-null object\n",
      "rating    5 non-null int64\n",
      "dtypes: int64(1), object(2)\n",
      "memory usage: 248.0+ bytes\n",
      "None\n",
      "<class 'numpy.ndarray'>\n",
      "인코딩 클래스: ['4f0bb319-06ea-469e-a849-55f8c6fa4c6d'\n",
      " '9d03e5f2-6070-42e2-8683-dc74c9895b95'\n",
      " 'a056b551-622b-46f8-8620-731a66bc5be8'\n",
      " 'c07c639c-3413-4522-832d-3eaa7a1f3480']\n"
     ]
    },
    {
     "data": {
      "text/html": [
       "<div>\n",
       "<style scoped>\n",
       "    .dataframe tbody tr th:only-of-type {\n",
       "        vertical-align: middle;\n",
       "    }\n",
       "\n",
       "    .dataframe tbody tr th {\n",
       "        vertical-align: top;\n",
       "    }\n",
       "\n",
       "    .dataframe thead th {\n",
       "        text-align: right;\n",
       "    }\n",
       "</style>\n",
       "<table border=\"1\" class=\"dataframe\">\n",
       "  <thead>\n",
       "    <tr style=\"text-align: right;\">\n",
       "      <th></th>\n",
       "      <th>userid</th>\n",
       "      <th>itemid</th>\n",
       "      <th>rating</th>\n",
       "    </tr>\n",
       "  </thead>\n",
       "  <tbody>\n",
       "    <tr>\n",
       "      <th>0</th>\n",
       "      <td>3</td>\n",
       "      <td>아메리카노</td>\n",
       "      <td>9</td>\n",
       "    </tr>\n",
       "    <tr>\n",
       "      <th>1</th>\n",
       "      <td>2</td>\n",
       "      <td>삼계탕</td>\n",
       "      <td>9</td>\n",
       "    </tr>\n",
       "    <tr>\n",
       "      <th>2</th>\n",
       "      <td>2</td>\n",
       "      <td>라떼</td>\n",
       "      <td>9</td>\n",
       "    </tr>\n",
       "    <tr>\n",
       "      <th>3</th>\n",
       "      <td>1</td>\n",
       "      <td>아메리카노</td>\n",
       "      <td>5</td>\n",
       "    </tr>\n",
       "    <tr>\n",
       "      <th>4</th>\n",
       "      <td>0</td>\n",
       "      <td>삼계탕</td>\n",
       "      <td>3</td>\n",
       "    </tr>\n",
       "  </tbody>\n",
       "</table>\n",
       "</div>"
      ],
      "text/plain": [
       "   userid itemid  rating\n",
       "0       3  아메리카노       9\n",
       "1       2    삼계탕       9\n",
       "2       2     라떼       9\n",
       "3       1  아메리카노       5\n",
       "4       0    삼계탕       3"
      ]
     },
     "execution_count": 4,
     "metadata": {},
     "output_type": "execute_result"
    }
   ],
   "source": [
    "rating_item_df = pd.DataFrame(temp_list, columns=['userid','itemid','rating']) #ndarray로 변환\n",
    "print(rating_item_df.info())\n",
    "\n",
    "#userid 전처리\n",
    "userid_encoder = LabelEncoder()\n",
    "users = rating_item_df['userid'].values.tolist()\n",
    "userid_encoder.fit(users)\n",
    "users_vec = userid_encoder.transform(users)\n",
    "\n",
    "print(type(users_vec)) #해당 열 전체 변환한 것\n",
    "\n",
    "print('인코딩 클래스:', userid_encoder.classes_)\n",
    "\n",
    "#print('디코딩 원본 값:', encoder.inverse_transform([0,1])) #리스트나 스칼라로 전달하면 변환해서 반환함\n",
    "\n",
    "rating_item_df['userid'] = pd.Series(users_vec)\n",
    "\n",
    "rating_item_df # 사용자가 아이템에 점수 매긴 DF"
   ]
  },
  {
   "cell_type": "code",
   "execution_count": 7,
   "metadata": {},
   "outputs": [
    {
     "data": {
      "text/html": [
       "<div>\n",
       "<style scoped>\n",
       "    .dataframe tbody tr th:only-of-type {\n",
       "        vertical-align: middle;\n",
       "    }\n",
       "\n",
       "    .dataframe tbody tr th {\n",
       "        vertical-align: top;\n",
       "    }\n",
       "\n",
       "    .dataframe thead th {\n",
       "        text-align: right;\n",
       "    }\n",
       "</style>\n",
       "<table border=\"1\" class=\"dataframe\">\n",
       "  <thead>\n",
       "    <tr style=\"text-align: right;\">\n",
       "      <th>itemid</th>\n",
       "      <th>라떼</th>\n",
       "      <th>삼계탕</th>\n",
       "      <th>아메리카노</th>\n",
       "    </tr>\n",
       "    <tr>\n",
       "      <th>userid</th>\n",
       "      <th></th>\n",
       "      <th></th>\n",
       "      <th></th>\n",
       "    </tr>\n",
       "  </thead>\n",
       "  <tbody>\n",
       "    <tr>\n",
       "      <th>0</th>\n",
       "      <td>NaN</td>\n",
       "      <td>3.0</td>\n",
       "      <td>NaN</td>\n",
       "    </tr>\n",
       "    <tr>\n",
       "      <th>1</th>\n",
       "      <td>NaN</td>\n",
       "      <td>NaN</td>\n",
       "      <td>5.0</td>\n",
       "    </tr>\n",
       "    <tr>\n",
       "      <th>2</th>\n",
       "      <td>9.0</td>\n",
       "      <td>9.0</td>\n",
       "      <td>NaN</td>\n",
       "    </tr>\n",
       "    <tr>\n",
       "      <th>3</th>\n",
       "      <td>NaN</td>\n",
       "      <td>NaN</td>\n",
       "      <td>9.0</td>\n",
       "    </tr>\n",
       "  </tbody>\n",
       "</table>\n",
       "</div>"
      ],
      "text/plain": [
       "itemid   라떼  삼계탕  아메리카노\n",
       "userid                 \n",
       "0       NaN  3.0    NaN\n",
       "1       NaN  NaN    5.0\n",
       "2       9.0  9.0    NaN\n",
       "3       NaN  NaN    9.0"
      ]
     },
     "execution_count": 7,
     "metadata": {},
     "output_type": "execute_result"
    }
   ],
   "source": [
    "ratings_matrix = rating_item_df.pivot_table(values='rating', index='userid', columns='itemid')#,aggfunc='first')\n",
    "ratings_matrix # 행:사용자, 열:아이템 DF"
   ]
  },
  {
   "cell_type": "code",
   "execution_count": 8,
   "metadata": {},
   "outputs": [],
   "source": [
    "#NaN 값을 모두 0으로 변환\n",
    "ratings_matrix = ratings_matrix.fillna(0)\n",
    "#ratings_matrix.info()#"
   ]
  },
  {
   "cell_type": "code",
   "execution_count": 11,
   "metadata": {},
   "outputs": [
    {
     "name": "stdout",
     "output_type": "stream",
     "text": [
      "<class 'pandas.core.frame.DataFrame'>\n",
      "Int64Index: 4 entries, 0 to 3\n",
      "Data columns (total 3 columns):\n",
      "라떼       4 non-null float64\n",
      "삼계탕      4 non-null float64\n",
      "아메리카노    4 non-null float64\n",
      "dtypes: float64(3)\n",
      "memory usage: 128.0 bytes\n"
     ]
    }
   ],
   "source": [
    "ratings_matrix.info()\n",
    "\n",
    "#ratings_matrix['삼계탕'].apply(lambda x: print(x,type(x)))\n"
   ]
  },
  {
   "cell_type": "code",
   "execution_count": null,
   "metadata": {},
   "outputs": [],
   "source": [
    "# 사용자/아이템 분기"
   ]
  },
  {
   "cell_type": "code",
   "execution_count": 12,
   "metadata": {},
   "outputs": [
    {
     "name": "stdout",
     "output_type": "stream",
     "text": [
      "<class 'pandas.core.frame.DataFrame'>\n"
     ]
    },
    {
     "data": {
      "text/html": [
       "<div>\n",
       "<style scoped>\n",
       "    .dataframe tbody tr th:only-of-type {\n",
       "        vertical-align: middle;\n",
       "    }\n",
       "\n",
       "    .dataframe tbody tr th {\n",
       "        vertical-align: top;\n",
       "    }\n",
       "\n",
       "    .dataframe thead th {\n",
       "        text-align: right;\n",
       "    }\n",
       "</style>\n",
       "<table border=\"1\" class=\"dataframe\">\n",
       "  <thead>\n",
       "    <tr style=\"text-align: right;\">\n",
       "      <th>userid</th>\n",
       "      <th>0</th>\n",
       "      <th>1</th>\n",
       "      <th>2</th>\n",
       "      <th>3</th>\n",
       "    </tr>\n",
       "    <tr>\n",
       "      <th>itemid</th>\n",
       "      <th></th>\n",
       "      <th></th>\n",
       "      <th></th>\n",
       "      <th></th>\n",
       "    </tr>\n",
       "  </thead>\n",
       "  <tbody>\n",
       "    <tr>\n",
       "      <th>라떼</th>\n",
       "      <td>0.0</td>\n",
       "      <td>0.0</td>\n",
       "      <td>9.0</td>\n",
       "      <td>0.0</td>\n",
       "    </tr>\n",
       "    <tr>\n",
       "      <th>삼계탕</th>\n",
       "      <td>3.0</td>\n",
       "      <td>0.0</td>\n",
       "      <td>9.0</td>\n",
       "      <td>0.0</td>\n",
       "    </tr>\n",
       "    <tr>\n",
       "      <th>아메리카노</th>\n",
       "      <td>0.0</td>\n",
       "      <td>5.0</td>\n",
       "      <td>0.0</td>\n",
       "      <td>9.0</td>\n",
       "    </tr>\n",
       "  </tbody>\n",
       "</table>\n",
       "</div>"
      ],
      "text/plain": [
       "userid    0    1    2    3\n",
       "itemid                    \n",
       "라떼      0.0  0.0  9.0  0.0\n",
       "삼계탕     3.0  0.0  9.0  0.0\n",
       "아메리카노   0.0  5.0  0.0  9.0"
      ]
     },
     "execution_count": 12,
     "metadata": {},
     "output_type": "execute_result"
    }
   ],
   "source": [
    "#아이템 간 유사도 행렬을 구하려면, 아이템이 행으로 나열되어 있어야 함\n",
    "ratings_matrix_T = ratings_matrix.transpose()\n",
    "print(type(ratings_matrix_T))\n",
    "ratings_matrix_T # 행:아이템, 열:사용자 DF"
   ]
  },
  {
   "cell_type": "code",
   "execution_count": 13,
   "metadata": {},
   "outputs": [
    {
     "data": {
      "text/html": [
       "<div>\n",
       "<style scoped>\n",
       "    .dataframe tbody tr th:only-of-type {\n",
       "        vertical-align: middle;\n",
       "    }\n",
       "\n",
       "    .dataframe tbody tr th {\n",
       "        vertical-align: top;\n",
       "    }\n",
       "\n",
       "    .dataframe thead th {\n",
       "        text-align: right;\n",
       "    }\n",
       "</style>\n",
       "<table border=\"1\" class=\"dataframe\">\n",
       "  <thead>\n",
       "    <tr style=\"text-align: right;\">\n",
       "      <th>itemid</th>\n",
       "      <th>라떼</th>\n",
       "      <th>삼계탕</th>\n",
       "      <th>아메리카노</th>\n",
       "    </tr>\n",
       "    <tr>\n",
       "      <th>itemid</th>\n",
       "      <th></th>\n",
       "      <th></th>\n",
       "      <th></th>\n",
       "    </tr>\n",
       "  </thead>\n",
       "  <tbody>\n",
       "    <tr>\n",
       "      <th>라떼</th>\n",
       "      <td>1.000000</td>\n",
       "      <td>0.948683</td>\n",
       "      <td>0.0</td>\n",
       "    </tr>\n",
       "    <tr>\n",
       "      <th>삼계탕</th>\n",
       "      <td>0.948683</td>\n",
       "      <td>1.000000</td>\n",
       "      <td>0.0</td>\n",
       "    </tr>\n",
       "    <tr>\n",
       "      <th>아메리카노</th>\n",
       "      <td>0.000000</td>\n",
       "      <td>0.000000</td>\n",
       "      <td>1.0</td>\n",
       "    </tr>\n",
       "  </tbody>\n",
       "</table>\n",
       "</div>"
      ],
      "text/plain": [
       "itemid        라떼       삼계탕  아메리카노\n",
       "itemid                           \n",
       "라떼      1.000000  0.948683    0.0\n",
       "삼계탕     0.948683  1.000000    0.0\n",
       "아메리카노   0.000000  0.000000    1.0"
      ]
     },
     "execution_count": 13,
     "metadata": {},
     "output_type": "execute_result"
    }
   ],
   "source": [
    "\n",
    "item_sim = cosine_similarity(ratings_matrix_T, ratings_matrix_T)\n",
    "\n",
    "# cosine_similarity()로 반환된 넘파이 행렬을 영화명을 매핑해 DataFrame으로 변환\n",
    "item_sim_df = pd.DataFrame(data=item_sim, index=ratings_matrix.columns, columns=ratings_matrix.columns)\n",
    "item_sim_df  # 아이템-아이템 유사도 DF\n"
   ]
  },
  {
   "cell_type": "code",
   "execution_count": null,
   "metadata": {},
   "outputs": [],
   "source": [
    "# 사용자 취향을 고려해 개인화된 추천을 수행해봅시다.\n",
    "\n",
    "def predict_rating(ratings_arr, item_sim_arr):#평점, 유사도\n",
    "    rating_pred = ratings_arr.dot(item_sim_arr)/np.array([np.abs(item_sim_arr).sum(axis=1)])\n",
    "    #아 행으로 만드려고 [] 안에 sum 연산했구나. 결국 axis=0 같은 역할 아니야? \n",
    "    #응 아니야 []안하면 행으로 ndarray 만들어지니까\n",
    "    \n",
    "    # 평점*유사도/유사도합-각 아이템.\n",
    "    return rating_pred\n",
    "\n",
    "\n",
    "#먼저 사용자가 이미 평점을 준 영화를 제외하고 추천할 수 있도록\n",
    "#평점을 주지 않은 영화를 리스트 객체로 반환하는 함수인 get_unseen_movies()를 생성합니다.\n",
    "\n",
    "def get_unseen_movies(rating_df, userId): # 매개 사용자가 점수주지 않은 아이템 반환\n",
    "    print('()', rating_df)\n",
    "    \n",
    "    all_menu_list = get_menu_list() #모든 메뉴 리스트 반환\n",
    "    print(all_menu_list)\n",
    "\n",
    "    #rating_item_list = rating_item_df.values.tolist()\n",
    "    user_ordered_these_item = rating_df[ rating_df['userid']==userId ].values.tolist()\n",
    "    print('user_ordered_these_item',user_ordered_these_item)\n",
    "    \n",
    "    if len(user_ordered_these_item) == 0:\n",
    "        return None\n",
    "    \n",
    "    not_in_orderList = [x for x in all_menu_list if x not in user_ordered_these_item]\n",
    "                        #rating_df['itemid'].values.tolist() 수정해야 한다\n",
    "    \n",
    "    return not_int_orderList\n",
    "    \n",
    "\n",
    "def recomm_movie_by_userid(pred_df, userId, unseen_list, top_n=10):\n",
    "    #예측 평점 DataFrame에서 사용자id 인덱스와 unseen_list로 들어온 영화명 칼럼을 추출해\n",
    "    #가장 예측 평점이 높은 순으로 정렬한다\n",
    "    recomm_movies = pred_df.loc[userId, unseen_list].sort_values(ascending=False)[:top_n]\n",
    "    \n",
    "    return recomm_movies"
   ]
  },
  {
   "cell_type": "code",
   "execution_count": 15,
   "metadata": {},
   "outputs": [
    {
     "data": {
      "text/html": [
       "<div>\n",
       "<style scoped>\n",
       "    .dataframe tbody tr th:only-of-type {\n",
       "        vertical-align: middle;\n",
       "    }\n",
       "\n",
       "    .dataframe tbody tr th {\n",
       "        vertical-align: top;\n",
       "    }\n",
       "\n",
       "    .dataframe thead th {\n",
       "        text-align: right;\n",
       "    }\n",
       "</style>\n",
       "<table border=\"1\" class=\"dataframe\">\n",
       "  <thead>\n",
       "    <tr style=\"text-align: right;\">\n",
       "      <th>itemid</th>\n",
       "      <th>라떼</th>\n",
       "      <th>삼계탕</th>\n",
       "      <th>아메리카노</th>\n",
       "    </tr>\n",
       "    <tr>\n",
       "      <th>userid</th>\n",
       "      <th></th>\n",
       "      <th></th>\n",
       "      <th></th>\n",
       "    </tr>\n",
       "  </thead>\n",
       "  <tbody>\n",
       "    <tr>\n",
       "      <th>0</th>\n",
       "      <td>1.460499</td>\n",
       "      <td>1.539501</td>\n",
       "      <td>0.0</td>\n",
       "    </tr>\n",
       "    <tr>\n",
       "      <th>1</th>\n",
       "      <td>0.000000</td>\n",
       "      <td>0.000000</td>\n",
       "      <td>5.0</td>\n",
       "    </tr>\n",
       "    <tr>\n",
       "      <th>2</th>\n",
       "      <td>9.000000</td>\n",
       "      <td>9.000000</td>\n",
       "      <td>0.0</td>\n",
       "    </tr>\n",
       "    <tr>\n",
       "      <th>3</th>\n",
       "      <td>0.000000</td>\n",
       "      <td>0.000000</td>\n",
       "      <td>9.0</td>\n",
       "    </tr>\n",
       "  </tbody>\n",
       "</table>\n",
       "</div>"
      ],
      "text/plain": [
       "itemid        라떼       삼계탕  아메리카노\n",
       "userid                           \n",
       "0       1.460499  1.539501    0.0\n",
       "1       0.000000  0.000000    5.0\n",
       "2       9.000000  9.000000    0.0\n",
       "3       0.000000  0.000000    9.0"
      ]
     },
     "execution_count": 15,
     "metadata": {},
     "output_type": "execute_result"
    }
   ],
   "source": [
    "ratings_pred = ratings_matrix.values.dot(item_sim_df.values)/np.array([np.abs(item_sim_df.values).sum(axis=1)])\n",
    "\n",
    "ratings_pred_matrix = pd.DataFrame(data=ratings_pred, index=ratings_matrix.index, columns=ratings_matrix.columns)\n",
    "\n",
    "ratings_pred_matrix  # 선호도 DF ?\n"
   ]
  },
  {
   "cell_type": "code",
   "execution_count": 46,
   "metadata": {},
   "outputs": [
    {
     "data": {
      "text/plain": [
       "['라떼', '아메리카노']"
      ]
     },
     "execution_count": 46,
     "metadata": {},
     "output_type": "execute_result"
    }
   ],
   "source": [
    "##  def get_unseen_movies(rating_df, userId): # 매개 사용자가 점수주지 않은 아이템 반환\n",
    "#all_menu_list = get_menu_list() #모든 메뉴 리스트 반환\n",
    "\n",
    "#rint(ratings_matrix_T[user_id].index.values.tolist()) #사용자 주문 내역\n",
    "user_id = 0 ## 매개\n",
    "\n",
    "user_rating = ratings_matrix.loc[user_id,:] # 그래서 슬라이싱을 했구나\n",
    "already_ordered = user_rating[user_rating>0].index.tolist()\n",
    "#already_ordered\n",
    "order_list = ratings_matrix.columns.tolist() # 전체 메뉴판에서 가져올 필요가 없다 계산못하니까\n",
    "#movies_list\n",
    "unordered_list = [item for item in order_list if item not in already_ordered]\n",
    "#unordered_list"
   ]
  },
  {
   "cell_type": "code",
   "execution_count": null,
   "metadata": {},
   "outputs": [],
   "source": []
  },
  {
   "cell_type": "code",
   "execution_count": 49,
   "metadata": {},
   "outputs": [
    {
     "data": {
      "text/plain": [
       "itemid\n",
       "라떼    1.460499\n",
       "Name: 0, dtype: float64"
      ]
     },
     "execution_count": 49,
     "metadata": {},
     "output_type": "execute_result"
    }
   ],
   "source": [
    "if not_in_orderList is []:\n",
    "    print('해당 사용자는 모든 아이템을 주문하였습니다')\n",
    "\n",
    "else:\n",
    "\n",
    "    \n",
    "    top_n=1\n",
    "   # print(ratings_pred_matrix.loc[user_id, not_in_orderList])\n",
    "    #recomm_movies = recomm_movie_by_userid(ratings_pred_matrix, user_id, not_in_orderList, top_n=1)\n",
    "    \n",
    "    recomm_movies = ratings_pred_matrix.loc[user_id, unordered_list].sort_values(ascending=False)[:top_n]\n",
    "recomm_movies"
   ]
  },
  {
   "cell_type": "code",
   "execution_count": null,
   "metadata": {},
   "outputs": [],
   "source": [
    "\n",
    "\n",
    "## 끝"
   ]
  },
  {
   "cell_type": "code",
   "execution_count": null,
   "metadata": {},
   "outputs": [],
   "source": []
  }
 ],
 "metadata": {
  "kernelspec": {
   "display_name": "Python 3",
   "language": "python",
   "name": "python3"
  },
  "language_info": {
   "codemirror_mode": {
    "name": "ipython",
    "version": 3
   },
   "file_extension": ".py",
   "mimetype": "text/x-python",
   "name": "python",
   "nbconvert_exporter": "python",
   "pygments_lexer": "ipython3",
   "version": "3.6.9"
  }
 },
 "nbformat": 4,
 "nbformat_minor": 2
}
