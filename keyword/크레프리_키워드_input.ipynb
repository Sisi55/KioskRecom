{
 "cells": [
  {
   "cell_type": "code",
   "execution_count": 1,
   "metadata": {},
   "outputs": [
    {
     "data": {
      "text/plain": [
       "<firebase_admin.App at 0x20e446b8978>"
      ]
     },
     "execution_count": 1,
     "metadata": {},
     "output_type": "execute_result"
    }
   ],
   "source": [
    "import firebase_admin\n",
    "from firebase_admin import credentials\n",
    "from firebase_admin import firestore\n",
    "import pandas as pd\n",
    "import numpy as np\n",
    "from sklearn.preprocessing import LabelEncoder\n",
    "from sklearn.metrics.pairwise import cosine_similarity\n",
    "\n",
    "cred = credentials.Certificate('kiosk-firestore-jnsy-bcfe4-firebase-adminsdk-269q4-4a795774bb.json')\n",
    "firebase_admin.initialize_app(cred)"
   ]
  },
  {
   "cell_type": "code",
   "execution_count": 2,
   "metadata": {},
   "outputs": [],
   "source": [
    "class Item(object):\n",
    "    def __init__(self, name, keywords):\n",
    "        self.name = name # 아이템 이름\n",
    "        self.keywords = keywords # 키워드들\n",
    "        \n",
    "    \n",
    "    def to_dict(self):\n",
    "        \n",
    "        dest = {\n",
    "            u'name': self.name,\n",
    "            u'keywords': self.keywords,\n",
    "        }\n",
    "\n",
    "        return dest"
   ]
  },
  {
   "cell_type": "code",
   "execution_count": 3,
   "metadata": {},
   "outputs": [
    {
     "data": {
      "text/plain": [
       "(seconds: 1571819151\n",
       " nanos: 848889000,\n",
       " <google.cloud.firestore_v1.document.DocumentReference at 0x20e460f9a58>)"
      ]
     },
     "execution_count": 3,
     "metadata": {},
     "output_type": "execute_result"
    }
   ],
   "source": [
    "# 복붙\n",
    "item = Item(name=u'딸기라떼', keywords=['3800','주스','라떼','우유','달달','과일','딸기'])\n",
    "firestore.client().collection(u'cre_keywords').add(item.to_dict())"
   ]
  },
  {
   "cell_type": "code",
   "execution_count": 4,
   "metadata": {},
   "outputs": [
    {
     "data": {
      "text/plain": [
       "(seconds: 1571819179\n",
       " nanos: 85480000,\n",
       " <google.cloud.firestore_v1.document.DocumentReference at 0x20e44bb0278>)"
      ]
     },
     "execution_count": 4,
     "metadata": {},
     "output_type": "execute_result"
    }
   ],
   "source": [
    "item = Item(name=u'돌체라떼', keywords=['3800','카페인','라떼','우유','달달'])\n",
    "firestore.client().collection(u'cre_keywords').add(item.to_dict())"
   ]
  },
  {
   "cell_type": "code",
   "execution_count": 5,
   "metadata": {},
   "outputs": [
    {
     "data": {
      "text/plain": [
       "(seconds: 1571819179\n",
       " nanos: 809434000,\n",
       " <google.cloud.firestore_v1.document.DocumentReference at 0x20e496e45f8>)"
      ]
     },
     "execution_count": 5,
     "metadata": {},
     "output_type": "execute_result"
    }
   ],
   "source": [
    "item = Item(name=u'얼그레이 밀크티', keywords=['4300','주스','밀크티','우유','담백'])\n",
    "firestore.client().collection(u'cre_keywords').add(item.to_dict())"
   ]
  },
  {
   "cell_type": "code",
   "execution_count": 6,
   "metadata": {},
   "outputs": [
    {
     "data": {
      "text/plain": [
       "(seconds: 1571819180\n",
       " nanos: 731667000,\n",
       " <google.cloud.firestore_v1.document.DocumentReference at 0x20e445f0c50>)"
      ]
     },
     "execution_count": 6,
     "metadata": {},
     "output_type": "execute_result"
    }
   ],
   "source": [
    "item = Item(name=u'연유 밀크티', keywords=['4300','주스','밀크티','우유','달달'])\n",
    "firestore.client().collection(u'cre_keywords').add(item.to_dict())"
   ]
  },
  {
   "cell_type": "code",
   "execution_count": 7,
   "metadata": {},
   "outputs": [
    {
     "data": {
      "text/plain": [
       "(seconds: 1571819182\n",
       " nanos: 686790000,\n",
       " <google.cloud.firestore_v1.document.DocumentReference at 0x20e49705b38>)"
      ]
     },
     "execution_count": 7,
     "metadata": {},
     "output_type": "execute_result"
    }
   ],
   "source": [
    "item = Item(name=u'레몬 홍차', keywords=['4300','카페인','차','물','담백','레몬'])\n",
    "firestore.client().collection(u'cre_keywords').add(item.to_dict())"
   ]
  },
  {
   "cell_type": "code",
   "execution_count": 8,
   "metadata": {},
   "outputs": [
    {
     "data": {
      "text/plain": [
       "(seconds: 1571819183\n",
       " nanos: 694616000,\n",
       " <google.cloud.firestore_v1.document.DocumentReference at 0x20e497059e8>)"
      ]
     },
     "execution_count": 8,
     "metadata": {},
     "output_type": "execute_result"
    }
   ],
   "source": [
    "item = Item(name=u'딸기 에이드', keywords=['3800','주스','에이드','탄산','달달','과일','딸기'])\n",
    "firestore.client().collection(u'cre_keywords').add(item.to_dict())"
   ]
  },
  {
   "cell_type": "code",
   "execution_count": 9,
   "metadata": {},
   "outputs": [
    {
     "data": {
      "text/plain": [
       "(seconds: 1571819184\n",
       " nanos: 704992000,\n",
       " <google.cloud.firestore_v1.document.DocumentReference at 0x20e461c4438>)"
      ]
     },
     "execution_count": 9,
     "metadata": {},
     "output_type": "execute_result"
    }
   ],
   "source": [
    "item = Item(name=u'백향과 에이드', keywords=['3800','주스','에이드','탄산','달달','과일'\t])\n",
    "firestore.client().collection(u'cre_keywords').add(item.to_dict())"
   ]
  },
  {
   "cell_type": "code",
   "execution_count": 10,
   "metadata": {},
   "outputs": [
    {
     "data": {
      "text/plain": [
       "(seconds: 1571819185\n",
       " nanos: 388536000,\n",
       " <google.cloud.firestore_v1.document.DocumentReference at 0x20e446b8320>)"
      ]
     },
     "execution_count": 10,
     "metadata": {},
     "output_type": "execute_result"
    }
   ],
   "source": [
    "item = Item(name=u'청귤 에이드', keywords=['3800','주스','에이드','탄산','달달','과일'])\n",
    "firestore.client().collection(u'cre_keywords').add(item.to_dict())"
   ]
  },
  {
   "cell_type": "code",
   "execution_count": 11,
   "metadata": {},
   "outputs": [
    {
     "data": {
      "text/plain": [
       "(seconds: 1571819186\n",
       " nanos: 159567000,\n",
       " <google.cloud.firestore_v1.document.DocumentReference at 0x20e497056a0>)"
      ]
     },
     "execution_count": 11,
     "metadata": {},
     "output_type": "execute_result"
    }
   ],
   "source": [
    "item = Item(name=u'레몬 에이드', keywords=['3800','주스','에이드','탄산','달달','과일'])\n",
    "firestore.client().collection(u'cre_keywords').add(item.to_dict())"
   ]
  },
  {
   "cell_type": "code",
   "execution_count": 12,
   "metadata": {},
   "outputs": [
    {
     "data": {
      "text/plain": [
       "(seconds: 1571819187\n",
       " nanos: 8031000,\n",
       " <google.cloud.firestore_v1.document.DocumentReference at 0x20e446b83c8>)"
      ]
     },
     "execution_count": 12,
     "metadata": {},
     "output_type": "execute_result"
    }
   ],
   "source": [
    "item = Item(name=u'생강차', keywords=['3300','주스','차','물','달달','청량감'\t])\n",
    "firestore.client().collection(u'cre_keywords').add(item.to_dict())"
   ]
  },
  {
   "cell_type": "code",
   "execution_count": 13,
   "metadata": {},
   "outputs": [
    {
     "data": {
      "text/plain": [
       "(seconds: 1571819187\n",
       " nanos: 690102000,\n",
       " <google.cloud.firestore_v1.document.DocumentReference at 0x20e4490c160>)"
      ]
     },
     "execution_count": 13,
     "metadata": {},
     "output_type": "execute_result"
    }
   ],
   "source": [
    "item = Item(name=u'유자차', keywords=['3300','주스','차','물','달달','과일'\t])\n",
    "firestore.client().collection(u'cre_keywords').add(item.to_dict())"
   ]
  },
  {
   "cell_type": "code",
   "execution_count": 14,
   "metadata": {},
   "outputs": [
    {
     "data": {
      "text/plain": [
       "(seconds: 1571819188\n",
       " nanos: 358114000,\n",
       " <google.cloud.firestore_v1.document.DocumentReference at 0x20e49679e80>)"
      ]
     },
     "execution_count": 14,
     "metadata": {},
     "output_type": "execute_result"
    }
   ],
   "source": [
    "item = Item(name=u'레몬차', keywords=['3300','주스','차','물','달달','과일','레몬'])\n",
    "firestore.client().collection(u'cre_keywords').add(item.to_dict())"
   ]
  },
  {
   "cell_type": "code",
   "execution_count": 15,
   "metadata": {},
   "outputs": [
    {
     "data": {
      "text/plain": [
       "(seconds: 1571819189\n",
       " nanos: 303470000,\n",
       " <google.cloud.firestore_v1.document.DocumentReference at 0x20e446b8630>)"
      ]
     },
     "execution_count": 15,
     "metadata": {},
     "output_type": "execute_result"
    }
   ],
   "source": [
    "item = Item(name=u'아메리카노', keywords=['3800','카페인','물','담백'\t])\n",
    "firestore.client().collection(u'cre_keywords').add(item.to_dict())"
   ]
  },
  {
   "cell_type": "code",
   "execution_count": 16,
   "metadata": {},
   "outputs": [
    {
     "data": {
      "text/plain": [
       "(seconds: 1571819190\n",
       " nanos: 71684000,\n",
       " <google.cloud.firestore_v1.document.DocumentReference at 0x20e49712400>)"
      ]
     },
     "execution_count": 16,
     "metadata": {},
     "output_type": "execute_result"
    }
   ],
   "source": [
    "item = Item(name=u'카페라떼', keywords=['3800','카페인','라떼','우유','담백'])\n",
    "firestore.client().collection(u'cre_keywords').add(item.to_dict())"
   ]
  },
  {
   "cell_type": "code",
   "execution_count": 17,
   "metadata": {},
   "outputs": [
    {
     "data": {
      "text/plain": [
       "(seconds: 1571819190\n",
       " nanos: 732434000,\n",
       " <google.cloud.firestore_v1.document.DocumentReference at 0x20e49705630>)"
      ]
     },
     "execution_count": 17,
     "metadata": {},
     "output_type": "execute_result"
    }
   ],
   "source": [
    "item = Item(name=u'바닐라 라떼', keywords=['4500','카페인','라떼','우유','달달','바닐라'\t])\n",
    "firestore.client().collection(u'cre_keywords').add(item.to_dict())"
   ]
  },
  {
   "cell_type": "code",
   "execution_count": 18,
   "metadata": {},
   "outputs": [
    {
     "data": {
      "text/plain": [
       "(seconds: 1571819191\n",
       " nanos: 680317000,\n",
       " <google.cloud.firestore_v1.document.DocumentReference at 0x20e446b85f8>)"
      ]
     },
     "execution_count": 18,
     "metadata": {},
     "output_type": "execute_result"
    }
   ],
   "source": [
    "item = Item(name=u'헤이즐넛 라떼', keywords=['4500','카페인','라떼','우유','달달'])\n",
    "firestore.client().collection(u'cre_keywords').add(item.to_dict())"
   ]
  },
  {
   "cell_type": "code",
   "execution_count": 19,
   "metadata": {},
   "outputs": [
    {
     "data": {
      "text/plain": [
       "(seconds: 1571819192\n",
       " nanos: 288306000,\n",
       " <google.cloud.firestore_v1.document.DocumentReference at 0x20e497127b8>)"
      ]
     },
     "execution_count": 19,
     "metadata": {},
     "output_type": "execute_result"
    }
   ],
   "source": [
    "item = Item(name=u'카페모카', keywords=['4500','카페인','라떼','우유','달달','모카'])\n",
    "firestore.client().collection(u'cre_keywords').add(item.to_dict())"
   ]
  },
  {
   "cell_type": "code",
   "execution_count": 20,
   "metadata": {},
   "outputs": [
    {
     "data": {
      "text/plain": [
       "(seconds: 1571819192\n",
       " nanos: 951759000,\n",
       " <google.cloud.firestore_v1.document.DocumentReference at 0x20e49712908>)"
      ]
     },
     "execution_count": 20,
     "metadata": {},
     "output_type": "execute_result"
    }
   ],
   "source": [
    "item = Item(name=u'카라멜 마끼아또', keywords=['4500','카페인','라떼','우유','달달'])\n",
    "firestore.client().collection(u'cre_keywords').add(item.to_dict())"
   ]
  },
  {
   "cell_type": "code",
   "execution_count": 21,
   "metadata": {},
   "outputs": [
    {
     "data": {
      "text/plain": [
       "(seconds: 1571819193\n",
       " nanos: 859398000,\n",
       " <google.cloud.firestore_v1.document.DocumentReference at 0x20e49712c50>)"
      ]
     },
     "execution_count": 21,
     "metadata": {},
     "output_type": "execute_result"
    }
   ],
   "source": [
    "item = Item(name=u'복숭아 아이스티', keywords=['3000','주스','아이스티','물','달달','과일'\t])\n",
    "firestore.client().collection(u'cre_keywords').add(item.to_dict())"
   ]
  },
  {
   "cell_type": "code",
   "execution_count": 22,
   "metadata": {},
   "outputs": [
    {
     "data": {
      "text/plain": [
       "(seconds: 1571819194\n",
       " nanos: 575200000,\n",
       " <google.cloud.firestore_v1.document.DocumentReference at 0x20e49712358>)"
      ]
     },
     "execution_count": 22,
     "metadata": {},
     "output_type": "execute_result"
    }
   ],
   "source": [
    "item = Item(name=u'망고 아이스티', keywords=['3000','주스','아이스티','물','달달','과일'\t])\n",
    "firestore.client().collection(u'cre_keywords').add(item.to_dict())"
   ]
  },
  {
   "cell_type": "code",
   "execution_count": 23,
   "metadata": {},
   "outputs": [
    {
     "data": {
      "text/plain": [
       "(seconds: 1571819195\n",
       " nanos: 267958000,\n",
       " <google.cloud.firestore_v1.document.DocumentReference at 0x20e45c6af28>)"
      ]
     },
     "execution_count": 23,
     "metadata": {},
     "output_type": "execute_result"
    }
   ],
   "source": [
    "item = Item(name=u'요거트 스무디', keywords=['4800','주스','스무디','얼음','달달'])\n",
    "firestore.client().collection(u'cre_keywords').add(item.to_dict())"
   ]
  },
  {
   "cell_type": "code",
   "execution_count": 24,
   "metadata": {},
   "outputs": [
    {
     "data": {
      "text/plain": [
       "(seconds: 1571819196\n",
       " nanos: 313710000,\n",
       " <google.cloud.firestore_v1.document.DocumentReference at 0x20e49712eb8>)"
      ]
     },
     "execution_count": 24,
     "metadata": {},
     "output_type": "execute_result"
    }
   ],
   "source": [
    "item = Item(name=u'딸기 스무디', keywords=['4800','주스','스무디','얼음','달달','과일','딸기'])\n",
    "firestore.client().collection(u'cre_keywords').add(item.to_dict())"
   ]
  },
  {
   "cell_type": "code",
   "execution_count": 25,
   "metadata": {},
   "outputs": [
    {
     "data": {
      "text/plain": [
       "(seconds: 1571819197\n",
       " nanos: 143350000,\n",
       " <google.cloud.firestore_v1.document.DocumentReference at 0x20e49712e10>)"
      ]
     },
     "execution_count": 25,
     "metadata": {},
     "output_type": "execute_result"
    }
   ],
   "source": [
    "item = Item(name=u'트리플베리 스무디', keywords=['4800','주스','스무디','얼음','달달','과일'])\n",
    "firestore.client().collection(u'cre_keywords').add(item.to_dict())"
   ]
  },
  {
   "cell_type": "code",
   "execution_count": 26,
   "metadata": {},
   "outputs": [
    {
     "data": {
      "text/plain": [
       "(seconds: 1571819198\n",
       " nanos: 90911000,\n",
       " <google.cloud.firestore_v1.document.DocumentReference at 0x20e49705f60>)"
      ]
     },
     "execution_count": 26,
     "metadata": {},
     "output_type": "execute_result"
    }
   ],
   "source": [
    "item = Item(name=u'망고 스무디', keywords=['4800','주스','스무디','얼음','달달','과일'\t])\n",
    "firestore.client().collection(u'cre_keywords').add(item.to_dict())"
   ]
  },
  {
   "cell_type": "code",
   "execution_count": 27,
   "metadata": {},
   "outputs": [
    {
     "data": {
      "text/plain": [
       "(seconds: 1571819198\n",
       " nanos: 751264000,\n",
       " <google.cloud.firestore_v1.document.DocumentReference at 0x20e49738320>)"
      ]
     },
     "execution_count": 27,
     "metadata": {},
     "output_type": "execute_result"
    }
   ],
   "source": [
    "item = Item(name=u'오레오 프라페', keywords=['4800','카페인','프라페','우유','달달'])\n",
    "firestore.client().collection(u'cre_keywords').add(item.to_dict())"
   ]
  },
  {
   "cell_type": "code",
   "execution_count": 28,
   "metadata": {},
   "outputs": [
    {
     "data": {
      "text/plain": [
       "(seconds: 1571819199\n",
       " nanos: 423751000,\n",
       " <google.cloud.firestore_v1.document.DocumentReference at 0x20e497385f8>)"
      ]
     },
     "execution_count": 28,
     "metadata": {},
     "output_type": "execute_result"
    }
   ],
   "source": [
    "item = Item(name=u'그린티 프라페', keywords=['4800','카페인','프라페','우유','달달'])\n",
    "firestore.client().collection(u'cre_keywords').add(item.to_dict())"
   ]
  },
  {
   "cell_type": "code",
   "execution_count": 29,
   "metadata": {},
   "outputs": [
    {
     "data": {
      "text/plain": [
       "(seconds: 1571819200\n",
       " nanos: 34687000,\n",
       " <google.cloud.firestore_v1.document.DocumentReference at 0x20e49712b00>)"
      ]
     },
     "execution_count": 29,
     "metadata": {},
     "output_type": "execute_result"
    }
   ],
   "source": [
    "item = Item(name=u'민트초코 프라페', keywords=['4800','카페인','프라페','우유','달달'])\n",
    "firestore.client().collection(u'cre_keywords').add(item.to_dict())"
   ]
  },
  {
   "cell_type": "code",
   "execution_count": 30,
   "metadata": {},
   "outputs": [
    {
     "data": {
      "text/plain": [
       "(seconds: 1571819200\n",
       " nanos: 651573000,\n",
       " <google.cloud.firestore_v1.document.DocumentReference at 0x20e497120b8>)"
      ]
     },
     "execution_count": 30,
     "metadata": {},
     "output_type": "execute_result"
    }
   ],
   "source": [
    "item = Item(name=u'모카 프라페', keywords=['4800','카페인','프라페','우유','달달','모카'])\n",
    "firestore.client().collection(u'cre_keywords').add(item.to_dict())"
   ]
  },
  {
   "cell_type": "code",
   "execution_count": 31,
   "metadata": {},
   "outputs": [
    {
     "data": {
      "text/plain": [
       "(seconds: 1571819201\n",
       " nanos: 279851000,\n",
       " <google.cloud.firestore_v1.document.DocumentReference at 0x20e446b8550>)"
      ]
     },
     "execution_count": 31,
     "metadata": {},
     "output_type": "execute_result"
    }
   ],
   "source": [
    "item = Item(name=u'바닐라 프라페', keywords=['4800','카페인','프라페','우유','달달','바닐라'])\n",
    "firestore.client().collection(u'cre_keywords').add(item.to_dict())"
   ]
  },
  {
   "cell_type": "code",
   "execution_count": null,
   "metadata": {},
   "outputs": [],
   "source": [
    "###"
   ]
  },
  {
   "cell_type": "code",
   "execution_count": null,
   "metadata": {},
   "outputs": [],
   "source": []
  },
  {
   "cell_type": "code",
   "execution_count": null,
   "metadata": {},
   "outputs": [],
   "source": []
  },
  {
   "cell_type": "code",
   "execution_count": null,
   "metadata": {},
   "outputs": [],
   "source": []
  }
 ],
 "metadata": {
  "kernelspec": {
   "display_name": "Python 3",
   "language": "python",
   "name": "python3"
  },
  "language_info": {
   "codemirror_mode": {
    "name": "ipython",
    "version": 3
   },
   "file_extension": ".py",
   "mimetype": "text/x-python",
   "name": "python",
   "nbconvert_exporter": "python",
   "pygments_lexer": "ipython3",
   "version": "3.6.9"
  }
 },
 "nbformat": 4,
 "nbformat_minor": 2
}
