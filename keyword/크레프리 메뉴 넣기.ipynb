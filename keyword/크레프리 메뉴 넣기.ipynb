{
 "cells": [
  {
   "cell_type": "code",
   "execution_count": 1,
   "metadata": {},
   "outputs": [
    {
     "data": {
      "text/plain": [
       "<firebase_admin.App at 0x20d00b889b0>"
      ]
     },
     "execution_count": 1,
     "metadata": {},
     "output_type": "execute_result"
    }
   ],
   "source": [
    "import firebase_admin\n",
    "from firebase_admin import credentials\n",
    "from firebase_admin import firestore\n",
    "import pandas as pd\n",
    "import numpy as np\n",
    "from sklearn.preprocessing import LabelEncoder\n",
    "from sklearn.metrics.pairwise import cosine_similarity\n",
    "\n",
    "cred = credentials.Certificate('kiosk-firestore-jnsy-bcfe4-firebase-adminsdk-269q4-4a795774bb.json')\n",
    "firebase_admin.initialize_app(cred)"
   ]
  },
  {
   "cell_type": "code",
   "execution_count": 2,
   "metadata": {},
   "outputs": [],
   "source": [
    "class Item(object):\n",
    "    def __init__(self, keywordSimiliar,name,price):        \n",
    "        self.body = \"상세설명\" \n",
    "        self.imageUrl = 'https://firebasestorage.googleapis.com/v0/b/kiosk-firestore-jnsy-bcfe4.appspot.com/o/cre%2Fmain.png?alt=media&token=bab040a0-03dd-4dda-a8c4-6f54ffd6ddd9'\n",
    "        self.keywordSimiliar = keywordSimiliar\n",
    "        self.name = name\n",
    "        self.price = price\n",
    "        \n",
    "    \n",
    "    def to_dict(self):\n",
    "        \n",
    "        dest = {\n",
    "            u'body': self.body,\n",
    "            u'imageUrl': self.imageUrl,\n",
    "            u'keywordSimiliar': self.keywordSimiliar,\n",
    "            u'name': self.name,\n",
    "            u'price': self.price,\n",
    "        }\n",
    "\n",
    "        return dest"
   ]
  },
  {
   "cell_type": "code",
   "execution_count": 3,
   "metadata": {},
   "outputs": [
    {
     "data": {
      "text/plain": [
       "(seconds: 1571822183\n",
       " nanos: 235111000,\n",
       " <google.cloud.firestore_v1.document.DocumentReference at 0x20d025c8a58>)"
      ]
     },
     "execution_count": 3,
     "metadata": {},
     "output_type": "execute_result"
    }
   ],
   "source": [
    "item = Item(name=u'딸기라떼',price=3800,keywordSimiliar=u'딸기 에이드')\n",
    "firestore.client().collection(u'cre_menu').add(item.to_dict())"
   ]
  },
  {
   "cell_type": "code",
   "execution_count": 4,
   "metadata": {},
   "outputs": [
    {
     "data": {
      "text/plain": [
       "(seconds: 1571822183\n",
       " nanos: 972140000,\n",
       " <google.cloud.firestore_v1.document.DocumentReference at 0x20d05d01358>)"
      ]
     },
     "execution_count": 4,
     "metadata": {},
     "output_type": "execute_result"
    }
   ],
   "source": [
    "item = Item(name=u'돌체라떼',price=3800,keywordSimiliar=u'헤이즐넛 라떼')\n",
    "firestore.client().collection(u'cre_menu').add(item.to_dict())"
   ]
  },
  {
   "cell_type": "code",
   "execution_count": 5,
   "metadata": {},
   "outputs": [
    {
     "data": {
      "text/plain": [
       "(seconds: 1571822184\n",
       " nanos: 754505000,\n",
       " <google.cloud.firestore_v1.document.DocumentReference at 0x20d02c48898>)"
      ]
     },
     "execution_count": 5,
     "metadata": {},
     "output_type": "execute_result"
    }
   ],
   "source": [
    "item = Item(name=u'얼그레이 밀크티',price=4300,keywordSimiliar=u'연유 밀크티')\n",
    "firestore.client().collection(u'cre_menu').add(item.to_dict())"
   ]
  },
  {
   "cell_type": "code",
   "execution_count": 6,
   "metadata": {},
   "outputs": [
    {
     "data": {
      "text/plain": [
       "(seconds: 1571822185\n",
       " nanos: 817466000,\n",
       " <google.cloud.firestore_v1.document.DocumentReference at 0x20d05c99dd8>)"
      ]
     },
     "execution_count": 6,
     "metadata": {},
     "output_type": "execute_result"
    }
   ],
   "source": [
    "item = Item(name=u'연유 밀크티',price=4300,keywordSimiliar=u'얼그레이 밀크티')\n",
    "firestore.client().collection(u'cre_menu').add(item.to_dict())"
   ]
  },
  {
   "cell_type": "code",
   "execution_count": 7,
   "metadata": {},
   "outputs": [
    {
     "data": {
      "text/plain": [
       "(seconds: 1571822186\n",
       " nanos: 609386000,\n",
       " <google.cloud.firestore_v1.document.DocumentReference at 0x20d05d23f60>)"
      ]
     },
     "execution_count": 7,
     "metadata": {},
     "output_type": "execute_result"
    }
   ],
   "source": [
    "item = Item(name=u'레몬 홍차',price=4300,keywordSimiliar=u'아메리카노')\n",
    "firestore.client().collection(u'cre_menu').add(item.to_dict())"
   ]
  },
  {
   "cell_type": "code",
   "execution_count": 8,
   "metadata": {},
   "outputs": [
    {
     "data": {
      "text/plain": [
       "(seconds: 1571822187\n",
       " nanos: 337344000,\n",
       " <google.cloud.firestore_v1.document.DocumentReference at 0x20d00b88550>)"
      ]
     },
     "execution_count": 8,
     "metadata": {},
     "output_type": "execute_result"
    }
   ],
   "source": [
    "item = Item(name=u'딸기 에이드',price=3800,keywordSimiliar=u'청귤 에이드')\n",
    "firestore.client().collection(u'cre_menu').add(item.to_dict())"
   ]
  },
  {
   "cell_type": "code",
   "execution_count": 9,
   "metadata": {},
   "outputs": [
    {
     "data": {
      "text/plain": [
       "(seconds: 1571822188\n",
       " nanos: 64654000,\n",
       " <google.cloud.firestore_v1.document.DocumentReference at 0x20d05d23588>)"
      ]
     },
     "execution_count": 9,
     "metadata": {},
     "output_type": "execute_result"
    }
   ],
   "source": [
    "item = Item(name=u'백향과 에이드',price=3800,keywordSimiliar=u'청귤 에이드')\n",
    "firestore.client().collection(u'cre_menu').add(item.to_dict())"
   ]
  },
  {
   "cell_type": "code",
   "execution_count": 10,
   "metadata": {},
   "outputs": [
    {
     "data": {
      "text/plain": [
       "(seconds: 1571822188\n",
       " nanos: 856368000,\n",
       " <google.cloud.firestore_v1.document.DocumentReference at 0x20d05d23da0>)"
      ]
     },
     "execution_count": 10,
     "metadata": {},
     "output_type": "execute_result"
    }
   ],
   "source": [
    "item = Item(name=u'청귤 에이드',price=3800,keywordSimiliar=u'레몬 에이드')\n",
    "firestore.client().collection(u'cre_menu').add(item.to_dict())"
   ]
  },
  {
   "cell_type": "code",
   "execution_count": 11,
   "metadata": {},
   "outputs": [
    {
     "data": {
      "text/plain": [
       "(seconds: 1571822189\n",
       " nanos: 673789000,\n",
       " <google.cloud.firestore_v1.document.DocumentReference at 0x20d00b88898>)"
      ]
     },
     "execution_count": 11,
     "metadata": {},
     "output_type": "execute_result"
    }
   ],
   "source": [
    "item = Item(name=u'레몬 에이드',price=3800,keywordSimiliar=u'청귤 에이드')\n",
    "firestore.client().collection(u'cre_menu').add(item.to_dict())"
   ]
  },
  {
   "cell_type": "code",
   "execution_count": 12,
   "metadata": {},
   "outputs": [
    {
     "data": {
      "text/plain": [
       "(seconds: 1571822190\n",
       " nanos: 380509000,\n",
       " <google.cloud.firestore_v1.document.DocumentReference at 0x20d00b88828>)"
      ]
     },
     "execution_count": 12,
     "metadata": {},
     "output_type": "execute_result"
    }
   ],
   "source": [
    "item = Item(name=u'생강차',price=3300,keywordSimiliar=u'유자차')\n",
    "firestore.client().collection(u'cre_menu').add(item.to_dict())"
   ]
  },
  {
   "cell_type": "code",
   "execution_count": 13,
   "metadata": {},
   "outputs": [
    {
     "data": {
      "text/plain": [
       "(seconds: 1571822191\n",
       " nanos: 92482000,\n",
       " <google.cloud.firestore_v1.document.DocumentReference at 0x20d00b88630>)"
      ]
     },
     "execution_count": 13,
     "metadata": {},
     "output_type": "execute_result"
    }
   ],
   "source": [
    "item = Item(name=u'유자차',price=3300,keywordSimiliar=u'레몬차')\n",
    "firestore.client().collection(u'cre_menu').add(item.to_dict())"
   ]
  },
  {
   "cell_type": "code",
   "execution_count": 14,
   "metadata": {},
   "outputs": [
    {
     "data": {
      "text/plain": [
       "(seconds: 1571822191\n",
       " nanos: 663272000,\n",
       " <google.cloud.firestore_v1.document.DocumentReference at 0x20d05c99e48>)"
      ]
     },
     "execution_count": 14,
     "metadata": {},
     "output_type": "execute_result"
    }
   ],
   "source": [
    "item = Item(name=u'레몬차',price=3300,keywordSimiliar=u'유자차')\n",
    "firestore.client().collection(u'cre_menu').add(item.to_dict())"
   ]
  },
  {
   "cell_type": "code",
   "execution_count": 15,
   "metadata": {},
   "outputs": [
    {
     "data": {
      "text/plain": [
       "(seconds: 1571822192\n",
       " nanos: 331285000,\n",
       " <google.cloud.firestore_v1.document.DocumentReference at 0x20d05c99d68>)"
      ]
     },
     "execution_count": 15,
     "metadata": {},
     "output_type": "execute_result"
    }
   ],
   "source": [
    "item = Item(name=u'아메리카노',price=3800,keywordSimiliar=u'카페라떼')\n",
    "firestore.client().collection(u'cre_menu').add(item.to_dict())"
   ]
  },
  {
   "cell_type": "code",
   "execution_count": 16,
   "metadata": {},
   "outputs": [
    {
     "data": {
      "text/plain": [
       "(seconds: 1571822193\n",
       " nanos: 25852000,\n",
       " <google.cloud.firestore_v1.document.DocumentReference at 0x20d05d32ef0>)"
      ]
     },
     "execution_count": 16,
     "metadata": {},
     "output_type": "execute_result"
    }
   ],
   "source": [
    "item = Item(name=u'카페라떼',price=3800,keywordSimiliar=u'돌체라떼')\n",
    "firestore.client().collection(u'cre_menu').add(item.to_dict())"
   ]
  },
  {
   "cell_type": "code",
   "execution_count": 17,
   "metadata": {},
   "outputs": [
    {
     "data": {
      "text/plain": [
       "(seconds: 1571822193\n",
       " nanos: 777530000,\n",
       " <google.cloud.firestore_v1.document.DocumentReference at 0x20d00b88710>)"
      ]
     },
     "execution_count": 17,
     "metadata": {},
     "output_type": "execute_result"
    }
   ],
   "source": [
    "item = Item(name=u'바닐라 라떼',price=4500,keywordSimiliar=u'헤이즐넛 라떼')\n",
    "firestore.client().collection(u'cre_menu').add(item.to_dict())"
   ]
  },
  {
   "cell_type": "code",
   "execution_count": 18,
   "metadata": {},
   "outputs": [
    {
     "data": {
      "text/plain": [
       "(seconds: 1571822194\n",
       " nanos: 587297000,\n",
       " <google.cloud.firestore_v1.document.DocumentReference at 0x20d05d32f98>)"
      ]
     },
     "execution_count": 18,
     "metadata": {},
     "output_type": "execute_result"
    }
   ],
   "source": [
    "item = Item(name=u'헤이즐넛 라떼',price=4500,keywordSimiliar=u'카라멜 마끼아또')\n",
    "firestore.client().collection(u'cre_menu').add(item.to_dict())"
   ]
  },
  {
   "cell_type": "code",
   "execution_count": 19,
   "metadata": {},
   "outputs": [
    {
     "data": {
      "text/plain": [
       "(seconds: 1571822195\n",
       " nanos: 289701000,\n",
       " <google.cloud.firestore_v1.document.DocumentReference at 0x20d05d5a5f8>)"
      ]
     },
     "execution_count": 19,
     "metadata": {},
     "output_type": "execute_result"
    }
   ],
   "source": [
    "item = Item(name=u'카페모카',price=4500,keywordSimiliar=u'헤이즐넛 라떼')\n",
    "firestore.client().collection(u'cre_menu').add(item.to_dict())"
   ]
  },
  {
   "cell_type": "code",
   "execution_count": 20,
   "metadata": {},
   "outputs": [
    {
     "data": {
      "text/plain": [
       "(seconds: 1571822195\n",
       " nanos: 838526000,\n",
       " <google.cloud.firestore_v1.document.DocumentReference at 0x20d05d5ab70>)"
      ]
     },
     "execution_count": 20,
     "metadata": {},
     "output_type": "execute_result"
    }
   ],
   "source": [
    "item = Item(name=u'카라멜 마끼아또',price=4500,keywordSimiliar=u'돌체라떼')\n",
    "firestore.client().collection(u'cre_menu').add(item.to_dict())"
   ]
  },
  {
   "cell_type": "code",
   "execution_count": 21,
   "metadata": {},
   "outputs": [
    {
     "data": {
      "text/plain": [
       "(seconds: 1571822196\n",
       " nanos: 516603000,\n",
       " <google.cloud.firestore_v1.document.DocumentReference at 0x20d05d234e0>)"
      ]
     },
     "execution_count": 21,
     "metadata": {},
     "output_type": "execute_result"
    }
   ],
   "source": [
    "item = Item(name=u'복숭아 아이스티',price=3000,keywordSimiliar=u'망고 아이스티')\n",
    "firestore.client().collection(u'cre_menu').add(item.to_dict())"
   ]
  },
  {
   "cell_type": "code",
   "execution_count": 22,
   "metadata": {},
   "outputs": [
    {
     "data": {
      "text/plain": [
       "(seconds: 1571822197\n",
       " nanos: 151936000,\n",
       " <google.cloud.firestore_v1.document.DocumentReference at 0x20d05d32c88>)"
      ]
     },
     "execution_count": 22,
     "metadata": {},
     "output_type": "execute_result"
    }
   ],
   "source": [
    "item = Item(name=u'망고 아이스티',price=3000,keywordSimiliar=u'복숭아 아이스티')\n",
    "firestore.client().collection(u'cre_menu').add(item.to_dict())"
   ]
  },
  {
   "cell_type": "code",
   "execution_count": 23,
   "metadata": {},
   "outputs": [
    {
     "data": {
      "text/plain": [
       "(seconds: 1571822197\n",
       " nanos: 824740000,\n",
       " <google.cloud.firestore_v1.document.DocumentReference at 0x20d05d32710>)"
      ]
     },
     "execution_count": 23,
     "metadata": {},
     "output_type": "execute_result"
    }
   ],
   "source": [
    "item = Item(name=u'요거트 스무디',price=4800,keywordSimiliar=u'망고 스무디')\n",
    "firestore.client().collection(u'cre_menu').add(item.to_dict())"
   ]
  },
  {
   "cell_type": "code",
   "execution_count": 24,
   "metadata": {},
   "outputs": [
    {
     "ename": "SyntaxError",
     "evalue": "invalid syntax (<ipython-input-24-5acf7f4325a1>, line 1)",
     "output_type": "error",
     "traceback": [
      "\u001b[1;36m  File \u001b[1;32m\"<ipython-input-24-5acf7f4325a1>\"\u001b[1;36m, line \u001b[1;32m1\u001b[0m\n\u001b[1;33m    item = Item(name=u'',price=,keywordSimiliar=u'')\u001b[0m\n\u001b[1;37m                               ^\u001b[0m\n\u001b[1;31mSyntaxError\u001b[0m\u001b[1;31m:\u001b[0m invalid syntax\n"
     ]
    }
   ],
   "source": [
    "#item = Item(name=u'',price=,keywordSimiliar=u'')\n",
    "#firestore.client().collection(u'cre_menu').add(item.to_dict())"
   ]
  },
  {
   "cell_type": "code",
   "execution_count": 25,
   "metadata": {},
   "outputs": [
    {
     "data": {
      "text/plain": [
       "(seconds: 1571822216\n",
       " nanos: 933565000,\n",
       " <google.cloud.firestore_v1.document.DocumentReference at 0x20d05d325c0>)"
      ]
     },
     "execution_count": 25,
     "metadata": {},
     "output_type": "execute_result"
    }
   ],
   "source": [
    "item = Item(name=u'딸기 스무디',price=4800,keywordSimiliar=u'트리플베리 스무디')\n",
    "firestore.client().collection(u'cre_menu').add(item.to_dict())"
   ]
  },
  {
   "cell_type": "code",
   "execution_count": 26,
   "metadata": {},
   "outputs": [
    {
     "data": {
      "text/plain": [
       "(seconds: 1571822217\n",
       " nanos: 622030000,\n",
       " <google.cloud.firestore_v1.document.DocumentReference at 0x20d05d5ae80>)"
      ]
     },
     "execution_count": 26,
     "metadata": {},
     "output_type": "execute_result"
    }
   ],
   "source": [
    "item = Item(name=u'트리플베리 스무디',price=4800,keywordSimiliar=u'딸기 스무디')\n",
    "firestore.client().collection(u'cre_menu').add(item.to_dict())"
   ]
  },
  {
   "cell_type": "code",
   "execution_count": 27,
   "metadata": {},
   "outputs": [
    {
     "data": {
      "text/plain": [
       "(seconds: 1571822218\n",
       " nanos: 471637000,\n",
       " <google.cloud.firestore_v1.document.DocumentReference at 0x20d05d5a080>)"
      ]
     },
     "execution_count": 27,
     "metadata": {},
     "output_type": "execute_result"
    }
   ],
   "source": [
    "item = Item(name=u'망고 스무디',price=4800,keywordSimiliar=u'요거트 스무디')\n",
    "firestore.client().collection(u'cre_menu').add(item.to_dict())"
   ]
  },
  {
   "cell_type": "code",
   "execution_count": 28,
   "metadata": {},
   "outputs": [
    {
     "data": {
      "text/plain": [
       "(seconds: 1571822219\n",
       " nanos: 116000000,\n",
       " <google.cloud.firestore_v1.document.DocumentReference at 0x20d05d5a710>)"
      ]
     },
     "execution_count": 28,
     "metadata": {},
     "output_type": "execute_result"
    }
   ],
   "source": [
    "item = Item(name=u'오레오 프라페',price=4800,keywordSimiliar=u'모카 프라페')\n",
    "firestore.client().collection(u'cre_menu').add(item.to_dict())"
   ]
  },
  {
   "cell_type": "code",
   "execution_count": 29,
   "metadata": {},
   "outputs": [
    {
     "data": {
      "text/plain": [
       "(seconds: 1571822219\n",
       " nanos: 736779000,\n",
       " <google.cloud.firestore_v1.document.DocumentReference at 0x20d05d23390>)"
      ]
     },
     "execution_count": 29,
     "metadata": {},
     "output_type": "execute_result"
    }
   ],
   "source": [
    "item = Item(name=u'그린티 프라페',price=4800,keywordSimiliar=u'민트초코 프라페')\n",
    "firestore.client().collection(u'cre_menu').add(item.to_dict())"
   ]
  },
  {
   "cell_type": "code",
   "execution_count": 30,
   "metadata": {},
   "outputs": [
    {
     "data": {
      "text/plain": [
       "(seconds: 1571822220\n",
       " nanos: 254471000,\n",
       " <google.cloud.firestore_v1.document.DocumentReference at 0x20d05d5e630>)"
      ]
     },
     "execution_count": 30,
     "metadata": {},
     "output_type": "execute_result"
    }
   ],
   "source": [
    "item = Item(name=u'민트초코 프라페',price=4800,keywordSimiliar=u'그린티 프라페')\n",
    "firestore.client().collection(u'cre_menu').add(item.to_dict())"
   ]
  },
  {
   "cell_type": "code",
   "execution_count": 31,
   "metadata": {},
   "outputs": [
    {
     "data": {
      "text/plain": [
       "(seconds: 1571822220\n",
       " nanos: 848215000,\n",
       " <google.cloud.firestore_v1.document.DocumentReference at 0x20d05cf44a8>)"
      ]
     },
     "execution_count": 31,
     "metadata": {},
     "output_type": "execute_result"
    }
   ],
   "source": [
    "item = Item(name=u'모카 프라페',price=4800,keywordSimiliar=u'민트초코 프라페')\n",
    "firestore.client().collection(u'cre_menu').add(item.to_dict())"
   ]
  },
  {
   "cell_type": "code",
   "execution_count": 32,
   "metadata": {},
   "outputs": [
    {
     "data": {
      "text/plain": [
       "(seconds: 1571822221\n",
       " nanos: 388885000,\n",
       " <google.cloud.firestore_v1.document.DocumentReference at 0x20d05d5e828>)"
      ]
     },
     "execution_count": 32,
     "metadata": {},
     "output_type": "execute_result"
    }
   ],
   "source": [
    "item = Item(name=u'바닐라 프라페',price=4800,keywordSimiliar=u'오레오 프라페')\n",
    "firestore.client().collection(u'cre_menu').add(item.to_dict())"
   ]
  },
  {
   "cell_type": "code",
   "execution_count": null,
   "metadata": {},
   "outputs": [],
   "source": []
  },
  {
   "cell_type": "code",
   "execution_count": null,
   "metadata": {},
   "outputs": [],
   "source": []
  }
 ],
 "metadata": {
  "kernelspec": {
   "display_name": "Python 3",
   "language": "python",
   "name": "python3"
  },
  "language_info": {
   "codemirror_mode": {
    "name": "ipython",
    "version": 3
   },
   "file_extension": ".py",
   "mimetype": "text/x-python",
   "name": "python",
   "nbconvert_exporter": "python",
   "pygments_lexer": "ipython3",
   "version": "3.6.9"
  }
 },
 "nbformat": 4,
 "nbformat_minor": 2
}
