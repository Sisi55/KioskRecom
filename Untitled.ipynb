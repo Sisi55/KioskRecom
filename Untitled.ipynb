{
 "cells": [
  {
   "cell_type": "code",
   "execution_count": 1,
   "metadata": {},
   "outputs": [],
   "source": [
    "import json\n",
    "\n",
    "import firebase_admin\n",
    "from firebase_admin import credentials\n",
    "from firebase_admin import firestore\n",
    "import pandas as pd\n",
    "from sklearn.tree import DecisionTreeClassifier\n",
    "from sklearn.model_selection import train_test_split\n",
    "from sklearn.metrics import accuracy_score\n",
    "from sklearn.preprocessing import LabelEncoder"
   ]
  },
  {
   "cell_type": "code",
   "execution_count": 2,
   "metadata": {},
   "outputs": [],
   "source": [
    "#초기화\n",
    "cred = credentials.Certificate('kiosk-firestore-jnsy-bcfe4-firebase-adminsdk-269q4-4a795774bb.json')\n",
    "firebase_admin.initialize_app(cred)\n",
    "#encoder = LabelEncoder() #레이블 벡터 -> 변환 객체\n",
    "\n",
    "# 8가지 감정 키워드\n",
    "emotion_keyword = [\"anger\",\"contempt\",\"disgust\",\"fear\",\"happiness\",\"neutral\",\"sadness\",\"surprise\"]\n",
    "\n",
    "emotion_df = pd.DataFrame({ 'emotion_keyword':emotion_keyword })\n",
    "emotion_vec = pd.get_dummies(emotion_df).values\n",
    "#print(emotion_vec)\n",
    "\n",
    "emotion_keyword_to_vec = {}\n",
    "for index,keyword in enumerate(emotion_keyword):\n",
    "    emotion_keyword_to_vec[keyword] = ''.join(list(map(str,emotion_vec[index].tolist())))"
   ]
  },
  {
   "cell_type": "code",
   "execution_count": 3,
   "metadata": {},
   "outputs": [],
   "source": [
    "def get_dataFrame():\n",
    "    docs = firestore.client().collection(u'order').stream()\n",
    "\n",
    "    doc_list = []\n",
    "    for doc in docs:\n",
    "    #print(doc.get('emotion'))\n",
    "    #print(type(doc))\n",
    "        doc_list_row = []\n",
    "    \n",
    "    # 메뉴 - 레이블\n",
    "        doc_list_row.append(doc.get('orderToString'))\n",
    "\n",
    "    # 날씨\n",
    "        weather_key_list = []\n",
    "        for key in doc.get('weather').keys():\n",
    "        #weather_key_list.append(doc.get('weather').get(key))\n",
    "            doc_list_row.append(doc.get('weather').get(key))\n",
    "    \n",
    "    # 감정\n",
    "        emotion_key_list = ''\n",
    "        for key in doc.get('emotion').keys():\n",
    "        #print(key)\n",
    "            emotion_key_list += emotion_keyword_to_vec.get(key)\n",
    "        doc_list_row.append(emotion_key_list)\n",
    "    \n",
    "        doc_list.append(doc_list_row)\n",
    "\n",
    "    doc_df = pd.DataFrame(doc_list, columns=['item_name','w_humidity','w_temp','w_speed','emotion'])\n",
    "    #레이블 인코딩\n",
    "    encoder = LabelEncoder()\n",
    "    items = doc_df['item_name'].values.tolist()\n",
    "    encoder.fit(items)\n",
    "    labels = encoder.transform(items)\n",
    "\n",
    "    print('인코딩 클래스:', encoder.classes_)\n",
    "    #print('디코딩 원본 값:', encoder.inverse_transform([0,1]))\n",
    "\n",
    "    return encoder,doc_df"
   ]
  },
  {
   "cell_type": "code",
   "execution_count": 4,
   "metadata": {},
   "outputs": [],
   "source": [
    "def order_decisionTree_recom(humidity,temp,speed,emotion):\n",
    "\n",
    "    encoder,df = get_dataFrame()\n",
    "\n",
    "    #학습\n",
    "    dt_clf = DecisionTreeClassifier()\n",
    "    X_train,X_test,y_train,y_test = train_test_split(df[['w_humidity','w_temp','w_speed','emotion']],\n",
    "                                                df[['item_name']], test_size=0.2)\n",
    "    dt_clf.fit(X_train,y_train)\n",
    "\n",
    "    pred = dt_clf.predict(X_test)\n",
    "    accuracy = accuracy_score(y_test, pred)\n",
    "    print('결정 트리 예측 정확도: {0:.4f}'.format(accuracy))\n",
    "\n",
    "    # 람다\n",
    "#    label_df = pd.DataFrame({ 'w_humidity':[event['humidity']],\n",
    "#                        'w_temp':[event['temp']],\n",
    "#                        'w_speed':[event['speed']],\n",
    "#                        'emotion':[event['emotion']] })\n",
    "    label_df = pd.DataFrame({ 'w_humidity':[humidity], # humidity,temp,speed,emotion\n",
    "                            'w_temp':[temp],\n",
    "                            'w_speed':[speed],\n",
    "                            'emotion':[emotion] })\n",
    "\n",
    "    result_predict = dt_clf.predict(label_df)\n",
    "\n",
    "    return result_predict"
   ]
  },
  {
   "cell_type": "code",
   "execution_count": 5,
   "metadata": {},
   "outputs": [
    {
     "ename": "AttributeError",
     "evalue": "'NoneType' object has no attribute 'keys'",
     "output_type": "error",
     "traceback": [
      "\u001b[1;31m---------------------------------------------------------------------------\u001b[0m",
      "\u001b[1;31mAttributeError\u001b[0m                            Traceback (most recent call last)",
      "\u001b[1;32m<ipython-input-5-f9eaf136200a>\u001b[0m in \u001b[0;36m<module>\u001b[1;34m\u001b[0m\n\u001b[1;32m----> 1\u001b[1;33m \u001b[0morder_decisionTree_recom\u001b[0m\u001b[1;33m(\u001b[0m\u001b[1;36m80.0\u001b[0m\u001b[1;33m,\u001b[0m\u001b[1;36m300.0\u001b[0m\u001b[1;33m,\u001b[0m\u001b[1;36m1.00\u001b[0m\u001b[1;33m,\u001b[0m\u001b[1;34m'0100010000000010'\u001b[0m\u001b[1;33m)\u001b[0m\u001b[1;33m\u001b[0m\u001b[1;33m\u001b[0m\u001b[0m\n\u001b[0m",
      "\u001b[1;32m<ipython-input-4-a4e28d4afdfa>\u001b[0m in \u001b[0;36morder_decisionTree_recom\u001b[1;34m(humidity, temp, speed, emotion)\u001b[0m\n\u001b[0;32m      1\u001b[0m \u001b[1;32mdef\u001b[0m \u001b[0morder_decisionTree_recom\u001b[0m\u001b[1;33m(\u001b[0m\u001b[0mhumidity\u001b[0m\u001b[1;33m,\u001b[0m\u001b[0mtemp\u001b[0m\u001b[1;33m,\u001b[0m\u001b[0mspeed\u001b[0m\u001b[1;33m,\u001b[0m\u001b[0memotion\u001b[0m\u001b[1;33m)\u001b[0m\u001b[1;33m:\u001b[0m\u001b[1;33m\u001b[0m\u001b[1;33m\u001b[0m\u001b[0m\n\u001b[0;32m      2\u001b[0m \u001b[1;33m\u001b[0m\u001b[0m\n\u001b[1;32m----> 3\u001b[1;33m     \u001b[0mencoder\u001b[0m\u001b[1;33m,\u001b[0m\u001b[0mdf\u001b[0m \u001b[1;33m=\u001b[0m \u001b[0mget_dataFrame\u001b[0m\u001b[1;33m(\u001b[0m\u001b[1;33m)\u001b[0m\u001b[1;33m\u001b[0m\u001b[1;33m\u001b[0m\u001b[0m\n\u001b[0m\u001b[0;32m      4\u001b[0m \u001b[1;33m\u001b[0m\u001b[0m\n\u001b[0;32m      5\u001b[0m     \u001b[1;31m#학습\u001b[0m\u001b[1;33m\u001b[0m\u001b[1;33m\u001b[0m\u001b[1;33m\u001b[0m\u001b[0m\n",
      "\u001b[1;32m<ipython-input-3-29108a087f21>\u001b[0m in \u001b[0;36mget_dataFrame\u001b[1;34m()\u001b[0m\n\u001b[0;32m     19\u001b[0m     \u001b[1;31m# 감정\u001b[0m\u001b[1;33m\u001b[0m\u001b[1;33m\u001b[0m\u001b[1;33m\u001b[0m\u001b[0m\n\u001b[0;32m     20\u001b[0m         \u001b[0memotion_key_list\u001b[0m \u001b[1;33m=\u001b[0m \u001b[1;34m''\u001b[0m\u001b[1;33m\u001b[0m\u001b[1;33m\u001b[0m\u001b[0m\n\u001b[1;32m---> 21\u001b[1;33m         \u001b[1;32mfor\u001b[0m \u001b[0mkey\u001b[0m \u001b[1;32min\u001b[0m \u001b[0mdoc\u001b[0m\u001b[1;33m.\u001b[0m\u001b[0mget\u001b[0m\u001b[1;33m(\u001b[0m\u001b[1;34m'emotion'\u001b[0m\u001b[1;33m)\u001b[0m\u001b[1;33m.\u001b[0m\u001b[0mkeys\u001b[0m\u001b[1;33m(\u001b[0m\u001b[1;33m)\u001b[0m\u001b[1;33m:\u001b[0m\u001b[1;33m\u001b[0m\u001b[1;33m\u001b[0m\u001b[0m\n\u001b[0m\u001b[0;32m     22\u001b[0m         \u001b[1;31m#print(key)\u001b[0m\u001b[1;33m\u001b[0m\u001b[1;33m\u001b[0m\u001b[1;33m\u001b[0m\u001b[0m\n\u001b[0;32m     23\u001b[0m             \u001b[0memotion_key_list\u001b[0m \u001b[1;33m+=\u001b[0m \u001b[0memotion_keyword_to_vec\u001b[0m\u001b[1;33m.\u001b[0m\u001b[0mget\u001b[0m\u001b[1;33m(\u001b[0m\u001b[0mkey\u001b[0m\u001b[1;33m)\u001b[0m\u001b[1;33m\u001b[0m\u001b[1;33m\u001b[0m\u001b[0m\n",
      "\u001b[1;31mAttributeError\u001b[0m: 'NoneType' object has no attribute 'keys'"
     ]
    }
   ],
   "source": [
    "order_decisionTree_recom(80.0,300.0,1.00,'0100010000000010')"
   ]
  },
  {
   "cell_type": "code",
   "execution_count": null,
   "metadata": {},
   "outputs": [],
   "source": []
  }
 ],
 "metadata": {
  "kernelspec": {
   "display_name": "Python 3",
   "language": "python",
   "name": "python3"
  },
  "language_info": {
   "codemirror_mode": {
    "name": "ipython",
    "version": 3
   },
   "file_extension": ".py",
   "mimetype": "text/x-python",
   "name": "python",
   "nbconvert_exporter": "python",
   "pygments_lexer": "ipython3",
   "version": "3.6.9"
  }
 },
 "nbformat": 4,
 "nbformat_minor": 2
}
