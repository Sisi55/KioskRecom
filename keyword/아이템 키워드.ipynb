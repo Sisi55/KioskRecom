{
 "cells": [
  {
   "cell_type": "code",
   "execution_count": 1,
   "metadata": {},
   "outputs": [
    {
     "data": {
      "text/plain": [
       "<firebase_admin.App at 0x1ca5fa07940>"
      ]
     },
     "execution_count": 1,
     "metadata": {},
     "output_type": "execute_result"
    }
   ],
   "source": [
    "import firebase_admin\n",
    "from firebase_admin import credentials\n",
    "from firebase_admin import firestore\n",
    "import pandas as pd\n",
    "import numpy as np\n",
    "from sklearn.preprocessing import LabelEncoder\n",
    "from sklearn.metrics.pairwise import cosine_similarity\n",
    "\n",
    "cred = credentials.Certificate('kiosk-firestore-jnsy-bcfe4-firebase-adminsdk-269q4-4a795774bb.json')\n",
    "firebase_admin.initialize_app(cred)"
   ]
  },
  {
   "cell_type": "code",
   "execution_count": 2,
   "metadata": {},
   "outputs": [],
   "source": [
    "class Item(object):\n",
    "    def __init__(self, name, keywords):\n",
    "        self.name = name # 아이템 이름\n",
    "        self.keywords = keywords # 키워드들\n",
    "        \n",
    "    \n",
    "    def to_dict(self):\n",
    "        \n",
    "        dest = {\n",
    "            u'name': self.name,\n",
    "            u'keywords': self.keywords,\n",
    "        }\n",
    "\n",
    "        return dest"
   ]
  },
  {
   "cell_type": "code",
   "execution_count": 3,
   "metadata": {},
   "outputs": [],
   "source": [
    "# 추가\n",
    "#city = City(name=u'Los Angeles', state=u'CA', country=u'USA')\n",
    "#db.collection(u'cities').document(u'LA').set(city.to_dict()) 하지마\n",
    "# db.collection(u'cities').add(city.to_dict())"
   ]
  },
  {
   "cell_type": "code",
   "execution_count": 4,
   "metadata": {},
   "outputs": [
    {
     "data": {
      "text/plain": [
       "(seconds: 1570686122\n",
       " nanos: 699801000,\n",
       " <google.cloud.firestore_v1.document.DocumentReference at 0x1ca61438828>)"
      ]
     },
     "execution_count": 4,
     "metadata": {},
     "output_type": "execute_result"
    }
   ],
   "source": [
    "item = Item(name=u'아메리카노', keywords=[u'에스프레소',u'담백',u'카페인',u'물'])\n",
    "firestore.client().collection(u'item_keywords').add(item.to_dict())"
   ]
  },
  {
   "cell_type": "code",
   "execution_count": 5,
   "metadata": {},
   "outputs": [
    {
     "data": {
      "text/plain": [
       "(seconds: 1570686123\n",
       " nanos: 370292000,\n",
       " <google.cloud.firestore_v1.document.DocumentReference at 0x1ca64a3c940>)"
      ]
     },
     "execution_count": 5,
     "metadata": {},
     "output_type": "execute_result"
    }
   ],
   "source": [
    "# 복붙용\n",
    "item = Item(name=u'카페라떼', keywords=['에스프레소','담백','카페인','우유'])\n",
    "firestore.client().collection(u'item_keywords').add(item.to_dict())"
   ]
  },
  {
   "cell_type": "code",
   "execution_count": null,
   "metadata": {},
   "outputs": [],
   "source": []
  },
  {
   "cell_type": "code",
   "execution_count": 6,
   "metadata": {},
   "outputs": [
    {
     "data": {
      "text/plain": [
       "(seconds: 1570686124\n",
       " nanos: 97704000,\n",
       " <google.cloud.firestore_v1.document.DocumentReference at 0x1ca64a59828>)"
      ]
     },
     "execution_count": 6,
     "metadata": {},
     "output_type": "execute_result"
    }
   ],
   "source": [
    "item = Item(name=u'카푸치노', keywords=['에스프레소','담백','카페인','우유'])\n",
    "firestore.client().collection(u'item_keywords').add(item.to_dict())"
   ]
  },
  {
   "cell_type": "code",
   "execution_count": 7,
   "metadata": {},
   "outputs": [
    {
     "data": {
      "text/plain": [
       "(seconds: 1570686124\n",
       " nanos: 726220000,\n",
       " <google.cloud.firestore_v1.document.DocumentReference at 0x1ca649cab38>)"
      ]
     },
     "execution_count": 7,
     "metadata": {},
     "output_type": "execute_result"
    }
   ],
   "source": [
    "item = Item(name=u'카페모카', keywords=['에스프레소','달콤','카페인','우유'])\n",
    "firestore.client().collection(u'item_keywords').add(item.to_dict())"
   ]
  },
  {
   "cell_type": "code",
   "execution_count": 8,
   "metadata": {},
   "outputs": [
    {
     "data": {
      "text/plain": [
       "(seconds: 1570686125\n",
       " nanos: 239119000,\n",
       " <google.cloud.firestore_v1.document.DocumentReference at 0x1ca64a59f28>)"
      ]
     },
     "execution_count": 8,
     "metadata": {},
     "output_type": "execute_result"
    }
   ],
   "source": [
    "item = Item(name=u'바닐라라떼', keywords=['에스프레소','달콤','카페인','우유'])\n",
    "firestore.client().collection(u'item_keywords').add(item.to_dict())"
   ]
  },
  {
   "cell_type": "code",
   "execution_count": 9,
   "metadata": {},
   "outputs": [
    {
     "data": {
      "text/plain": [
       "(seconds: 1570686125\n",
       " nanos: 923705000,\n",
       " <google.cloud.firestore_v1.document.DocumentReference at 0x1ca64a3ca58>)"
      ]
     },
     "execution_count": 9,
     "metadata": {},
     "output_type": "execute_result"
    }
   ],
   "source": [
    "item = Item(name=u'헤즐넛라떼', keywords=['에스프레소','달콤','카페인','우유'])\n",
    "firestore.client().collection(u'item_keywords').add(item.to_dict())"
   ]
  },
  {
   "cell_type": "code",
   "execution_count": 10,
   "metadata": {},
   "outputs": [
    {
     "data": {
      "text/plain": [
       "(seconds: 1570686126\n",
       " nanos: 563771000,\n",
       " <google.cloud.firestore_v1.document.DocumentReference at 0x1ca649caac8>)"
      ]
     },
     "execution_count": 10,
     "metadata": {},
     "output_type": "execute_result"
    }
   ],
   "source": [
    "item = Item(name=u'카라멜마끼야또', keywords=['에스프레소','달콤','카페인','우유'])\n",
    "firestore.client().collection(u'item_keywords').add(item.to_dict())"
   ]
  },
  {
   "cell_type": "code",
   "execution_count": null,
   "metadata": {},
   "outputs": [],
   "source": []
  },
  {
   "cell_type": "code",
   "execution_count": 11,
   "metadata": {},
   "outputs": [
    {
     "data": {
      "text/plain": [
       "(seconds: 1570686127\n",
       " nanos: 182711000,\n",
       " <google.cloud.firestore_v1.document.DocumentReference at 0x1ca5fa070b8>)"
      ]
     },
     "execution_count": 11,
     "metadata": {},
     "output_type": "execute_result"
    }
   ],
   "source": [
    "item = Item(name=u'사케타로ICE', keywords=['에스프레소','카페인'])\n",
    "firestore.client().collection(u'item_keywords').add(item.to_dict())"
   ]
  },
  {
   "cell_type": "code",
   "execution_count": 12,
   "metadata": {},
   "outputs": [
    {
     "data": {
      "text/plain": [
       "(seconds: 1570686127\n",
       " nanos: 876309000,\n",
       " <google.cloud.firestore_v1.document.DocumentReference at 0x1ca64a64160>)"
      ]
     },
     "execution_count": 12,
     "metadata": {},
     "output_type": "execute_result"
    }
   ],
   "source": [
    "item = Item(name=u'스노우아메리카노ICE', keywords=['에스프레소스페셜','달콤','카페인','물'])\n",
    "firestore.client().collection(u'item_keywords').add(item.to_dict())"
   ]
  },
  {
   "cell_type": "code",
   "execution_count": 13,
   "metadata": {},
   "outputs": [
    {
     "data": {
      "text/plain": [
       "(seconds: 1570686128\n",
       " nanos: 488230000,\n",
       " <google.cloud.firestore_v1.document.DocumentReference at 0x1ca64a3c0f0>)"
      ]
     },
     "execution_count": 13,
     "metadata": {},
     "output_type": "execute_result"
    }
   ],
   "source": [
    "item = Item(name=u'밀어라떼ICE', keywords=['에스프레소스페셜','카페인','우유'])\n",
    "firestore.client().collection(u'item_keywords').add(item.to_dict())"
   ]
  },
  {
   "cell_type": "code",
   "execution_count": 14,
   "metadata": {},
   "outputs": [
    {
     "data": {
      "text/plain": [
       "(seconds: 1570686129\n",
       " nanos: 70691000,\n",
       " <google.cloud.firestore_v1.document.DocumentReference at 0x1ca64a649e8>)"
      ]
     },
     "execution_count": 14,
     "metadata": {},
     "output_type": "execute_result"
    }
   ],
   "source": [
    "item = Item(name=u'코코넛커피스무디', keywords=['에스프레소스페셜','달콤','카페인','스무디'])\n",
    "firestore.client().collection(u'item_keywords').add(item.to_dict())"
   ]
  },
  {
   "cell_type": "code",
   "execution_count": 15,
   "metadata": {},
   "outputs": [
    {
     "data": {
      "text/plain": [
       "(seconds: 1570686129\n",
       " nanos: 936794000,\n",
       " <google.cloud.firestore_v1.document.DocumentReference at 0x1ca64a59518>)"
      ]
     },
     "execution_count": 15,
     "metadata": {},
     "output_type": "execute_result"
    }
   ],
   "source": [
    "item = Item(name=u'오렌지라떼', keywords=['에스프레소스페셜','달콤','카페인','우유','과일'])\n",
    "firestore.client().collection(u'item_keywords').add(item.to_dict())"
   ]
  },
  {
   "cell_type": "code",
   "execution_count": 16,
   "metadata": {},
   "outputs": [
    {
     "data": {
      "text/plain": [
       "(seconds: 1570686130\n",
       " nanos: 512366000,\n",
       " <google.cloud.firestore_v1.document.DocumentReference at 0x1ca64a8b160>)"
      ]
     },
     "execution_count": 16,
     "metadata": {},
     "output_type": "execute_result"
    }
   ],
   "source": [
    "item = Item(name=u'자몽라떼', keywords=['에스프레소스페셜','달콤','카페인','우유','과일'])\n",
    "firestore.client().collection(u'item_keywords').add(item.to_dict())"
   ]
  },
  {
   "cell_type": "code",
   "execution_count": 17,
   "metadata": {},
   "outputs": [
    {
     "data": {
      "text/plain": [
       "(seconds: 1570686131\n",
       " nanos: 151761000,\n",
       " <google.cloud.firestore_v1.document.DocumentReference at 0x1ca5fa076a0>)"
      ]
     },
     "execution_count": 17,
     "metadata": {},
     "output_type": "execute_result"
    }
   ],
   "source": [
    "item = Item(name=u'티라미슈라떼', keywords=['에스프레소스페셜','달콤','카페인','우유'])\n",
    "firestore.client().collection(u'item_keywords').add(item.to_dict())"
   ]
  },
  {
   "cell_type": "code",
   "execution_count": 18,
   "metadata": {},
   "outputs": [
    {
     "data": {
      "text/plain": [
       "(seconds: 1570686131\n",
       " nanos: 787482000,\n",
       " <google.cloud.firestore_v1.document.DocumentReference at 0x1ca64a64ef0>)"
      ]
     },
     "execution_count": 18,
     "metadata": {},
     "output_type": "execute_result"
    }
   ],
   "source": [
    "item = Item(name=u'더치아메리카노', keywords=['콜드브루','담백','카페인'])\n",
    "firestore.client().collection(u'item_keywords').add(item.to_dict())"
   ]
  },
  {
   "cell_type": "code",
   "execution_count": 19,
   "metadata": {},
   "outputs": [
    {
     "data": {
      "text/plain": [
       "(seconds: 1570686132\n",
       " nanos: 371442000,\n",
       " <google.cloud.firestore_v1.document.DocumentReference at 0x1ca64a8bbe0>)"
      ]
     },
     "execution_count": 19,
     "metadata": {},
     "output_type": "execute_result"
    }
   ],
   "source": [
    "item = Item(name=u'더치라떼', keywords=['콜드브루','담백','카페인','우유'])\n",
    "firestore.client().collection(u'item_keywords').add(item.to_dict())"
   ]
  },
  {
   "cell_type": "code",
   "execution_count": 20,
   "metadata": {},
   "outputs": [
    {
     "data": {
      "text/plain": [
       "(seconds: 1570686132\n",
       " nanos: 894631000,\n",
       " <google.cloud.firestore_v1.document.DocumentReference at 0x1ca64a8bf98>)"
      ]
     },
     "execution_count": 20,
     "metadata": {},
     "output_type": "execute_result"
    }
   ],
   "source": [
    "item = Item(name=u'케냐드립커피', keywords=['드립커피','담백','카페인'])\n",
    "firestore.client().collection(u'item_keywords').add(item.to_dict())"
   ]
  },
  {
   "cell_type": "code",
   "execution_count": 21,
   "metadata": {},
   "outputs": [
    {
     "data": {
      "text/plain": [
       "(seconds: 1570686133\n",
       " nanos: 440440000,\n",
       " <google.cloud.firestore_v1.document.DocumentReference at 0x1ca64aa3160>)"
      ]
     },
     "execution_count": 21,
     "metadata": {},
     "output_type": "execute_result"
    }
   ],
   "source": [
    "item = Item(name=u'예자체크드립커피', keywords=['드립커피','담백','카페인'])\n",
    "firestore.client().collection(u'item_keywords').add(item.to_dict())"
   ]
  },
  {
   "cell_type": "code",
   "execution_count": 22,
   "metadata": {},
   "outputs": [
    {
     "data": {
      "text/plain": [
       "(seconds: 1570686134\n",
       " nanos: 18990000,\n",
       " <google.cloud.firestore_v1.document.DocumentReference at 0x1ca64aa35c0>)"
      ]
     },
     "execution_count": 22,
     "metadata": {},
     "output_type": "execute_result"
    }
   ],
   "source": [
    "item = Item(name=u'콜롬비아드립커피', keywords=['드립커피','담백','카페인'])\n",
    "firestore.client().collection(u'item_keywords').add(item.to_dict())"
   ]
  },
  {
   "cell_type": "code",
   "execution_count": 23,
   "metadata": {},
   "outputs": [
    {
     "data": {
      "text/plain": [
       "(seconds: 1570686134\n",
       " nanos: 527189000,\n",
       " <google.cloud.firestore_v1.document.DocumentReference at 0x1ca64a8bef0>)"
      ]
     },
     "execution_count": 23,
     "metadata": {},
     "output_type": "execute_result"
    }
   ],
   "source": [
    "item = Item(name=u'과테말라드립커피', keywords=['드립커피','담백','카페인'])\n",
    "firestore.client().collection(u'item_keywords').add(item.to_dict())"
   ]
  },
  {
   "cell_type": "code",
   "execution_count": 24,
   "metadata": {},
   "outputs": [
    {
     "data": {
      "text/plain": [
       "(seconds: 1570686135\n",
       " nanos: 43318000,\n",
       " <google.cloud.firestore_v1.document.DocumentReference at 0x1ca64a8b748>)"
      ]
     },
     "execution_count": 24,
     "metadata": {},
     "output_type": "execute_result"
    }
   ],
   "source": [
    "item = Item(name=u'브라질드립커피', keywords=['드립커피','담백','카페인'])\n",
    "firestore.client().collection(u'item_keywords').add(item.to_dict())"
   ]
  },
  {
   "cell_type": "code",
   "execution_count": 25,
   "metadata": {},
   "outputs": [
    {
     "data": {
      "text/plain": [
       "(seconds: 1570686135\n",
       " nanos: 574591000,\n",
       " <google.cloud.firestore_v1.document.DocumentReference at 0x1ca64a64f28>)"
      ]
     },
     "execution_count": 25,
     "metadata": {},
     "output_type": "execute_result"
    }
   ],
   "source": [
    "item = Item(name=u'오늘의원두드립커피', keywords=['드립커피','담백','카페인'])\n",
    "firestore.client().collection(u'item_keywords').add(item.to_dict())"
   ]
  },
  {
   "cell_type": "code",
   "execution_count": 26,
   "metadata": {},
   "outputs": [
    {
     "data": {
      "text/plain": [
       "(seconds: 1570686136\n",
       " nanos: 85517000,\n",
       " <google.cloud.firestore_v1.document.DocumentReference at 0x1ca64a64c50>)"
      ]
     },
     "execution_count": 26,
     "metadata": {},
     "output_type": "execute_result"
    }
   ],
   "source": [
    "item = Item(name=u'더블카카오', keywords=['라떼','담백','카페인'])\n",
    "firestore.client().collection(u'item_keywords').add(item.to_dict())"
   ]
  },
  {
   "cell_type": "code",
   "execution_count": 27,
   "metadata": {},
   "outputs": [
    {
     "data": {
      "text/plain": [
       "(seconds: 1570686136\n",
       " nanos: 706034000,\n",
       " <google.cloud.firestore_v1.document.DocumentReference at 0x1ca64aa3240>)"
      ]
     },
     "execution_count": 27,
     "metadata": {},
     "output_type": "execute_result"
    }
   ],
   "source": [
    "item = Item(name=u'말차그린티라떼', keywords=['라떼','달콤','카페인','우유'])\n",
    "firestore.client().collection(u'item_keywords').add(item.to_dict())"
   ]
  },
  {
   "cell_type": "code",
   "execution_count": 28,
   "metadata": {},
   "outputs": [
    {
     "data": {
      "text/plain": [
       "(seconds: 1570686137\n",
       " nanos: 242678000,\n",
       " <google.cloud.firestore_v1.document.DocumentReference at 0x1ca64a8bf60>)"
      ]
     },
     "execution_count": 28,
     "metadata": {},
     "output_type": "execute_result"
    }
   ],
   "source": [
    "item = Item(name=u'생강라떼', keywords=['라떼','달콤','차','우유'])\n",
    "firestore.client().collection(u'item_keywords').add(item.to_dict())"
   ]
  },
  {
   "cell_type": "code",
   "execution_count": 29,
   "metadata": {},
   "outputs": [
    {
     "data": {
      "text/plain": [
       "(seconds: 1570686138\n",
       " nanos: 330222000,\n",
       " <google.cloud.firestore_v1.document.DocumentReference at 0x1ca64aa3ac8>)"
      ]
     },
     "execution_count": 29,
     "metadata": {},
     "output_type": "execute_result"
    }
   ],
   "source": [
    "item = Item(name=u'밀크티', keywords=['라떼','담백','차','우유'])\n",
    "firestore.client().collection(u'item_keywords').add(item.to_dict())"
   ]
  },
  {
   "cell_type": "code",
   "execution_count": 30,
   "metadata": {},
   "outputs": [
    {
     "data": {
      "text/plain": [
       "(seconds: 1570686139\n",
       " nanos: 25283000,\n",
       " <google.cloud.firestore_v1.document.DocumentReference at 0x1ca64a8b588>)"
      ]
     },
     "execution_count": 30,
     "metadata": {},
     "output_type": "execute_result"
    }
   ],
   "source": [
    "item = Item(name=u'레몬에이드', keywords=['에이드','달콤','주스','과일'])\n",
    "firestore.client().collection(u'item_keywords').add(item.to_dict())"
   ]
  },
  {
   "cell_type": "code",
   "execution_count": 31,
   "metadata": {},
   "outputs": [
    {
     "data": {
      "text/plain": [
       "(seconds: 1570686139\n",
       " nanos: 551136000,\n",
       " <google.cloud.firestore_v1.document.DocumentReference at 0x1ca64aa3e48>)"
      ]
     },
     "execution_count": 31,
     "metadata": {},
     "output_type": "execute_result"
    }
   ],
   "source": [
    "item = Item(name=u'자몽에이드', keywords=['에이드','달콤','주스','과일'])\n",
    "firestore.client().collection(u'item_keywords').add(item.to_dict())"
   ]
  },
  {
   "cell_type": "code",
   "execution_count": 32,
   "metadata": {},
   "outputs": [
    {
     "data": {
      "text/plain": [
       "(seconds: 1570686140\n",
       " nanos: 121041000,\n",
       " <google.cloud.firestore_v1.document.DocumentReference at 0x1ca5fa074a8>)"
      ]
     },
     "execution_count": 32,
     "metadata": {},
     "output_type": "execute_result"
    }
   ],
   "source": [
    "item = Item(name=u'코코넛커피스무디', keywords=['스무디','달콤','주스'])\n",
    "firestore.client().collection(u'item_keywords').add(item.to_dict())"
   ]
  },
  {
   "cell_type": "code",
   "execution_count": 33,
   "metadata": {},
   "outputs": [
    {
     "data": {
      "text/plain": [
       "(seconds: 1570686140\n",
       " nanos: 870819000,\n",
       " <google.cloud.firestore_v1.document.DocumentReference at 0x1ca64ab41d0>)"
      ]
     },
     "execution_count": 33,
     "metadata": {},
     "output_type": "execute_result"
    }
   ],
   "source": [
    "item = Item(name=u'쿠키크림스무디', keywords=['스무디','달콤','주스'])\n",
    "firestore.client().collection(u'item_keywords').add(item.to_dict())"
   ]
  },
  {
   "cell_type": "code",
   "execution_count": 34,
   "metadata": {},
   "outputs": [
    {
     "data": {
      "text/plain": [
       "(seconds: 1570686141\n",
       " nanos: 405432000,\n",
       " <google.cloud.firestore_v1.document.DocumentReference at 0x1ca64a64828>)"
      ]
     },
     "execution_count": 34,
     "metadata": {},
     "output_type": "execute_result"
    }
   ],
   "source": [
    "item = Item(name=u'플레인요거트스무디', keywords=['스무디','달콤','주스','요거트'])\n",
    "firestore.client().collection(u'item_keywords').add(item.to_dict())"
   ]
  },
  {
   "cell_type": "code",
   "execution_count": 35,
   "metadata": {},
   "outputs": [
    {
     "data": {
      "text/plain": [
       "(seconds: 1570686141\n",
       " nanos: 927164000,\n",
       " <google.cloud.firestore_v1.document.DocumentReference at 0x1ca64ab4518>)"
      ]
     },
     "execution_count": 35,
     "metadata": {},
     "output_type": "execute_result"
    }
   ],
   "source": [
    "item = Item(name=u'레몬요거트스무디', keywords=['요거트','스무디','달콤','주스','과일'])\n",
    "firestore.client().collection(u'item_keywords').add(item.to_dict())"
   ]
  },
  {
   "cell_type": "code",
   "execution_count": 36,
   "metadata": {},
   "outputs": [
    {
     "data": {
      "text/plain": [
       "(seconds: 1570686142\n",
       " nanos: 480359000,\n",
       " <google.cloud.firestore_v1.document.DocumentReference at 0x1ca64ab4748>)"
      ]
     },
     "execution_count": 36,
     "metadata": {},
     "output_type": "execute_result"
    }
   ],
   "source": [
    "item = Item(name=u'청포도프레시', keywords=['프레시','달콤','주스','과일'])\n",
    "firestore.client().collection(u'item_keywords').add(item.to_dict())"
   ]
  },
  {
   "cell_type": "code",
   "execution_count": 37,
   "metadata": {},
   "outputs": [
    {
     "data": {
      "text/plain": [
       "(seconds: 1570686143\n",
       " nanos: 679030000,\n",
       " <google.cloud.firestore_v1.document.DocumentReference at 0x1ca64ab4908>)"
      ]
     },
     "execution_count": 37,
     "metadata": {},
     "output_type": "execute_result"
    }
   ],
   "source": [
    "item = Item(name=u'바나나프레시', keywords=['프레시','달콤','주스','과일'])\n",
    "firestore.client().collection(u'item_keywords').add(item.to_dict())"
   ]
  },
  {
   "cell_type": "code",
   "execution_count": 38,
   "metadata": {},
   "outputs": [
    {
     "data": {
      "text/plain": [
       "(seconds: 1570686144\n",
       " nanos: 196319000,\n",
       " <google.cloud.firestore_v1.document.DocumentReference at 0x1ca64ab4a90>)"
      ]
     },
     "execution_count": 38,
     "metadata": {},
     "output_type": "execute_result"
    }
   ],
   "source": [
    "item = Item(name=u'사과바나나프레시', keywords=['프레시','달콤','주스'])\n",
    "firestore.client().collection(u'item_keywords').add(item.to_dict())"
   ]
  },
  {
   "cell_type": "code",
   "execution_count": 39,
   "metadata": {},
   "outputs": [
    {
     "data": {
      "text/plain": [
       "(seconds: 1570686144\n",
       " nanos: 740207000,\n",
       " <google.cloud.firestore_v1.document.DocumentReference at 0x1ca64aa3978>)"
      ]
     },
     "execution_count": 39,
     "metadata": {},
     "output_type": "execute_result"
    }
   ],
   "source": [
    "item = Item(name=u'루이스보스바닐라차', keywords=['차','담백'])\n",
    "firestore.client().collection(u'item_keywords').add(item.to_dict())"
   ]
  },
  {
   "cell_type": "code",
   "execution_count": 40,
   "metadata": {},
   "outputs": [
    {
     "data": {
      "text/plain": [
       "(seconds: 1570686145\n",
       " nanos: 257020000,\n",
       " <google.cloud.firestore_v1.document.DocumentReference at 0x1ca64aa34e0>)"
      ]
     },
     "execution_count": 40,
     "metadata": {},
     "output_type": "execute_result"
    }
   ],
   "source": [
    "item = Item(name=u'레몬그라스차', keywords=['차','담백'])\n",
    "firestore.client().collection(u'item_keywords').add(item.to_dict())"
   ]
  },
  {
   "cell_type": "code",
   "execution_count": 41,
   "metadata": {},
   "outputs": [
    {
     "data": {
      "text/plain": [
       "(seconds: 1570686145\n",
       " nanos: 809093000,\n",
       " <google.cloud.firestore_v1.document.DocumentReference at 0x1ca64ab4f98>)"
      ]
     },
     "execution_count": 41,
     "metadata": {},
     "output_type": "execute_result"
    }
   ],
   "source": [
    "item = Item(name=u'포스칼카비스커스차', keywords=['차','담백'])\n",
    "firestore.client().collection(u'item_keywords').add(item.to_dict())"
   ]
  },
  {
   "cell_type": "code",
   "execution_count": 42,
   "metadata": {},
   "outputs": [],
   "source": [
    "#item = Item(name=u'', keywords=[])\n",
    "#firestore.client().collection(u'item_keywords').add(item.to_dict())"
   ]
  },
  {
   "cell_type": "code",
   "execution_count": null,
   "metadata": {},
   "outputs": [],
   "source": []
  },
  {
   "cell_type": "code",
   "execution_count": 43,
   "metadata": {},
   "outputs": [
    {
     "data": {
      "text/plain": [
       "[['카페라떼', ['에스프레소', '담백', '카페인', '우유']],\n",
       " ['헤즐넛라떼', ['에스프레소', '달콤', '카페인', '우유']],\n",
       " ['레몬에이드', ['에이드', '달콤', '주스', '과일']],\n",
       " ['포스칼카비스커스차', ['차', '담백']],\n",
       " ['브라질드립커피', ['드립커피', '담백', '카페인']],\n",
       " ['예자체크드립커피', ['드립커피', '담백', '카페인']],\n",
       " ['사과바나나프레시', ['프레시', '달콤', '주스']],\n",
       " ['레몬그라스차', ['차', '담백']],\n",
       " ['플레인요거트스무디', ['스무디', '달콤', '주스', '요거트']],\n",
       " ['바나나프레시', ['프레시', '달콤', '주스', '과일']],\n",
       " ['레몬요거트스무디', ['요거트', '스무디', '달콤', '주스', '과일']],\n",
       " ['루이스보스바닐라차', ['차', '담백']],\n",
       " ['코코넛커피스무디', ['스무디', '달콤', '주스']],\n",
       " ['더블카카오', ['라떼', '담백', '카페인']],\n",
       " ['티라미슈라떼', ['에스프레소스페셜', '달콤', '카페인', '우유']],\n",
       " ['오렌지라떼', ['에스프레소스페셜', '달콤', '카페인', '우유', '과일']],\n",
       " ['밀크티', ['라떼', '담백', '차', '우유']],\n",
       " ['자몽라떼', ['에스프레소스페셜', '달콤', '카페인', '우유', '과일']],\n",
       " ['더치라떼', ['콜드브루', '담백', '카페인', '우유']],\n",
       " ['카라멜마끼야또', ['에스프레소', '달콤', '카페인', '우유']],\n",
       " ['오늘의원두드립커피', ['드립커피', '담백', '카페인']],\n",
       " ['생강라떼', ['라떼', '달콤', '차', '우유']],\n",
       " ['과테말라드립커피', ['드립커피', '담백', '카페인']],\n",
       " ['아메리카노', ['에스프레소', '담백', '카페인', '물']],\n",
       " ['자몽에이드', ['에이드', '달콤', '주스', '과일']],\n",
       " ['바닐라라떼', ['에스프레소', '달콤', '카페인', '우유']],\n",
       " ['쿠키크림스무디', ['스무디', '달콤', '주스']],\n",
       " ['스노우아메리카노ICE', ['에스프레소스페셜', '달콤', '카페인', '물']],\n",
       " ['카페모카', ['에스프레소', '달콤', '카페인', '우유']],\n",
       " ['카푸치노', ['에스프레소', '담백', '카페인', '우유']],\n",
       " ['밀어라떼ICE', ['에스프레소스페셜', '카페인', '우유']],\n",
       " ['더치아메리카노', ['콜드브루', '담백', '카페인']],\n",
       " ['콜롬비아드립커피', ['드립커피', '담백', '카페인']],\n",
       " ['케냐드립커피', ['드립커피', '담백', '카페인']],\n",
       " ['사케타로ICE', ['에스프레소', '카페인']],\n",
       " ['코코넛커피스무디', ['에스프레소스페셜', '달콤', '카페인', '스무디']],\n",
       " ['말차그린티라떼', ['라떼', '달콤', '카페인', '우유']],\n",
       " ['청포도프레시', ['프레시', '달콤', '주스', '과일']]]"
      ]
     },
     "execution_count": 43,
     "metadata": {},
     "output_type": "execute_result"
    }
   ],
   "source": [
    "# 데이터 읽어서 Pandas-DataFrame으로 변환하기\n",
    "tag = 'item_keywords'\n",
    "docs = firestore.client().collection(tag).stream()\n",
    "\n",
    "doc_list = []\n",
    "    \n",
    "for doc in docs:\n",
    "    doc_list_row = []\n",
    "    col_name = ['name','keywords']\n",
    "    \n",
    "    doc_list_row.append(doc.get('name'))\n",
    "    doc_list_row.append(doc.get('keywords'))\n",
    "    \n",
    "    doc_list.append(doc_list_row)\n",
    "    \n",
    "    \n",
    "doc_list"
   ]
  },
  {
   "cell_type": "code",
   "execution_count": 44,
   "metadata": {},
   "outputs": [
    {
     "data": {
      "text/html": [
       "<div>\n",
       "<style scoped>\n",
       "    .dataframe tbody tr th:only-of-type {\n",
       "        vertical-align: middle;\n",
       "    }\n",
       "\n",
       "    .dataframe tbody tr th {\n",
       "        vertical-align: top;\n",
       "    }\n",
       "\n",
       "    .dataframe thead th {\n",
       "        text-align: right;\n",
       "    }\n",
       "</style>\n",
       "<table border=\"1\" class=\"dataframe\">\n",
       "  <thead>\n",
       "    <tr style=\"text-align: right;\">\n",
       "      <th></th>\n",
       "      <th>name</th>\n",
       "      <th>keywords</th>\n",
       "    </tr>\n",
       "  </thead>\n",
       "  <tbody>\n",
       "    <tr>\n",
       "      <th>0</th>\n",
       "      <td>카페라떼</td>\n",
       "      <td>[에스프레소, 담백, 카페인, 우유]</td>\n",
       "    </tr>\n",
       "    <tr>\n",
       "      <th>1</th>\n",
       "      <td>헤즐넛라떼</td>\n",
       "      <td>[에스프레소, 달콤, 카페인, 우유]</td>\n",
       "    </tr>\n",
       "    <tr>\n",
       "      <th>2</th>\n",
       "      <td>레몬에이드</td>\n",
       "      <td>[에이드, 달콤, 주스, 과일]</td>\n",
       "    </tr>\n",
       "    <tr>\n",
       "      <th>3</th>\n",
       "      <td>포스칼카비스커스차</td>\n",
       "      <td>[차, 담백]</td>\n",
       "    </tr>\n",
       "    <tr>\n",
       "      <th>4</th>\n",
       "      <td>브라질드립커피</td>\n",
       "      <td>[드립커피, 담백, 카페인]</td>\n",
       "    </tr>\n",
       "    <tr>\n",
       "      <th>5</th>\n",
       "      <td>예자체크드립커피</td>\n",
       "      <td>[드립커피, 담백, 카페인]</td>\n",
       "    </tr>\n",
       "    <tr>\n",
       "      <th>6</th>\n",
       "      <td>사과바나나프레시</td>\n",
       "      <td>[프레시, 달콤, 주스]</td>\n",
       "    </tr>\n",
       "    <tr>\n",
       "      <th>7</th>\n",
       "      <td>레몬그라스차</td>\n",
       "      <td>[차, 담백]</td>\n",
       "    </tr>\n",
       "    <tr>\n",
       "      <th>8</th>\n",
       "      <td>플레인요거트스무디</td>\n",
       "      <td>[스무디, 달콤, 주스, 요거트]</td>\n",
       "    </tr>\n",
       "    <tr>\n",
       "      <th>9</th>\n",
       "      <td>바나나프레시</td>\n",
       "      <td>[프레시, 달콤, 주스, 과일]</td>\n",
       "    </tr>\n",
       "    <tr>\n",
       "      <th>10</th>\n",
       "      <td>레몬요거트스무디</td>\n",
       "      <td>[요거트, 스무디, 달콤, 주스, 과일]</td>\n",
       "    </tr>\n",
       "    <tr>\n",
       "      <th>11</th>\n",
       "      <td>루이스보스바닐라차</td>\n",
       "      <td>[차, 담백]</td>\n",
       "    </tr>\n",
       "    <tr>\n",
       "      <th>12</th>\n",
       "      <td>코코넛커피스무디</td>\n",
       "      <td>[스무디, 달콤, 주스]</td>\n",
       "    </tr>\n",
       "    <tr>\n",
       "      <th>13</th>\n",
       "      <td>더블카카오</td>\n",
       "      <td>[라떼, 담백, 카페인]</td>\n",
       "    </tr>\n",
       "    <tr>\n",
       "      <th>14</th>\n",
       "      <td>티라미슈라떼</td>\n",
       "      <td>[에스프레소스페셜, 달콤, 카페인, 우유]</td>\n",
       "    </tr>\n",
       "    <tr>\n",
       "      <th>15</th>\n",
       "      <td>오렌지라떼</td>\n",
       "      <td>[에스프레소스페셜, 달콤, 카페인, 우유, 과일]</td>\n",
       "    </tr>\n",
       "    <tr>\n",
       "      <th>16</th>\n",
       "      <td>밀크티</td>\n",
       "      <td>[라떼, 담백, 차, 우유]</td>\n",
       "    </tr>\n",
       "    <tr>\n",
       "      <th>17</th>\n",
       "      <td>자몽라떼</td>\n",
       "      <td>[에스프레소스페셜, 달콤, 카페인, 우유, 과일]</td>\n",
       "    </tr>\n",
       "    <tr>\n",
       "      <th>18</th>\n",
       "      <td>더치라떼</td>\n",
       "      <td>[콜드브루, 담백, 카페인, 우유]</td>\n",
       "    </tr>\n",
       "    <tr>\n",
       "      <th>19</th>\n",
       "      <td>카라멜마끼야또</td>\n",
       "      <td>[에스프레소, 달콤, 카페인, 우유]</td>\n",
       "    </tr>\n",
       "    <tr>\n",
       "      <th>20</th>\n",
       "      <td>오늘의원두드립커피</td>\n",
       "      <td>[드립커피, 담백, 카페인]</td>\n",
       "    </tr>\n",
       "    <tr>\n",
       "      <th>21</th>\n",
       "      <td>생강라떼</td>\n",
       "      <td>[라떼, 달콤, 차, 우유]</td>\n",
       "    </tr>\n",
       "    <tr>\n",
       "      <th>22</th>\n",
       "      <td>과테말라드립커피</td>\n",
       "      <td>[드립커피, 담백, 카페인]</td>\n",
       "    </tr>\n",
       "    <tr>\n",
       "      <th>23</th>\n",
       "      <td>아메리카노</td>\n",
       "      <td>[에스프레소, 담백, 카페인, 물]</td>\n",
       "    </tr>\n",
       "    <tr>\n",
       "      <th>24</th>\n",
       "      <td>자몽에이드</td>\n",
       "      <td>[에이드, 달콤, 주스, 과일]</td>\n",
       "    </tr>\n",
       "    <tr>\n",
       "      <th>25</th>\n",
       "      <td>바닐라라떼</td>\n",
       "      <td>[에스프레소, 달콤, 카페인, 우유]</td>\n",
       "    </tr>\n",
       "    <tr>\n",
       "      <th>26</th>\n",
       "      <td>쿠키크림스무디</td>\n",
       "      <td>[스무디, 달콤, 주스]</td>\n",
       "    </tr>\n",
       "    <tr>\n",
       "      <th>27</th>\n",
       "      <td>스노우아메리카노ICE</td>\n",
       "      <td>[에스프레소스페셜, 달콤, 카페인, 물]</td>\n",
       "    </tr>\n",
       "    <tr>\n",
       "      <th>28</th>\n",
       "      <td>카페모카</td>\n",
       "      <td>[에스프레소, 달콤, 카페인, 우유]</td>\n",
       "    </tr>\n",
       "    <tr>\n",
       "      <th>29</th>\n",
       "      <td>카푸치노</td>\n",
       "      <td>[에스프레소, 담백, 카페인, 우유]</td>\n",
       "    </tr>\n",
       "    <tr>\n",
       "      <th>30</th>\n",
       "      <td>밀어라떼ICE</td>\n",
       "      <td>[에스프레소스페셜, 카페인, 우유]</td>\n",
       "    </tr>\n",
       "    <tr>\n",
       "      <th>31</th>\n",
       "      <td>더치아메리카노</td>\n",
       "      <td>[콜드브루, 담백, 카페인]</td>\n",
       "    </tr>\n",
       "    <tr>\n",
       "      <th>32</th>\n",
       "      <td>콜롬비아드립커피</td>\n",
       "      <td>[드립커피, 담백, 카페인]</td>\n",
       "    </tr>\n",
       "    <tr>\n",
       "      <th>33</th>\n",
       "      <td>케냐드립커피</td>\n",
       "      <td>[드립커피, 담백, 카페인]</td>\n",
       "    </tr>\n",
       "    <tr>\n",
       "      <th>34</th>\n",
       "      <td>사케타로ICE</td>\n",
       "      <td>[에스프레소, 카페인]</td>\n",
       "    </tr>\n",
       "    <tr>\n",
       "      <th>35</th>\n",
       "      <td>코코넛커피스무디</td>\n",
       "      <td>[에스프레소스페셜, 달콤, 카페인, 스무디]</td>\n",
       "    </tr>\n",
       "    <tr>\n",
       "      <th>36</th>\n",
       "      <td>말차그린티라떼</td>\n",
       "      <td>[라떼, 달콤, 카페인, 우유]</td>\n",
       "    </tr>\n",
       "    <tr>\n",
       "      <th>37</th>\n",
       "      <td>청포도프레시</td>\n",
       "      <td>[프레시, 달콤, 주스, 과일]</td>\n",
       "    </tr>\n",
       "  </tbody>\n",
       "</table>\n",
       "</div>"
      ],
      "text/plain": [
       "           name                     keywords\n",
       "0          카페라떼         [에스프레소, 담백, 카페인, 우유]\n",
       "1         헤즐넛라떼         [에스프레소, 달콤, 카페인, 우유]\n",
       "2         레몬에이드            [에이드, 달콤, 주스, 과일]\n",
       "3     포스칼카비스커스차                      [차, 담백]\n",
       "4       브라질드립커피              [드립커피, 담백, 카페인]\n",
       "5      예자체크드립커피              [드립커피, 담백, 카페인]\n",
       "6      사과바나나프레시                [프레시, 달콤, 주스]\n",
       "7        레몬그라스차                      [차, 담백]\n",
       "8     플레인요거트스무디           [스무디, 달콤, 주스, 요거트]\n",
       "9        바나나프레시            [프레시, 달콤, 주스, 과일]\n",
       "10     레몬요거트스무디       [요거트, 스무디, 달콤, 주스, 과일]\n",
       "11    루이스보스바닐라차                      [차, 담백]\n",
       "12     코코넛커피스무디                [스무디, 달콤, 주스]\n",
       "13        더블카카오                [라떼, 담백, 카페인]\n",
       "14       티라미슈라떼      [에스프레소스페셜, 달콤, 카페인, 우유]\n",
       "15        오렌지라떼  [에스프레소스페셜, 달콤, 카페인, 우유, 과일]\n",
       "16          밀크티              [라떼, 담백, 차, 우유]\n",
       "17         자몽라떼  [에스프레소스페셜, 달콤, 카페인, 우유, 과일]\n",
       "18         더치라떼          [콜드브루, 담백, 카페인, 우유]\n",
       "19      카라멜마끼야또         [에스프레소, 달콤, 카페인, 우유]\n",
       "20    오늘의원두드립커피              [드립커피, 담백, 카페인]\n",
       "21         생강라떼              [라떼, 달콤, 차, 우유]\n",
       "22     과테말라드립커피              [드립커피, 담백, 카페인]\n",
       "23        아메리카노          [에스프레소, 담백, 카페인, 물]\n",
       "24        자몽에이드            [에이드, 달콤, 주스, 과일]\n",
       "25        바닐라라떼         [에스프레소, 달콤, 카페인, 우유]\n",
       "26      쿠키크림스무디                [스무디, 달콤, 주스]\n",
       "27  스노우아메리카노ICE       [에스프레소스페셜, 달콤, 카페인, 물]\n",
       "28         카페모카         [에스프레소, 달콤, 카페인, 우유]\n",
       "29         카푸치노         [에스프레소, 담백, 카페인, 우유]\n",
       "30      밀어라떼ICE          [에스프레소스페셜, 카페인, 우유]\n",
       "31      더치아메리카노              [콜드브루, 담백, 카페인]\n",
       "32     콜롬비아드립커피              [드립커피, 담백, 카페인]\n",
       "33       케냐드립커피              [드립커피, 담백, 카페인]\n",
       "34      사케타로ICE                 [에스프레소, 카페인]\n",
       "35     코코넛커피스무디     [에스프레소스페셜, 달콤, 카페인, 스무디]\n",
       "36      말차그린티라떼            [라떼, 달콤, 카페인, 우유]\n",
       "37       청포도프레시            [프레시, 달콤, 주스, 과일]"
      ]
     },
     "execution_count": 44,
     "metadata": {},
     "output_type": "execute_result"
    }
   ],
   "source": [
    "# python list [메뉴이름, [키워드]] 형태을 Pandas DataFrame 형태로 변환함\n",
    "keyword_df = pd.DataFrame(doc_list, columns=col_name)\n",
    "keyword_df"
   ]
  },
  {
   "cell_type": "code",
   "execution_count": null,
   "metadata": {},
   "outputs": [],
   "source": []
  },
  {
   "cell_type": "code",
   "execution_count": 45,
   "metadata": {},
   "outputs": [
    {
     "data": {
      "text/html": [
       "<div>\n",
       "<style scoped>\n",
       "    .dataframe tbody tr th:only-of-type {\n",
       "        vertical-align: middle;\n",
       "    }\n",
       "\n",
       "    .dataframe tbody tr th {\n",
       "        vertical-align: top;\n",
       "    }\n",
       "\n",
       "    .dataframe thead th {\n",
       "        text-align: right;\n",
       "    }\n",
       "</style>\n",
       "<table border=\"1\" class=\"dataframe\">\n",
       "  <thead>\n",
       "    <tr style=\"text-align: right;\">\n",
       "      <th></th>\n",
       "      <th>name</th>\n",
       "      <th>keywords</th>\n",
       "    </tr>\n",
       "  </thead>\n",
       "  <tbody>\n",
       "    <tr>\n",
       "      <th>0</th>\n",
       "      <td>카페라떼</td>\n",
       "      <td>에스프레소 담백 카페인 우유</td>\n",
       "    </tr>\n",
       "    <tr>\n",
       "      <th>1</th>\n",
       "      <td>헤즐넛라떼</td>\n",
       "      <td>에스프레소 달콤 카페인 우유</td>\n",
       "    </tr>\n",
       "    <tr>\n",
       "      <th>2</th>\n",
       "      <td>레몬에이드</td>\n",
       "      <td>에이드 달콤 주스 과일</td>\n",
       "    </tr>\n",
       "    <tr>\n",
       "      <th>3</th>\n",
       "      <td>포스칼카비스커스차</td>\n",
       "      <td>차 담백</td>\n",
       "    </tr>\n",
       "    <tr>\n",
       "      <th>4</th>\n",
       "      <td>브라질드립커피</td>\n",
       "      <td>드립커피 담백 카페인</td>\n",
       "    </tr>\n",
       "    <tr>\n",
       "      <th>5</th>\n",
       "      <td>예자체크드립커피</td>\n",
       "      <td>드립커피 담백 카페인</td>\n",
       "    </tr>\n",
       "    <tr>\n",
       "      <th>6</th>\n",
       "      <td>사과바나나프레시</td>\n",
       "      <td>프레시 달콤 주스</td>\n",
       "    </tr>\n",
       "    <tr>\n",
       "      <th>7</th>\n",
       "      <td>레몬그라스차</td>\n",
       "      <td>차 담백</td>\n",
       "    </tr>\n",
       "    <tr>\n",
       "      <th>8</th>\n",
       "      <td>플레인요거트스무디</td>\n",
       "      <td>스무디 달콤 주스 요거트</td>\n",
       "    </tr>\n",
       "    <tr>\n",
       "      <th>9</th>\n",
       "      <td>바나나프레시</td>\n",
       "      <td>프레시 달콤 주스 과일</td>\n",
       "    </tr>\n",
       "    <tr>\n",
       "      <th>10</th>\n",
       "      <td>레몬요거트스무디</td>\n",
       "      <td>요거트 스무디 달콤 주스 과일</td>\n",
       "    </tr>\n",
       "    <tr>\n",
       "      <th>11</th>\n",
       "      <td>루이스보스바닐라차</td>\n",
       "      <td>차 담백</td>\n",
       "    </tr>\n",
       "    <tr>\n",
       "      <th>12</th>\n",
       "      <td>코코넛커피스무디</td>\n",
       "      <td>스무디 달콤 주스</td>\n",
       "    </tr>\n",
       "    <tr>\n",
       "      <th>13</th>\n",
       "      <td>더블카카오</td>\n",
       "      <td>라떼 담백 카페인</td>\n",
       "    </tr>\n",
       "    <tr>\n",
       "      <th>14</th>\n",
       "      <td>티라미슈라떼</td>\n",
       "      <td>에스프레소스페셜 달콤 카페인 우유</td>\n",
       "    </tr>\n",
       "    <tr>\n",
       "      <th>15</th>\n",
       "      <td>오렌지라떼</td>\n",
       "      <td>에스프레소스페셜 달콤 카페인 우유 과일</td>\n",
       "    </tr>\n",
       "    <tr>\n",
       "      <th>16</th>\n",
       "      <td>밀크티</td>\n",
       "      <td>라떼 담백 차 우유</td>\n",
       "    </tr>\n",
       "    <tr>\n",
       "      <th>17</th>\n",
       "      <td>자몽라떼</td>\n",
       "      <td>에스프레소스페셜 달콤 카페인 우유 과일</td>\n",
       "    </tr>\n",
       "    <tr>\n",
       "      <th>18</th>\n",
       "      <td>더치라떼</td>\n",
       "      <td>콜드브루 담백 카페인 우유</td>\n",
       "    </tr>\n",
       "    <tr>\n",
       "      <th>19</th>\n",
       "      <td>카라멜마끼야또</td>\n",
       "      <td>에스프레소 달콤 카페인 우유</td>\n",
       "    </tr>\n",
       "    <tr>\n",
       "      <th>20</th>\n",
       "      <td>오늘의원두드립커피</td>\n",
       "      <td>드립커피 담백 카페인</td>\n",
       "    </tr>\n",
       "    <tr>\n",
       "      <th>21</th>\n",
       "      <td>생강라떼</td>\n",
       "      <td>라떼 달콤 차 우유</td>\n",
       "    </tr>\n",
       "    <tr>\n",
       "      <th>22</th>\n",
       "      <td>과테말라드립커피</td>\n",
       "      <td>드립커피 담백 카페인</td>\n",
       "    </tr>\n",
       "    <tr>\n",
       "      <th>23</th>\n",
       "      <td>아메리카노</td>\n",
       "      <td>에스프레소 담백 카페인 물</td>\n",
       "    </tr>\n",
       "    <tr>\n",
       "      <th>24</th>\n",
       "      <td>자몽에이드</td>\n",
       "      <td>에이드 달콤 주스 과일</td>\n",
       "    </tr>\n",
       "    <tr>\n",
       "      <th>25</th>\n",
       "      <td>바닐라라떼</td>\n",
       "      <td>에스프레소 달콤 카페인 우유</td>\n",
       "    </tr>\n",
       "    <tr>\n",
       "      <th>26</th>\n",
       "      <td>쿠키크림스무디</td>\n",
       "      <td>스무디 달콤 주스</td>\n",
       "    </tr>\n",
       "    <tr>\n",
       "      <th>27</th>\n",
       "      <td>스노우아메리카노ICE</td>\n",
       "      <td>에스프레소스페셜 달콤 카페인 물</td>\n",
       "    </tr>\n",
       "    <tr>\n",
       "      <th>28</th>\n",
       "      <td>카페모카</td>\n",
       "      <td>에스프레소 달콤 카페인 우유</td>\n",
       "    </tr>\n",
       "    <tr>\n",
       "      <th>29</th>\n",
       "      <td>카푸치노</td>\n",
       "      <td>에스프레소 담백 카페인 우유</td>\n",
       "    </tr>\n",
       "    <tr>\n",
       "      <th>30</th>\n",
       "      <td>밀어라떼ICE</td>\n",
       "      <td>에스프레소스페셜 카페인 우유</td>\n",
       "    </tr>\n",
       "    <tr>\n",
       "      <th>31</th>\n",
       "      <td>더치아메리카노</td>\n",
       "      <td>콜드브루 담백 카페인</td>\n",
       "    </tr>\n",
       "    <tr>\n",
       "      <th>32</th>\n",
       "      <td>콜롬비아드립커피</td>\n",
       "      <td>드립커피 담백 카페인</td>\n",
       "    </tr>\n",
       "    <tr>\n",
       "      <th>33</th>\n",
       "      <td>케냐드립커피</td>\n",
       "      <td>드립커피 담백 카페인</td>\n",
       "    </tr>\n",
       "    <tr>\n",
       "      <th>34</th>\n",
       "      <td>사케타로ICE</td>\n",
       "      <td>에스프레소 카페인</td>\n",
       "    </tr>\n",
       "    <tr>\n",
       "      <th>35</th>\n",
       "      <td>코코넛커피스무디</td>\n",
       "      <td>에스프레소스페셜 달콤 카페인 스무디</td>\n",
       "    </tr>\n",
       "    <tr>\n",
       "      <th>36</th>\n",
       "      <td>말차그린티라떼</td>\n",
       "      <td>라떼 달콤 카페인 우유</td>\n",
       "    </tr>\n",
       "    <tr>\n",
       "      <th>37</th>\n",
       "      <td>청포도프레시</td>\n",
       "      <td>프레시 달콤 주스 과일</td>\n",
       "    </tr>\n",
       "  </tbody>\n",
       "</table>\n",
       "</div>"
      ],
      "text/plain": [
       "           name               keywords\n",
       "0          카페라떼        에스프레소 담백 카페인 우유\n",
       "1         헤즐넛라떼        에스프레소 달콤 카페인 우유\n",
       "2         레몬에이드           에이드 달콤 주스 과일\n",
       "3     포스칼카비스커스차                   차 담백\n",
       "4       브라질드립커피            드립커피 담백 카페인\n",
       "5      예자체크드립커피            드립커피 담백 카페인\n",
       "6      사과바나나프레시              프레시 달콤 주스\n",
       "7        레몬그라스차                   차 담백\n",
       "8     플레인요거트스무디          스무디 달콤 주스 요거트\n",
       "9        바나나프레시           프레시 달콤 주스 과일\n",
       "10     레몬요거트스무디       요거트 스무디 달콤 주스 과일\n",
       "11    루이스보스바닐라차                   차 담백\n",
       "12     코코넛커피스무디              스무디 달콤 주스\n",
       "13        더블카카오              라떼 담백 카페인\n",
       "14       티라미슈라떼     에스프레소스페셜 달콤 카페인 우유\n",
       "15        오렌지라떼  에스프레소스페셜 달콤 카페인 우유 과일\n",
       "16          밀크티             라떼 담백 차 우유\n",
       "17         자몽라떼  에스프레소스페셜 달콤 카페인 우유 과일\n",
       "18         더치라떼         콜드브루 담백 카페인 우유\n",
       "19      카라멜마끼야또        에스프레소 달콤 카페인 우유\n",
       "20    오늘의원두드립커피            드립커피 담백 카페인\n",
       "21         생강라떼             라떼 달콤 차 우유\n",
       "22     과테말라드립커피            드립커피 담백 카페인\n",
       "23        아메리카노         에스프레소 담백 카페인 물\n",
       "24        자몽에이드           에이드 달콤 주스 과일\n",
       "25        바닐라라떼        에스프레소 달콤 카페인 우유\n",
       "26      쿠키크림스무디              스무디 달콤 주스\n",
       "27  스노우아메리카노ICE      에스프레소스페셜 달콤 카페인 물\n",
       "28         카페모카        에스프레소 달콤 카페인 우유\n",
       "29         카푸치노        에스프레소 담백 카페인 우유\n",
       "30      밀어라떼ICE        에스프레소스페셜 카페인 우유\n",
       "31      더치아메리카노            콜드브루 담백 카페인\n",
       "32     콜롬비아드립커피            드립커피 담백 카페인\n",
       "33       케냐드립커피            드립커피 담백 카페인\n",
       "34      사케타로ICE              에스프레소 카페인\n",
       "35     코코넛커피스무디    에스프레소스페셜 달콤 카페인 스무디\n",
       "36      말차그린티라떼           라떼 달콤 카페인 우유\n",
       "37       청포도프레시           프레시 달콤 주스 과일"
      ]
     },
     "execution_count": 45,
     "metadata": {},
     "output_type": "execute_result"
    }
   ],
   "source": [
    "# keywords 리스트 원소들을 공백으로 이어붙임\n",
    "keyword_df['keywords'] = keyword_df['keywords'].apply(lambda x: (' ').join(x))\n",
    "keyword_df"
   ]
  },
  {
   "cell_type": "code",
   "execution_count": 46,
   "metadata": {},
   "outputs": [
    {
     "data": {
      "text/plain": [
       "<38x38 sparse matrix of type '<class 'numpy.int64'>'\n",
       "\twith 218 stored elements in Compressed Sparse Row format>"
      ]
     },
     "execution_count": 46,
     "metadata": {},
     "output_type": "execute_result"
    }
   ],
   "source": [
    "from sklearn.feature_extraction.text import CountVectorizer\n",
    "\n",
    "count_vect = CountVectorizer(min_df=0, ngram_range=(1,2))\n",
    "keyword_mat = count_vect.fit_transform(keyword_df['keywords']) # 피처 벡터화된 행렬 추출\n",
    "keyword_mat"
   ]
  },
  {
   "cell_type": "code",
   "execution_count": 47,
   "metadata": {},
   "outputs": [
    {
     "data": {
      "text/plain": [
       "(38, 38)"
      ]
     },
     "execution_count": 47,
     "metadata": {},
     "output_type": "execute_result"
    }
   ],
   "source": [
    "keyword_mat.shape"
   ]
  },
  {
   "cell_type": "code",
   "execution_count": 48,
   "metadata": {},
   "outputs": [
    {
     "data": {
      "text/plain": [
       "array([1.        , 0.57142857, 0.        , 0.37796447, 0.50709255,\n",
       "       0.50709255, 0.        , 0.37796447, 0.        , 0.        ,\n",
       "       0.        , 0.37796447, 0.        , 0.50709255, 0.42857143,\n",
       "       0.37796447, 0.3380617 , 0.37796447, 0.71428571, 0.57142857,\n",
       "       0.50709255, 0.16903085, 0.50709255, 0.84515425, 0.        ,\n",
       "       0.57142857, 0.        , 0.16903085, 0.57142857, 1.        ,\n",
       "       0.50709255, 0.50709255, 0.50709255, 0.50709255, 0.43643578,\n",
       "       0.14285714, 0.42857143, 0.        ])"
      ]
     },
     "execution_count": 48,
     "metadata": {},
     "output_type": "execute_result"
    }
   ],
   "source": [
    "from sklearn.metrics.pairwise import cosine_similarity\n",
    "\n",
    "# 피처 벡터화된 행렬에 코사인 유사도를 적용\n",
    "keyword_sim = cosine_similarity(keyword_mat, keyword_mat)\n",
    "keyword_sim[0,:]"
   ]
  },
  {
   "cell_type": "code",
   "execution_count": 49,
   "metadata": {},
   "outputs": [
    {
     "data": {
      "text/plain": [
       "numpy.ndarray"
      ]
     },
     "execution_count": 49,
     "metadata": {},
     "output_type": "execute_result"
    }
   ],
   "source": [
    "type(keyword_sim)"
   ]
  },
  {
   "cell_type": "code",
   "execution_count": 50,
   "metadata": {},
   "outputs": [
    {
     "data": {
      "text/plain": [
       "(38, 38)"
      ]
     },
     "execution_count": 50,
     "metadata": {},
     "output_type": "execute_result"
    }
   ],
   "source": [
    "keyword_sim.shape"
   ]
  },
  {
   "cell_type": "code",
   "execution_count": 51,
   "metadata": {},
   "outputs": [
    {
     "data": {
      "text/plain": [
       "array([ 0, 19,  2,  3,  4,  4,  6,  3,  8, 37, 10,  3, 26, 13, 14, 15, 16,\n",
       "       15, 18, 19,  4, 21,  4, 23,  2, 19, 26, 27, 19,  0, 30, 31,  4,  4,\n",
       "       34, 35, 36, 37], dtype=int64)"
      ]
     },
     "execution_count": 51,
     "metadata": {},
     "output_type": "execute_result"
    }
   ],
   "source": [
    "# 유사도가 내림차 순으로 정렬된 행렬의 인덱스를 가져온다\n",
    "keyword_sim_sorted_index = keyword_sim.argsort()[:,::-1]\n",
    "keyword_sim_sorted_index[:,0] # 모든 행(모든 아이템)에 대해 유사도가 가장 놓은 아이템(첫 열) 인덱스를 추출한다"
   ]
  },
  {
   "cell_type": "code",
   "execution_count": 52,
   "metadata": {},
   "outputs": [
    {
     "data": {
      "text/plain": [
       "numpy.ndarray"
      ]
     },
     "execution_count": 52,
     "metadata": {},
     "output_type": "execute_result"
    }
   ],
   "source": [
    "type(keyword_sim_sorted_index)"
   ]
  },
  {
   "cell_type": "code",
   "execution_count": 53,
   "metadata": {},
   "outputs": [
    {
     "data": {
      "text/plain": [
       "list"
      ]
     },
     "execution_count": 53,
     "metadata": {},
     "output_type": "execute_result"
    }
   ],
   "source": [
    "index_list = keyword_sim_sorted_index[:,1].tolist() # 0은 자기자신, 1은 그 다음 유사도 높은 아이템 인덱스\n",
    "type(index_list)"
   ]
  },
  {
   "cell_type": "code",
   "execution_count": 54,
   "metadata": {},
   "outputs": [
    {
     "data": {
      "text/plain": [
       "38"
      ]
     },
     "execution_count": 54,
     "metadata": {},
     "output_type": "execute_result"
    }
   ],
   "source": [
    "len(index_list)"
   ]
  },
  {
   "cell_type": "code",
   "execution_count": 55,
   "metadata": {},
   "outputs": [
    {
     "data": {
      "text/plain": [
       "[29,\n",
       " 1,\n",
       " 24,\n",
       " 7,\n",
       " 5,\n",
       " 5,\n",
       " 37,\n",
       " 7,\n",
       " 26,\n",
       " 9,\n",
       " 8,\n",
       " 7,\n",
       " 12,\n",
       " 23,\n",
       " 15,\n",
       " 17,\n",
       " 13,\n",
       " 17,\n",
       " 31,\n",
       " 1,\n",
       " 5,\n",
       " 36,\n",
       " 5,\n",
       " 0,\n",
       " 24,\n",
       " 1,\n",
       " 12,\n",
       " 35,\n",
       " 1,\n",
       " 29,\n",
       " 14,\n",
       " 18,\n",
       " 5,\n",
       " 5,\n",
       " 23,\n",
       " 27,\n",
       " 25,\n",
       " 9]"
      ]
     },
     "execution_count": 55,
     "metadata": {},
     "output_type": "execute_result"
    }
   ],
   "source": [
    "index_list"
   ]
  },
  {
   "cell_type": "code",
   "execution_count": 56,
   "metadata": {},
   "outputs": [
    {
     "name": "stdout",
     "output_type": "stream",
     "text": [
      "카페라떼 : 카푸치노\n",
      "헤즐넛라떼 : 헤즐넛라떼\n",
      "레몬에이드 : 자몽에이드\n",
      "포스칼카비스커스차 : 레몬그라스차\n",
      "브라질드립커피 : 예자체크드립커피\n",
      "예자체크드립커피 : 예자체크드립커피\n",
      "사과바나나프레시 : 청포도프레시\n",
      "레몬그라스차 : 레몬그라스차\n",
      "플레인요거트스무디 : 쿠키크림스무디\n",
      "바나나프레시 : 바나나프레시\n",
      "레몬요거트스무디 : 플레인요거트스무디\n",
      "루이스보스바닐라차 : 레몬그라스차\n",
      "코코넛커피스무디 : 코코넛커피스무디\n",
      "더블카카오 : 아메리카노\n",
      "티라미슈라떼 : 오렌지라떼\n",
      "오렌지라떼 : 자몽라떼\n",
      "밀크티 : 더블카카오\n",
      "자몽라떼 : 자몽라떼\n",
      "더치라떼 : 더치아메리카노\n",
      "카라멜마끼야또 : 헤즐넛라떼\n",
      "오늘의원두드립커피 : 예자체크드립커피\n",
      "생강라떼 : 말차그린티라떼\n",
      "과테말라드립커피 : 예자체크드립커피\n",
      "아메리카노 : 카페라떼\n",
      "자몽에이드 : 자몽에이드\n",
      "바닐라라떼 : 헤즐넛라떼\n",
      "쿠키크림스무디 : 코코넛커피스무디\n",
      "스노우아메리카노ICE : 코코넛커피스무디\n",
      "카페모카 : 헤즐넛라떼\n",
      "카푸치노 : 카푸치노\n",
      "밀어라떼ICE : 티라미슈라떼\n",
      "더치아메리카노 : 더치라떼\n",
      "콜롬비아드립커피 : 예자체크드립커피\n",
      "케냐드립커피 : 예자체크드립커피\n",
      "사케타로ICE : 아메리카노\n",
      "코코넛커피스무디 : 스노우아메리카노ICE\n",
      "말차그린티라떼 : 바닐라라떼\n",
      "청포도프레시 : 바나나프레시\n"
     ]
    }
   ],
   "source": [
    "# 나는 뭘 하고 싶은 거냐면, 최초 DataFrame에서 모든 행을 돌면서, 행 숫자 인덱스로 접근해서, 메뉴이름을 얻고 싶다\n",
    "# 메뉴 : 유사 메뉴 형태로 출력하고 싶어\n",
    "\n",
    "# 최초 DataFrame 은 keyword_df.\n",
    "#keyword_df.iloc[숫자]\n",
    "\n",
    "for i in range(len(index_list)): # 범위 [0,len(index_list))\n",
    "    # keyword_df.iloc[i]['name'] # 판다스 접근? .? [컬럼명?] : 컬럼명으로 접근 잘된다\n",
    "    print(keyword_df.iloc[i]['name'], ':',keyword_df.iloc[index_list[i]]['name']) # 자기 이름이 두 번 나오겠지\n",
    "    #keyword_df.iloc[index_list[i]]['name']"
   ]
  }
 ],
 "metadata": {
  "kernelspec": {
   "display_name": "Python 3",
   "language": "python",
   "name": "python3"
  },
  "language_info": {
   "codemirror_mode": {
    "name": "ipython",
    "version": 3
   },
   "file_extension": ".py",
   "mimetype": "text/x-python",
   "name": "python",
   "nbconvert_exporter": "python",
   "pygments_lexer": "ipython3",
   "version": "3.6.9"
  }
 },
 "nbformat": 4,
 "nbformat_minor": 2
}
