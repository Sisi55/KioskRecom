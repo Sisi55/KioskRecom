{
 "cells": [
  {
   "cell_type": "code",
   "execution_count": 1,
   "metadata": {},
   "outputs": [],
   "source": [
    "import firebase_admin\n",
    "from firebase_admin import credentials\n",
    "from firebase_admin import firestore\n",
    "import pandas as pd\n",
    "from sklearn.tree import DecisionTreeClassifier\n",
    "from sklearn.model_selection import train_test_split\n",
    "from sklearn.metrics import accuracy_score"
   ]
  },
  {
   "cell_type": "code",
   "execution_count": 2,
   "metadata": {},
   "outputs": [
    {
     "name": "stdout",
     "output_type": "stream",
     "text": [
      "{'anger': '10000000', 'contempt': '01000000', 'disgust': '00100000', 'fear': '00010000', 'happiness': '00001000', 'neutral': '00000100', 'sadness': '00000010', 'surprise': '00000001'}\n"
     ]
    }
   ],
   "source": [
    "# [초기화 시작]\n",
    "\n",
    "cred = credentials.Certificate('kiosk-firestore-jnsy-bcfe4-firebase-adminsdk-269q4-4a795774bb.json')\n",
    "firebase_admin.initialize_app(cred)\n",
    "\n",
    "# 8가지 감정 키워드\n",
    "emotion_keyword = [\"anger\",\"contempt\",\"disgust\",\"fear\",\"happiness\",\"neutral\",\"sadness\",\"surprise\"]\n",
    "\n",
    "emotion_df = pd.DataFrame({ 'emotion_keyword':emotion_keyword })\n",
    "emotion_vec = pd.get_dummies(emotion_df).values\n",
    "#print(emotion_vec)\n",
    "\n",
    "emotion_keyword_to_vec = {}\n",
    "for index,keyword in enumerate(emotion_keyword):\n",
    "    emotion_keyword_to_vec[keyword] = ''.join(list(map(str,emotion_vec[index].tolist())))\n",
    "#emotion_keyword_to_vec: dict\n",
    "print(emotion_keyword_to_vec)\n",
    "\n",
    "# [초기화 끝]"
   ]
  },
  {
   "cell_type": "code",
   "execution_count": null,
   "metadata": {},
   "outputs": [],
   "source": []
  },
  {
   "cell_type": "code",
   "execution_count": null,
   "metadata": {},
   "outputs": [],
   "source": [
    "docs = firestore.client().collection(u'order').stream() #get 사용하지 말란다\n",
    "\n",
    "doc_list = []\n",
    "for doc in docs:\n",
    "    #print(doc.get('emotion'))\n",
    "    #print(type(doc))\n",
    "    doc_list_row = []\n",
    "    \n",
    "    # 메뉴 - 레이블\n",
    "    doc_list_row.append(doc.get('orderToString'))\n",
    " \n",
    "    # 날씨\n",
    "    weather_key_list = []\n",
    "    for key in doc.get('weather').keys():\n",
    "        #weather_key_list.append(doc.get('weather').get(key))\n",
    "        doc_list_row.append(doc.get('weather').get(key))\n",
    "    \n",
    "    # 감정\n",
    "    emotion_key_list = ''\n",
    "    for key in doc.get('emotion').keys():\n",
    "        #print(key)\n",
    "        emotion_key_list += emotion_keyword_to_vec.get(key)\n",
    "    doc_list_row.append(emotion_key_list)\n",
    "    \n",
    "    doc_list.append(doc_list_row)\n",
    "    \n",
    "doc_df = pd.DataFrame(doc_list, columns=['item_name','w_humidity','w_temp','w_speed','emotion'])\n",
    "\n",
    "#레이블은 레이블 인코딩\n",
    "from sklearn.preprocessing import LabelEncoder\n",
    "\n",
    "encoder = LabelEncoder()\n",
    "items = doc_df['item_name'].values.tolist()\n",
    "encoder.fit(items)\n",
    "#labels = encoder.transform(items)\n",
    "doc_df['item_name'] = pd.Series(encoder.transform(items))\n",
    "\n",
    "print('인코딩 클래스:', encoder.classes_)\n",
    "print('디코딩 원본 값:', encoder.inverse_transform([0,1]))\n",
    "doc_df"
   ]
  },
  {
   "cell_type": "code",
   "execution_count": null,
   "metadata": {},
   "outputs": [],
   "source": [
    "doc_df['item_name'] = pd.Series(encoder.transform(items))\n",
    "doc_df['item_name']"
   ]
  },
  {
   "cell_type": "code",
   "execution_count": null,
   "metadata": {},
   "outputs": [],
   "source": []
  },
  {
   "cell_type": "code",
   "execution_count": null,
   "metadata": {},
   "outputs": [],
   "source": [
    "print(label_list)\n",
    "print(doc_df['item_name'])\n",
    "label_df"
   ]
  },
  {
   "cell_type": "code",
   "execution_count": null,
   "metadata": {},
   "outputs": [],
   "source": [
    "#학습\n",
    "\n",
    "dt_clf = DecisionTreeClassifier()\n",
    "X_train,X_test,y_train,y_test = train_test_split(doc_df[['w_humidity','w_temp','w_speed','emotion']],\n",
    "                                                doc_df[['item_name']], test_size=0.2)\n",
    "dt_clf.fit(X_train,y_train)\n",
    "\n",
    "pred = dt_clf.predict(X_test)\n",
    "accuracy = accuracy_score(y_test, pred)\n",
    "print('결정 트리 예측 정확도: {0:.4f}'.format(accuracy))"
   ]
  },
  {
   "cell_type": "code",
   "execution_count": null,
   "metadata": {},
   "outputs": [],
   "source": []
  },
  {
   "cell_type": "code",
   "execution_count": null,
   "metadata": {},
   "outputs": [],
   "source": [
    "# 람다 test\n",
    "# 람다에 매개: humidity, temp, speed, emotion 보내서 정제해야 겠다\n",
    "# emotion 변환은 DB에 저장해서 가져와야겠는걸..? 아닌가 람다 초기화에 이용하면 되나? 전역\n",
    "#  event[''] - humidity, temp, speed, emotion\n",
    "label_df = pd.DataFrame({ 'w_humidity':[80.0],#event['humidity']],\n",
    "                         'w_temp':[300.0],#event['temp']],\n",
    "                         'w_speed':[1.00],#event['speed']],\n",
    "                         'emotion':['0100000000000001']})#event['emotion']] })\n",
    "print('param', label_df)\n",
    "pred2 = dt_clf.predict(label_df)\n",
    "print('predict: ', pred2)"
   ]
  },
  {
   "cell_type": "code",
   "execution_count": null,
   "metadata": {},
   "outputs": [],
   "source": []
  }
 ],
 "metadata": {
  "kernelspec": {
   "display_name": "Python 3",
   "language": "python",
   "name": "python3"
  },
  "language_info": {
   "codemirror_mode": {
    "name": "ipython",
    "version": 3
   },
   "file_extension": ".py",
   "mimetype": "text/x-python",
   "name": "python",
   "nbconvert_exporter": "python",
   "pygments_lexer": "ipython3",
   "version": "3.6.9"
  }
 },
 "nbformat": 4,
 "nbformat_minor": 2
}
