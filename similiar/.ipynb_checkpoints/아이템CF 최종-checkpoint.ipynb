{
 "cells": [
  {
   "cell_type": "code",
   "execution_count": 1,
   "metadata": {},
   "outputs": [
    {
     "data": {
      "text/plain": [
       "<firebase_admin.App at 0x1db593205c0>"
      ]
     },
     "execution_count": 1,
     "metadata": {},
     "output_type": "execute_result"
    }
   ],
   "source": [
    "import firebase_admin\n",
    "from firebase_admin import credentials\n",
    "from firebase_admin import firestore\n",
    "import pandas as pd\n",
    "import numpy as np\n",
    "from sklearn.preprocessing import LabelEncoder\n",
    "from sklearn.metrics.pairwise import cosine_similarity\n",
    "\n",
    "cred = credentials.Certificate('kiosk-firestore-jnsy-bcfe4-firebase-adminsdk-269q4-4a795774bb.json')\n",
    "firebase_admin.initialize_app(cred)"
   ]
  },
  {
   "cell_type": "code",
   "execution_count": 2,
   "metadata": {},
   "outputs": [],
   "source": [
    "def get_user_rating_list(tag='user'):\n",
    "    docs = firestore.client().collection(tag).stream()\n",
    "    doc_list = []\n",
    "    \n",
    "    for doc in docs:\n",
    "        doc_list_row = []\n",
    "        doc_list_row.append(doc.get('personUUID'))\n",
    "        for key in doc.get('itemPreference').keys(): # {아이템이름str:점수int}\n",
    "            doc_list_row.append([key,doc.get('itemPreference').get(key)])\n",
    "            \n",
    "        doc_list.append(doc_list_row)\n",
    "    \n",
    "    return doc_list\n"
   ]
  },
  {
   "cell_type": "code",
   "execution_count": 3,
   "metadata": {},
   "outputs": [],
   "source": [
    "def data_preprocessing(user_items_list):\n",
    "    temp_list = [] # user,item,rating 저장할 리스트\n",
    "    \n",
    "    for row in user_items_list: #[0]은 항상 person uuid\n",
    "        if len(row) != 1: #길이가 하나인 행은 uuid만 있으므로 제외\n",
    "            size = len(row)-1  # size는 user의 점수 매긴 item 개수\n",
    "            for i in range(1,size+1): # 한 행 안의 아이템 루프 \n",
    "                temp_list.append([row[0], row[i][0] , row[i][1] ])\n",
    "                \n",
    "    return temp_list\n"
   ]
  },
  {
   "cell_type": "code",
   "execution_count": 4,
   "metadata": {},
   "outputs": [],
   "source": [
    "def userid_preprocessing(rating_item_df): #userid 전처리\n",
    "    \n",
    "    userid_encoder = LabelEncoder()\n",
    "    users = rating_item_df['userid'].values.tolist()\n",
    "    userid_encoder.fit(users)\n",
    "    users_vec = userid_encoder.transform(users)\n",
    "    \n",
    "#print('인코딩 클래스:', userid_encoder.classes_)\n",
    "#print('디코딩 원본 값:', encoder.inverse_transform([0,1])) #리스트나 스칼라로 전달하면 변환해서 반환함\n",
    "    rating_item_df['userid'] = pd.Series(users_vec)\n",
    "    \n",
    "    return userid_encoder,rating_item_df # 사용자가 아이템에 점수 매긴 DF ## return\n"
   ]
  },
  {
   "cell_type": "code",
   "execution_count": 5,
   "metadata": {},
   "outputs": [],
   "source": [
    "def preference_df(ratings_matrix,item_sim_df):\n",
    "    \n",
    "    ratings_pred = ratings_matrix.values.dot(item_sim_df.values)/np.array([np.abs(item_sim_df.values).sum(axis=1)])\n",
    "    df = pd.DataFrame(data=ratings_pred, index=ratings_matrix.index, columns=ratings_matrix.columns)\n",
    "    \n",
    "    return df\n"
   ]
  },
  {
   "cell_type": "code",
   "execution_count": 6,
   "metadata": {},
   "outputs": [],
   "source": [
    "def user_already_ordered(user_id,ratings_matrix):\n",
    "    user_rating = ratings_matrix.loc[user_id,:] # 그래서 슬라이싱을 했구나\n",
    "    return user_rating[user_rating>0].index.tolist() ## 이 두줄 필요"
   ]
  },
  {
   "cell_type": "code",
   "execution_count": 7,
   "metadata": {},
   "outputs": [],
   "source": [
    "def item_cf(user_id,ratings_matrix,ratings_pred_matrix,top_n=1): #\n",
    "    \n",
    "    already_ordered = user_already_ordered(user_id,ratings_matrix)\n",
    "    \n",
    "    order_list = ratings_matrix.columns.tolist() # 전체 메뉴판에서 가져올 필요가 없다 계산못하니까\n",
    "    unordered_list = [item for item in order_list if item not in already_ordered]\n",
    "    recomm_item = ratings_pred_matrix.loc[user_id, unordered_list].sort_values(ascending=False)[:top_n]\n",
    "    \n",
    "    return recomm_item #추천 아이템 1개\n"
   ]
  },
  {
   "cell_type": "code",
   "execution_count": 45,
   "metadata": {},
   "outputs": [],
   "source": [
    "def not_order_item_dict(already_ordered,item_sim_des_dict):\n",
    "    return_dict = {}\n",
    "    for index,value_list in item_sim_des_dict.items():\n",
    "        \n",
    "        temp_list = [item for item in value_list if item not in already_ordered]\n",
    "        if len(temp_list) != 0:\n",
    "            return_dict[index] = temp_list[0]\n",
    "        else: # 길이가 0이면\n",
    "            return_dict[index] = []\n",
    "        \n",
    "    \n",
    "    return return_dict\n",
    "    "
   ]
  },
  {
   "cell_type": "code",
   "execution_count": 46,
   "metadata": {},
   "outputs": [],
   "source": [
    "def items_sim_dict(user_id,ratings_matrix,item_sim_df):\n",
    "    already_ordered = user_already_ordered(user_id,ratings_matrix) #list\n",
    "    \n",
    "    item_sim_des_dict = {}\n",
    "    for row,item in enumerate(item_sim_df):\n",
    "        #print(row, item) #item은 행:아이템 이름\n",
    "        row_ndarray = item_sim_df.iloc[row].values\n",
    "    \n",
    "        des_sort_index = np.argsort(row_ndarray)[::-1][1:]\n",
    "        \n",
    "        item_sim_des_list = item_sim_df.iloc[row].index[des_sort_index].tolist()\n",
    "        \n",
    "    \n",
    "        item_sim_des_dict[item] = item_sim_des_list #하나만\n",
    "        \n",
    "    return not_order_item_dict(already_ordered,item_sim_des_dict)"
   ]
  },
  {
   "cell_type": "code",
   "execution_count": 49,
   "metadata": {},
   "outputs": [],
   "source": [
    "def item_collaborativeFiltering(user_uuid): ## 매개 request 포함 path() 설정할 뷰 함수\n",
    "    \n",
    "    user_items_list = data_preprocessing(get_user_rating_list()) # order DB에서 데이터 가공해서 가져온다\n",
    "    \n",
    "    rating_item_df = pd.DataFrame(user_items_list, columns=['userid','itemid','rating']) #ndarray로 변환\n",
    "    userid_encoder,rating_item_df = userid_preprocessing(rating_item_df)\n",
    "    \n",
    "    user_id = userid_encoder.transform([user_uuid]).tolist()[0]\n",
    "    \n",
    "    \n",
    "    ratings_matrix = rating_item_df.pivot_table(values='rating', index='userid', columns='itemid').fillna(0)\n",
    "    ratings_matrix_T = ratings_matrix.transpose()\n",
    "    \n",
    "    item_sim = cosine_similarity(ratings_matrix_T, ratings_matrix_T)\n",
    "    item_sim_df = pd.DataFrame(data=item_sim, index=ratings_matrix.columns, columns=ratings_matrix.columns)\n",
    "    \n",
    "    ratings_pred_matrix = preference_df(ratings_matrix, item_sim_df)\n",
    "    result = item_cf(user_id,ratings_matrix,ratings_pred_matrix).index.tolist()[0] #\n",
    "    \n",
    "    item_sim_des_dict = items_sim_dict(user_id,ratings_matrix,item_sim_df)\n",
    "    print(item_sim_des_dict)\n",
    "    \n",
    "    return result ## 마지막 str\n",
    "    "
   ]
  },
  {
   "cell_type": "code",
   "execution_count": 50,
   "metadata": {},
   "outputs": [
    {
     "name": "stdout",
     "output_type": "stream",
     "text": [
      "itemid   꼬미        라떼       삼계탕  아메리카노\n",
      "itemid                                \n",
      "꼬미      1.0  0.000000  0.000000    0.0\n",
      "라떼      0.0  1.000000  0.316228    0.0\n",
      "삼계탕     0.0  0.316228  1.000000    0.0\n",
      "아메리카노   0.0  0.000000  0.000000    1.0\n",
      "0 꼬미\n",
      "['아메리카노', '삼계탕', '라떼']\n",
      "1 라떼\n",
      "['삼계탕', '아메리카노', '꼬미']\n",
      "2 삼계탕\n",
      "['라떼', '아메리카노', '꼬미']\n",
      "3 아메리카노\n",
      "['삼계탕', '라떼', '꼬미']\n",
      "{'꼬미': '아메리카노', '라떼': '삼계탕', '삼계탕': '아메리카노', '아메리카노': '삼계탕'}\n",
      "{'꼬미': '아메리카노', '라떼': '삼계탕', '삼계탕': '아메리카노', '아메리카노': '삼계탕'}\n"
     ]
    },
    {
     "data": {
      "text/plain": [
       "'삼계탕'"
      ]
     },
     "execution_count": 50,
     "metadata": {},
     "output_type": "execute_result"
    }
   ],
   "source": [
    "## main \n",
    "\n",
    "\n",
    "item_collaborativeFiltering('911283bd-2e4f-439b-89c4-fc8667782b51')\n",
    "\n"
   ]
  },
  {
   "cell_type": "code",
   "execution_count": 44,
   "metadata": {},
   "outputs": [
    {
     "name": "stdout",
     "output_type": "stream",
     "text": [
      "10\n"
     ]
    }
   ],
   "source": [
    "list_ = []\n",
    "if len(list_) != 0:\n",
    "    print(0)\n",
    "else:\n",
    "    print(10)"
   ]
  },
  {
   "cell_type": "code",
   "execution_count": null,
   "metadata": {},
   "outputs": [],
   "source": []
  },
  {
   "cell_type": "code",
   "execution_count": null,
   "metadata": {},
   "outputs": [],
   "source": []
  },
  {
   "cell_type": "code",
   "execution_count": null,
   "metadata": {},
   "outputs": [],
   "source": []
  },
  {
   "cell_type": "code",
   "execution_count": null,
   "metadata": {},
   "outputs": [],
   "source": []
  },
  {
   "cell_type": "code",
   "execution_count": null,
   "metadata": {},
   "outputs": [],
   "source": []
  },
  {
   "cell_type": "code",
   "execution_count": null,
   "metadata": {},
   "outputs": [],
   "source": []
  },
  {
   "cell_type": "code",
   "execution_count": null,
   "metadata": {},
   "outputs": [],
   "source": []
  },
  {
   "cell_type": "code",
   "execution_count": null,
   "metadata": {},
   "outputs": [],
   "source": []
  },
  {
   "cell_type": "code",
   "execution_count": null,
   "metadata": {},
   "outputs": [],
   "source": []
  }
 ],
 "metadata": {
  "kernelspec": {
   "display_name": "Python 3",
   "language": "python",
   "name": "python3"
  },
  "language_info": {
   "codemirror_mode": {
    "name": "ipython",
    "version": 3
   },
   "file_extension": ".py",
   "mimetype": "text/x-python",
   "name": "python",
   "nbconvert_exporter": "python",
   "pygments_lexer": "ipython3",
   "version": "3.6.9"
  }
 },
 "nbformat": 4,
 "nbformat_minor": 2
}
