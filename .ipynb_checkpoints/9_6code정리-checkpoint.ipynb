{
 "cells": [
  {
   "cell_type": "code",
   "execution_count": null,
   "metadata": {},
   "outputs": [],
   "source": [
    "import pandas as pd\n",
    "import numpy as np\n",
    "\n",
    "movies = pd.read_csv('movies.csv')\n",
    "ratings = pd.read_csv('ratings.csv')"
   ]
  },
  {
   "cell_type": "code",
   "execution_count": null,
   "metadata": {},
   "outputs": [],
   "source": [
    "ratings = ratings[['userId','movieId','rating']]\n",
    "ratings"
   ]
  },
  {
   "cell_type": "code",
   "execution_count": null,
   "metadata": {},
   "outputs": [],
   "source": [
    "#title 칼럼을 얻기 위해 movies와 조인\n",
    "rating_movies = pd.merge(ratings, movies, on='movieId')"
   ]
  },
  {
   "cell_type": "code",
   "execution_count": null,
   "metadata": {},
   "outputs": [],
   "source": [
    "ratings_matrix = rating_movies.pivot_table('rating', index='userId', columns='title')"
   ]
  },
  {
   "cell_type": "code",
   "execution_count": null,
   "metadata": {},
   "outputs": [],
   "source": [
    "#NaN 값을 모두 0으로 변환\n",
    "ratings_matrix = ratings_matrix.fillna(0)"
   ]
  },
  {
   "cell_type": "code",
   "execution_count": null,
   "metadata": {},
   "outputs": [],
   "source": [
    "#아이템 간 유사도 행렬을 구하려면, 아이템이 행으로 나열되어 있어야 함\n",
    "ratings_matrix_T = ratings_matrix.transpose()"
   ]
  },
  {
   "cell_type": "code",
   "execution_count": null,
   "metadata": {},
   "outputs": [],
   "source": [
    "from sklearn.metrics.pairwise import cosine_similarity\n",
    "\n",
    "item_sim = cosine_similarity(ratings_matrix_T, ratings_matrix_T)"
   ]
  },
  {
   "cell_type": "code",
   "execution_count": null,
   "metadata": {},
   "outputs": [],
   "source": [
    "# cosine_similarity()로 반환된 넘파이 행렬을 영화명을 매핑해 DataFrame으로 변환\n",
    "item_sim_df = pd.DataFrame(data=item_sim, index=ratings_matrix.columns, columns=ratings_matrix.columns)"
   ]
  },
  {
   "cell_type": "code",
   "execution_count": null,
   "metadata": {},
   "outputs": [],
   "source": [
    "# 사용자 취향을 고려해 개인화된 추천을 수행해봅시다.\n",
    "\n",
    "def predict_rating(ratings_arr, item_sim_arr):#평점, 유사도\n",
    "    rating_pred = ratings_arr.dot(item_sim_arr)/np.array([np.abs(item_sim_arr).sum(axis=1)])\n",
    "    #아 행으로 만드려고 [] 안에 sum 연산했구나. 결국 axis=0 같은 역할 아니야? \n",
    "    #응 아니야 []안하면 행으로 ndarray 만들어지니까\n",
    "    \n",
    "    # 평점*유사도/유사도합-각 아이템.\n",
    "    return rating_pred"
   ]
  },
  {
   "cell_type": "code",
   "execution_count": null,
   "metadata": {},
   "outputs": [],
   "source": [
    "ratings_pred = predict_rating(ratings_matrix.values, item_sim_df.values)\n",
    "ratings_pred_matrix = pd.DataFrame(data=ratings_pred, index=ratings_matrix.index, columns=ratings_matrix.columns)"
   ]
  },
  {
   "cell_type": "code",
   "execution_count": null,
   "metadata": {},
   "outputs": [],
   "source": [
    "from sklearn.metrics import mean_squared_error\n",
    "\n",
    "#사용자가 평점을 부여한 영화에 대해서만 예측 성능 평가 MSE를 구한다.\n",
    "def get_mse(pred, actual): #예측점수,실제점수:ratings_matrix\n",
    "    #평점이 있는 실제 영화만 추출\n",
    "    pred = pred[actual.nonzero()].flatten() #뭐야 인덱스 반환해주는거?oo\n",
    "    actual = actual[actual.nonzero()].flatten()\n",
    "    \n",
    "    return mean_squared_error(pred, actual)  "
   ]
  },
  {
   "cell_type": "code",
   "execution_count": null,
   "metadata": {},
   "outputs": [],
   "source": [
    "print('아이템 기반 모든 최근접 아이수 MSE', get_mse(ratings_pred,ratings_matrix.values))"
   ]
  },
  {
   "cell_type": "code",
   "execution_count": null,
   "metadata": {},
   "outputs": [],
   "source": [
    "#userId=9 사용자에게 아이템 기반 협업 필터링을 통해 영화를 추천해 봅시다.\n",
    "#먼저 사용자가 이미 평점을 준 영화를 제외하고 추천할 수 있도록\n",
    "#평점을 주지 않은 영화를 리스트 객체로 반환하는 함수인 get_unseen_movies()를 생성합니다.\n",
    "\n",
    "def get_unseen_movies(ratings_matrix, userId):\n",
    "    #userId로 입력받은 사용자의 모든 영화 정보를 추출해 Series로 반환한다.\n",
    "    user_rating = ratings_matrix.loc[userId,:]\n",
    "    #반환된 user_rating은 title을 인덱스로 가지는 Series 객체란다. 가로모양?도 Series?\n",
    "    \n",
    "    #user_rating이 0보다 크면 기존에 관람한 영화.\n",
    "    #대상 인덱스를 추출해 list 객체로 만든다\n",
    "    already_seen = user_rating[user_rating>0].index.tolist()\n",
    "    \n",
    "    #모든 영화명을 list 객체로 만든다\n",
    "    movies_list = ratings_matrix.columns.tolist()\n",
    "    \n",
    "    #list comprehension으로 already_seem에 해당하는 영화는 movies_list에서 제외한다\n",
    "    unseen_list = [movie for movie in movies_list if movie not in already_seen]\n",
    "    \n",
    "    return unseen_list"
   ]
  },
  {
   "cell_type": "code",
   "execution_count": null,
   "metadata": {},
   "outputs": [],
   "source": [
    "def recomm_movie_by_userid(pred_df, userId, unseen_list, top_n=10):\n",
    "    #예측 평점 DataFrame에서 사용자id 인덱스와 unseen_list로 들어온 영화명 칼럼을 추출해\n",
    "    #가장 예측 평점이 높은 순으로 정렬한다\n",
    "    recomm_movies = pred_df.loc[userId, unseen_list].sort_values(ascending=False)[:top_n]\n",
    "    \n",
    "    return recomm_movies"
   ]
  },
  {
   "cell_type": "code",
   "execution_count": null,
   "metadata": {},
   "outputs": [],
   "source": [
    "unseen_list = get_unseen_movies(ratings_matrix,9)\n",
    "recomm_movies = recomm_movie_by_userid(ratings_pred_matrix,9,unseen_list,top_n=10)\n",
    "#print(type(recomm_movies))\n",
    "#print(recomm_movies)\n",
    "#평점 데이터를 DataFrame으로 생성\n",
    "recomm_movies = pd.DataFrame(data=recomm_movies.values, index=recomm_movies.index, columns=['pred_score'])\n",
    "recomm_movies"
   ]
  },
  {
   "cell_type": "code",
   "execution_count": null,
   "metadata": {},
   "outputs": [],
   "source": []
  },
  {
   "cell_type": "code",
   "execution_count": null,
   "metadata": {},
   "outputs": [],
   "source": []
  }
 ],
 "metadata": {
  "kernelspec": {
   "display_name": "Python 3",
   "language": "python",
   "name": "python3"
  },
  "language_info": {
   "codemirror_mode": {
    "name": "ipython",
    "version": 3
   },
   "file_extension": ".py",
   "mimetype": "text/x-python",
   "name": "python",
   "nbconvert_exporter": "python",
   "pygments_lexer": "ipython3",
   "version": "3.6.9"
  }
 },
 "nbformat": 4,
 "nbformat_minor": 2
}
