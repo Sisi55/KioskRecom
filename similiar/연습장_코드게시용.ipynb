{
 "cells": [
  {
   "cell_type": "code",
   "execution_count": null,
   "metadata": {},
   "outputs": [],
   "source": [
    "# 선호도\n",
    "def itemCF(request, user_uuid):#사용자1, 아이템1\n",
    "    \n",
    "    result = item_collaborativeFiltering(user_uuid) #str:dict\n",
    "    # json 형식으로 두 가지 종류 추천을 반환한다\n",
    "    # 아이템:안먹은 유사아이템\n",
    "    # 사용자 > 안먹은 아이템  각각 하나씩\n",
    "\n",
    "    return HttpResponse(result)\n"
   ]
  },
  {
   "cell_type": "code",
   "execution_count": null,
   "metadata": {},
   "outputs": [],
   "source": []
  },
  {
   "cell_type": "code",
   "execution_count": null,
   "metadata": {},
   "outputs": [],
   "source": []
  },
  {
   "cell_type": "code",
   "execution_count": null,
   "metadata": {},
   "outputs": [],
   "source": []
  },
  {
   "cell_type": "code",
   "execution_count": null,
   "metadata": {},
   "outputs": [],
   "source": []
  },
  {
   "cell_type": "code",
   "execution_count": null,
   "metadata": {},
   "outputs": [],
   "source": []
  },
  {
   "cell_type": "code",
   "execution_count": null,
   "metadata": {},
   "outputs": [],
   "source": []
  },
  {
   "cell_type": "code",
   "execution_count": null,
   "metadata": {},
   "outputs": [],
   "source": []
  },
  {
   "cell_type": "code",
   "execution_count": null,
   "metadata": {},
   "outputs": [],
   "source": []
  },
  {
   "cell_type": "code",
   "execution_count": null,
   "metadata": {},
   "outputs": [],
   "source": []
  },
  {
   "cell_type": "code",
   "execution_count": null,
   "metadata": {},
   "outputs": [],
   "source": [
    "# emotion_keyword_to_vec를 만든다. 인코딩용. {‘감정’: 인코딩결과} 형태\n",
    "\n",
    "# 8가지 감정 키워드\n",
    "emotion_keyword = [\"anger\",\"contempt\",\"disgust\",\"fear\",\"happiness\",\"neutral\",\"sadness\",\"surprise\"]\n",
    "\n",
    "emotion_df = pd.DataFrame({ 'emotion_keyword':emotion_keyword })\n",
    "emotion_df['emotion_encoding'] = pd.factorize(emotion_df['emotion_keyword'])[0] \n",
    "\n",
    "#print(emotion_df.values)\n",
    "emotion_keyword_to_vec = {} #딕셔너리로 저장\n",
    "for keyword,encoding in emotion_df.values:\n",
    "    emotion_keyword_to_vec[keyword] = encoding\n",
    "\n"
   ]
  },
  {
   "cell_type": "code",
   "execution_count": null,
   "metadata": {},
   "outputs": [],
   "source": [
    "# order에 있는 데이터 가져온다\n",
    "# 최종적으로 Pandas DataFrame 으로 변환한다\n",
    "\n",
    "# Firestore에 접근\n",
    "docs = firestore.client().collection(u'order').stream()\n",
    "\n",
    "doc_list = []\n",
    "for doc in docs:\n",
    "    doc_list_row = []\n",
    "    \n",
    "    # 메뉴 이름 - 레이블\n",
    "    # 데이터가 거의 없는 문제로 [메뉴이름+상세옵션] 에서 [메뉴이름]으로 학습 레이블 변경\n",
    "    doc_list_row.append(doc.get('items')[0].get('name'))\n",
    "\n",
    "    # 날씨\n",
    "    for key in doc.get('weather').keys():\n",
    "        doc_list_row.append(doc.get('weather').get(key))\n",
    "    \n",
    "    # 감정\n",
    "    emotion_key_list = ''\n",
    "    for key in doc.get('emotion').keys():\n",
    "        emotion_key_list += str(emotion_keyword_to_vec[key])  # 감정 데이터 전처리\n",
    "    doc_list_row.append(emotion_key_list)\n",
    "    \n",
    "    # 날짜\n",
    "    list_date = doc.get('today').split(' ')\n",
    "    doc_list_row.append(list_date[0])\n",
    "    doc_list_row.append(list_date[1])\n",
    "    \n",
    "    doc_list.append(doc_list_row)\n",
    "\n",
    "doc_df = pd.DataFrame(doc_list, columns=['item_name','w_humidity','w_temp','w_speed','emotion','date','time'])\n",
    "doc_df['emotion'] = doc_df['emotion'].astype(int) # 감정 데이터 전처리 str to int\n"
   ]
  },
  {
   "cell_type": "code",
   "execution_count": null,
   "metadata": {},
   "outputs": [],
   "source": [
    "# 메뉴 이름\n",
    "doc_df['item_name'], item_name_restore = pd.factorize(doc_df['item_name']) # encoding 메뉴이름\n",
    "\n",
    "# date > 요일 > 주중/주말\n",
    "doc_df['num_of_days'] = doc_df['date'].apply(lambda x: date_to_VIP(x))\n",
    "doc_df['work_or_free'] = doc_df['num_of_days'].apply(lambda x: num_of_days_to_work_or_free(x))\n",
    "\n",
    "# time > 아침(~11)/오후(~16)/저녁(16~)\n",
    "doc_df['time_to_3'] = doc_df['time'].apply(lambda x: time_to_3(x))\n"
   ]
  },
  {
   "cell_type": "code",
   "execution_count": null,
   "metadata": {},
   "outputs": [],
   "source": [
    "# DataFrame 전처리\n",
    "# 날 수 세는 함수\n",
    "\n",
    "def date_to_VIP(date):\n",
    "    year,month,day = date.split('-')\n",
    "    year = int(year)\n",
    "    month = int(month)\n",
    "    day = int(day)\n",
    "    preYear = year-1\n",
    "    num_of_days = preYear*365 + (preYear/4 - preYear/100 + preYear/400)\n",
    "    \n",
    "    monthArray = [31,28,31,30,31,30,31,31,30,31,30,31]\n",
    "    for m in range(month):\n",
    "        num_of_days += monthArray[m]\n",
    "    \n",
    "    cond = (month>=3 and (year%4==0 and year%100!=0 or year%400==0))\n",
    "    if cond == True:\n",
    "        num_of_days += 1\n",
    "    \n",
    "    num_of_days += day\n",
    "    \n",
    "    return int(num_of_days)"
   ]
  },
  {
   "cell_type": "code",
   "execution_count": null,
   "metadata": {},
   "outputs": [],
   "source": []
  },
  {
   "cell_type": "code",
   "execution_count": null,
   "metadata": {},
   "outputs": [],
   "source": []
  },
  {
   "cell_type": "code",
   "execution_count": null,
   "metadata": {},
   "outputs": [],
   "source": []
  },
  {
   "cell_type": "code",
   "execution_count": null,
   "metadata": {},
   "outputs": [],
   "source": []
  },
  {
   "cell_type": "code",
   "execution_count": null,
   "metadata": {},
   "outputs": [],
   "source": []
  }
 ],
 "metadata": {
  "kernelspec": {
   "display_name": "Python 3",
   "language": "python",
   "name": "python3"
  },
  "language_info": {
   "codemirror_mode": {
    "name": "ipython",
    "version": 3
   },
   "file_extension": ".py",
   "mimetype": "text/x-python",
   "name": "python",
   "nbconvert_exporter": "python",
   "pygments_lexer": "ipython3",
   "version": "3.6.9"
  }
 },
 "nbformat": 4,
 "nbformat_minor": 2
}
