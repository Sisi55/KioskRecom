{
 "cells": [
  {
   "cell_type": "code",
   "execution_count": null,
   "metadata": {},
   "outputs": [],
   "source": [
    "#추천 연산에 필요한 데이터를 추출합니다\n",
    "cafe_item_df = cafe_item[['item_name', 'weather']]\n",
    "#날씨 데이터를 전처리합니다\n",
    "cafe_item_df['weather_literal'] = cafe_item_df['weather'].apply(lambda x : (' ').join(x))\n",
    "#단어 벡터화 객체를 생성합니다\n",
    "count_vect = CountVectorizer(min_df=0, ngram_range=(1,2))\n",
    "#날씨 데이터 벡터화를 수행합니다\n",
    "weather_mat = count_vect.fit_transform(cafe_item_df['weather_literal'])\n",
    "#날씨 데이터 기반 코사인 유사도를 연산합니다\n",
    "weather_sim = cosine_similarity(weather_mat, weather_mat)\n",
    "#코사인 유사도 내림차 정렬합니다\n",
    "weather_sorted_ind = weather_sim.argsort()[:, ::-1]"
   ]
  },
  {
   "cell_type": "code",
   "execution_count": null,
   "metadata": {},
   "outputs": [],
   "source": [
    "#데이터베이스에서 연산에 필요한 데이터를 추출합니다\n",
    "ratings = ratings[['userId','itemId','rating']] \n",
    "#연산에 필요한 행렬을 생성합니다\n",
    "ratings_matrix = ratings.pivot_table('rating', index='userId', columns='itemId')\n",
    "#연산에 불필요한 데이터를 전처리합니다\n",
    "ratings_matrix = ratings_matrix.fillna(0)\n",
    "#필요한 연산을 위해 데이터를 변형합니다\n",
    "ratings_matrix_T = ratings_matrix.transpose()\n",
    "#아이템 기반 협업 필터링 추천을 위한 코사인 유사도를 계산합니다\n",
    "item_sim = cosine_similarity(ratings_matrix_T, ratings_matrix_T)"
   ]
  }
 ],
 "metadata": {
  "kernelspec": {
   "display_name": "Python 3",
   "language": "python",
   "name": "python3"
  },
  "language_info": {
   "codemirror_mode": {
    "name": "ipython",
    "version": 3
   },
   "file_extension": ".py",
   "mimetype": "text/x-python",
   "name": "python",
   "nbconvert_exporter": "python",
   "pygments_lexer": "ipython3",
   "version": "3.6.9"
  }
 },
 "nbformat": 4,
 "nbformat_minor": 2
}
