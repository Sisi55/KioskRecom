{
 "cells": [
  {
   "cell_type": "code",
   "execution_count": 1,
   "metadata": {},
   "outputs": [
    {
     "data": {
      "text/plain": [
       "<firebase_admin.App at 0x17a5ddf06a0>"
      ]
     },
     "execution_count": 1,
     "metadata": {},
     "output_type": "execute_result"
    }
   ],
   "source": [
    "import json\n",
    "\n",
    "import firebase_admin\n",
    "from firebase_admin import credentials\n",
    "from firebase_admin import firestore\n",
    "import pandas as pd\n",
    "from sklearn.tree import DecisionTreeClassifier\n",
    "from sklearn.model_selection import train_test_split\n",
    "from sklearn.metrics import accuracy_score\n",
    "from sklearn.preprocessing import LabelEncoder\n",
    "\n",
    "#초기화\n",
    "cred = credentials.Certificate('kiosk-firestore-jnsy-bcfe4-firebase-adminsdk-269q4-4a795774bb.json')\n",
    "firebase_admin.initialize_app(cred)"
   ]
  },
  {
   "cell_type": "code",
   "execution_count": 4,
   "metadata": {},
   "outputs": [
    {
     "name": "stdout",
     "output_type": "stream",
     "text": [
      "[0 1 2 3 4 5 6 7]\n"
     ]
    },
    {
     "ename": "TypeError",
     "evalue": "'numpy.int64' object is not iterable",
     "output_type": "error",
     "traceback": [
      "\u001b[1;31m---------------------------------------------------------------------------\u001b[0m",
      "\u001b[1;31mTypeError\u001b[0m                                 Traceback (most recent call last)",
      "\u001b[1;32m<ipython-input-4-3c6e1c17af2d>\u001b[0m in \u001b[0;36m<module>\u001b[1;34m\u001b[0m\n\u001b[0;32m     11\u001b[0m \u001b[0memotion_keyword_to_vec\u001b[0m \u001b[1;33m=\u001b[0m \u001b[1;33m{\u001b[0m\u001b[1;33m}\u001b[0m\u001b[1;33m\u001b[0m\u001b[1;33m\u001b[0m\u001b[0m\n\u001b[0;32m     12\u001b[0m \u001b[1;32mfor\u001b[0m \u001b[0mindex\u001b[0m\u001b[1;33m,\u001b[0m\u001b[0mkeyword\u001b[0m \u001b[1;32min\u001b[0m \u001b[0menumerate\u001b[0m\u001b[1;33m(\u001b[0m\u001b[0memotion_keyword\u001b[0m\u001b[1;33m)\u001b[0m\u001b[1;33m:\u001b[0m\u001b[1;33m\u001b[0m\u001b[1;33m\u001b[0m\u001b[0m\n\u001b[1;32m---> 13\u001b[1;33m     \u001b[0memotion_keyword_to_vec\u001b[0m\u001b[1;33m[\u001b[0m\u001b[0mkeyword\u001b[0m\u001b[1;33m]\u001b[0m \u001b[1;33m=\u001b[0m \u001b[1;34m''\u001b[0m\u001b[1;33m.\u001b[0m\u001b[0mjoin\u001b[0m\u001b[1;33m(\u001b[0m\u001b[0mlist\u001b[0m\u001b[1;33m(\u001b[0m\u001b[0mmap\u001b[0m\u001b[1;33m(\u001b[0m\u001b[0mstr\u001b[0m\u001b[1;33m,\u001b[0m\u001b[0memotion_vec\u001b[0m\u001b[1;33m[\u001b[0m\u001b[0mindex\u001b[0m\u001b[1;33m]\u001b[0m\u001b[1;33m)\u001b[0m\u001b[1;33m)\u001b[0m\u001b[1;33m)\u001b[0m\u001b[1;33m\u001b[0m\u001b[1;33m\u001b[0m\u001b[0m\n\u001b[0m",
      "\u001b[1;31mTypeError\u001b[0m: 'numpy.int64' object is not iterable"
     ]
    }
   ],
   "source": [
    "\n",
    "\n",
    "\n",
    "# 8가지 감정 키워드\n",
    "emotion_keyword = [\"anger\",\"contempt\",\"disgust\",\"fear\",\"happiness\",\"neutral\",\"sadness\",\"surprise\"]\n",
    "\n",
    "emotion_encoder = LabelEncoder()\n",
    "emotion_df = pd.DataFrame({ 'emotion_keyword':emotion_keyword })\n",
    "items = emotion_df['emotion_keyword'].values.tolist()\n",
    "emotion_encoder.fit(items)\n",
    "emotion_vec = emotion_encoder.transform(items)\n",
    "print(emotion_vec)\n",
    "\n",
    "emotion_keyword_to_vec = {}\n",
    "for index,keyword in enumerate(emotion_keyword):\n",
    "    emotion_keyword_to_vec[keyword] = #''.join(list(map(str,emotion_vec[index])))"
   ]
  },
  {
   "cell_type": "code",
   "execution_count": null,
   "metadata": {},
   "outputs": [],
   "source": [
    "\n",
    "#encoder = LabelEncoder() #레이블 벡터 -> 변환 객체\n",
    "\n",
    "# 8가지 감정 키워드\n",
    "emotion_keyword = [\"anger\",\"contempt\",\"disgust\",\"fear\",\"happiness\",\"neutral\",\"sadness\",\"surprise\"]\n",
    "\n",
    "emotion_df = pd.DataFrame({ 'emotion_keyword':emotion_keyword })\n",
    "emotion_vec = pd.get_dummies(emotion_df).values\n",
    "#print(emotion_vec)\n",
    "\n",
    "emotion_keyword_to_vec = {}\n",
    "for index,keyword in enumerate(emotion_keyword):\n",
    "    emotion_keyword_to_vec[keyword] = ''.join(list(map(str,emotion_vec[index].tolist())))\n",
    "#emotion_keyword_to_vec: dict"
   ]
  },
  {
   "cell_type": "code",
   "execution_count": null,
   "metadata": {},
   "outputs": [],
   "source": [
    "def get_dataFrame():\n",
    "    docs = firestore.client().collection(u'order').stream()\n",
    "\n",
    "    doc_list = []\n",
    "    for doc in docs:\n",
    "    #print(doc.get('emotion'))\n",
    "    #print(type(doc))\n",
    "        doc_list_row = []\n",
    "    \n",
    "    # 메뉴 - 레이블\n",
    "        doc_list_row.append(doc.get('orderToString'))\n",
    "\n",
    "    # 날씨\n",
    "        weather_key_list = []\n",
    "        for key in doc.get('weather').keys():\n",
    "        #weather_key_list.append(doc.get('weather').get(key))\n",
    "            doc_list_row.append(doc.get('weather').get(key))\n",
    "    \n",
    "    # 감정\n",
    "        emotion_key_list = ''\n",
    "        for key in doc.get('emotion').keys():\n",
    "        #print(key)\n",
    "            emotion_key_list += emotion_keyword_to_vec.get(key)\n",
    "        doc_list_row.append(emotion_key_list)\n",
    "    \n",
    "        doc_list.append(doc_list_row)\n",
    "\n",
    "    doc_df = pd.DataFrame(doc_list, columns=['item_name','w_humidity','w_temp','w_speed','emotion'])\n",
    "    #레이블 인코딩\n",
    "    encoder = LabelEncoder()\n",
    "    items = doc_df['item_name'].values.tolist()\n",
    "    encoder.fit(items)\n",
    "    labels = encoder.transform(items)\n",
    "\n",
    "    print('인코딩 클래스:', encoder.classes_)\n",
    "    #print('디코딩 원본 값:', encoder.inverse_transform([0,1]))\n",
    "\n",
    "    return encoder,doc_df\n"
   ]
  },
  {
   "cell_type": "code",
   "execution_count": null,
   "metadata": {},
   "outputs": [],
   "source": [
    "def lambda_handler(event, context):\n",
    "    print('Received event: ' + json.dumps(event, indent=2))\n",
    "\n",
    "    encoder,df = get_dataFrame()\n",
    "\n",
    "    #학습\n",
    "    dt_clf = DecisionTreeClassifier()\n",
    "    X_train,X_test,y_train,y_test = train_test_split(df[['w_humidity','w_temp','w_speed','emotion']],\n",
    "                                                df[['item_name']], test_size=0.2)\n",
    "    dt_clf.fit(X_train,y_train)\n",
    "\n",
    "    pred = dt_clf.predict(X_test)\n",
    "    accuracy = accuracy_score(y_test, pred)\n",
    "    print('결정 트리 예측 정확도: {0:.4f}'.format(accuracy))\n",
    "\n",
    "    # 람다\n",
    "#    label_df = pd.DataFrame({ 'w_humidity':[event['humidity']],\n",
    "#                        'w_temp':[event['temp']],\n",
    "#                        'w_speed':[event['speed']],\n",
    "#                        'emotion':[event['emotion']] })\n",
    "    label_df = pd.DataFrame({ 'w_humidity':[80.0],\n",
    "                         'w_temp':[300.0],\n",
    "                         'w_speed':[1.00],\n",
    "                         'emotion':['0100000000000001'] })\n",
    "\n",
    "    result_predict = dt_clf.predict(label_df)\n",
    "    print('predict: ', result_predict)\n",
    "    \n",
    "    return result_predict\n"
   ]
  },
  {
   "cell_type": "code",
   "execution_count": null,
   "metadata": {},
   "outputs": [],
   "source": [
    "print('result: ', lambda_handler([], []))"
   ]
  },
  {
   "cell_type": "code",
   "execution_count": null,
   "metadata": {},
   "outputs": [],
   "source": []
  },
  {
   "cell_type": "code",
   "execution_count": null,
   "metadata": {},
   "outputs": [],
   "source": []
  }
 ],
 "metadata": {
  "kernelspec": {
   "display_name": "Python 3",
   "language": "python",
   "name": "python3"
  },
  "language_info": {
   "codemirror_mode": {
    "name": "ipython",
    "version": 3
   },
   "file_extension": ".py",
   "mimetype": "text/x-python",
   "name": "python",
   "nbconvert_exporter": "python",
   "pygments_lexer": "ipython3",
   "version": "3.6.9"
  }
 },
 "nbformat": 4,
 "nbformat_minor": 2
}
