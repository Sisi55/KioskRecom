{
 "cells": [
  {
   "cell_type": "code",
   "execution_count": 1,
   "metadata": {},
   "outputs": [
    {
     "data": {
      "text/plain": [
       "<firebase_admin.App at 0x27f27d76828>"
      ]
     },
     "execution_count": 1,
     "metadata": {},
     "output_type": "execute_result"
    }
   ],
   "source": [
    "import firebase_admin\n",
    "from firebase_admin import credentials\n",
    "from firebase_admin import firestore\n",
    "import pandas as pd\n",
    "import numpy as np\n",
    "from sklearn.preprocessing import LabelEncoder\n",
    "from sklearn.metrics.pairwise import cosine_similarity\n",
    "\n",
    "cred = credentials.Certificate('kiosk-firestore-jnsy-bcfe4-firebase-adminsdk-269q4-4a795774bb.json')\n",
    "firebase_admin.initialize_app(cred)"
   ]
  },
  {
   "cell_type": "code",
   "execution_count": 2,
   "metadata": {},
   "outputs": [],
   "source": [
    "#모든 user를 루프돌아서\n",
    "#선호도 가져오면 되겠다\n",
    "#전체 아이템 알려면 menu도 루프 돌아야겠지\n",
    "# tag='user'이면 모든 사용자 루프\n",
    "def get_user_rating_list(tag='user'):\n",
    "    docs = firestore.client().collection(tag).stream()\n",
    "    doc_list = []\n",
    "    \n",
    "    for doc in docs:\n",
    "        doc_list_row = []\n",
    "        doc_list_row.append(doc.get('personUUID'))\n",
    "        for key in doc.get('itemPreference').keys(): # {아이템이름str:점수int}\n",
    "            doc_list_row.append([key,doc.get('itemPreference').get(key)])\n",
    "            \n",
    "        doc_list.append(doc_list_row)\n",
    "    \n",
    "    return doc_list\n"
   ]
  },
  {
   "cell_type": "code",
   "execution_count": 3,
   "metadata": {},
   "outputs": [],
   "source": [
    "def data_preprocessing(user_items_list):\n",
    "    temp_list = [] # user,item,rating 저장할 리스트\n",
    "    \n",
    "    for row in user_items_list: #[0]은 항상 person uuid\n",
    "        if len(row) != 1: #길이가 하나인 행은 uuid만 있으므로 제외\n",
    "            size = len(row)-1  # size는 user의 점수 매긴 item 개수\n",
    "            for i in range(1,size+1): # 한 행 안의 아이템 루프 \n",
    "                temp_list.append([row[0], row[i][0] , row[i][1] ])\n",
    "                \n",
    "    return temp_list\n",
    "    "
   ]
  },
  {
   "cell_type": "code",
   "execution_count": 4,
   "metadata": {},
   "outputs": [
    {
     "ename": "ResourceExhausted",
     "evalue": "429 Quota exceeded.",
     "output_type": "error",
     "traceback": [
      "\u001b[1;31m---------------------------------------------------------------------------\u001b[0m",
      "\u001b[1;31m_Rendezvous\u001b[0m                               Traceback (most recent call last)",
      "\u001b[1;32m~\\AppData\\Roaming\\Python\\Python36\\site-packages\\google\\api_core\\grpc_helpers.py\u001b[0m in \u001b[0;36mnext\u001b[1;34m(self)\u001b[0m\n\u001b[0;32m     78\u001b[0m         \u001b[1;32mtry\u001b[0m\u001b[1;33m:\u001b[0m\u001b[1;33m\u001b[0m\u001b[1;33m\u001b[0m\u001b[0m\n\u001b[1;32m---> 79\u001b[1;33m             \u001b[1;32mreturn\u001b[0m \u001b[0msix\u001b[0m\u001b[1;33m.\u001b[0m\u001b[0mnext\u001b[0m\u001b[1;33m(\u001b[0m\u001b[0mself\u001b[0m\u001b[1;33m.\u001b[0m\u001b[0m_wrapped\u001b[0m\u001b[1;33m)\u001b[0m\u001b[1;33m\u001b[0m\u001b[1;33m\u001b[0m\u001b[0m\n\u001b[0m\u001b[0;32m     80\u001b[0m         \u001b[1;32mexcept\u001b[0m \u001b[0mgrpc\u001b[0m\u001b[1;33m.\u001b[0m\u001b[0mRpcError\u001b[0m \u001b[1;32mas\u001b[0m \u001b[0mexc\u001b[0m\u001b[1;33m:\u001b[0m\u001b[1;33m\u001b[0m\u001b[1;33m\u001b[0m\u001b[0m\n",
      "\u001b[1;32m~\\Anaconda3\\lib\\site-packages\\grpc\\_channel.py\u001b[0m in \u001b[0;36m__next__\u001b[1;34m(self)\u001b[0m\n\u001b[0;32m    363\u001b[0m     \u001b[1;32mdef\u001b[0m \u001b[0m__next__\u001b[0m\u001b[1;33m(\u001b[0m\u001b[0mself\u001b[0m\u001b[1;33m)\u001b[0m\u001b[1;33m:\u001b[0m\u001b[1;33m\u001b[0m\u001b[1;33m\u001b[0m\u001b[0m\n\u001b[1;32m--> 364\u001b[1;33m         \u001b[1;32mreturn\u001b[0m \u001b[0mself\u001b[0m\u001b[1;33m.\u001b[0m\u001b[0m_next\u001b[0m\u001b[1;33m(\u001b[0m\u001b[1;33m)\u001b[0m\u001b[1;33m\u001b[0m\u001b[1;33m\u001b[0m\u001b[0m\n\u001b[0m\u001b[0;32m    365\u001b[0m \u001b[1;33m\u001b[0m\u001b[0m\n",
      "\u001b[1;32m~\\Anaconda3\\lib\\site-packages\\grpc\\_channel.py\u001b[0m in \u001b[0;36m_next\u001b[1;34m(self)\u001b[0m\n\u001b[0;32m    357\u001b[0m                     \u001b[1;32melif\u001b[0m \u001b[0mself\u001b[0m\u001b[1;33m.\u001b[0m\u001b[0m_state\u001b[0m\u001b[1;33m.\u001b[0m\u001b[0mcode\u001b[0m \u001b[1;32mis\u001b[0m \u001b[1;32mnot\u001b[0m \u001b[1;32mNone\u001b[0m\u001b[1;33m:\u001b[0m\u001b[1;33m\u001b[0m\u001b[1;33m\u001b[0m\u001b[0m\n\u001b[1;32m--> 358\u001b[1;33m                         \u001b[1;32mraise\u001b[0m \u001b[0mself\u001b[0m\u001b[1;33m\u001b[0m\u001b[1;33m\u001b[0m\u001b[0m\n\u001b[0m\u001b[0;32m    359\u001b[0m \u001b[1;33m\u001b[0m\u001b[0m\n",
      "\u001b[1;31m_Rendezvous\u001b[0m: <_Rendezvous of RPC that terminated with:\n\tstatus = StatusCode.RESOURCE_EXHAUSTED\n\tdetails = \"Quota exceeded.\"\n\tdebug_error_string = \"{\"created\":\"@1568985088.710000000\",\"description\":\"Error received from peer\",\"file\":\"src/core/lib/surface/call.cc\",\"file_line\":1017,\"grpc_message\":\"Quota exceeded.\",\"grpc_status\":8}\"\n>",
      "\nThe above exception was the direct cause of the following exception:\n",
      "\u001b[1;31mResourceExhausted\u001b[0m                         Traceback (most recent call last)",
      "\u001b[1;32m<ipython-input-4-682b69c0217a>\u001b[0m in \u001b[0;36m<module>\u001b[1;34m\u001b[0m\n\u001b[1;32m----> 1\u001b[1;33m \u001b[0muser_items_list\u001b[0m \u001b[1;33m=\u001b[0m \u001b[0mdata_preprocessing\u001b[0m\u001b[1;33m(\u001b[0m\u001b[0mget_user_rating_list\u001b[0m\u001b[1;33m(\u001b[0m\u001b[1;33m)\u001b[0m\u001b[1;33m)\u001b[0m \u001b[1;31m# order DB에서 데이터 가공해서 가져온다\u001b[0m\u001b[1;33m\u001b[0m\u001b[1;33m\u001b[0m\u001b[0m\n\u001b[0m\u001b[0;32m      2\u001b[0m \u001b[1;33m\u001b[0m\u001b[0m\n\u001b[0;32m      3\u001b[0m \u001b[1;33m\u001b[0m\u001b[0m\n\u001b[0;32m      4\u001b[0m \u001b[1;33m\u001b[0m\u001b[0m\n\u001b[0;32m      5\u001b[0m \u001b[0mprint\u001b[0m\u001b[1;33m(\u001b[0m\u001b[0muser_items_list\u001b[0m\u001b[1;33m)\u001b[0m\u001b[1;33m\u001b[0m\u001b[1;33m\u001b[0m\u001b[0m\n",
      "\u001b[1;32m<ipython-input-2-50e45e935d53>\u001b[0m in \u001b[0;36mget_user_rating_list\u001b[1;34m(tag)\u001b[0m\n\u001b[0;32m      7\u001b[0m     \u001b[0mdoc_list\u001b[0m \u001b[1;33m=\u001b[0m \u001b[1;33m[\u001b[0m\u001b[1;33m]\u001b[0m\u001b[1;33m\u001b[0m\u001b[1;33m\u001b[0m\u001b[0m\n\u001b[0;32m      8\u001b[0m \u001b[1;33m\u001b[0m\u001b[0m\n\u001b[1;32m----> 9\u001b[1;33m     \u001b[1;32mfor\u001b[0m \u001b[0mdoc\u001b[0m \u001b[1;32min\u001b[0m \u001b[0mdocs\u001b[0m\u001b[1;33m:\u001b[0m\u001b[1;33m\u001b[0m\u001b[1;33m\u001b[0m\u001b[0m\n\u001b[0m\u001b[0;32m     10\u001b[0m         \u001b[0mdoc_list_row\u001b[0m \u001b[1;33m=\u001b[0m \u001b[1;33m[\u001b[0m\u001b[1;33m]\u001b[0m\u001b[1;33m\u001b[0m\u001b[1;33m\u001b[0m\u001b[0m\n\u001b[0;32m     11\u001b[0m         \u001b[0mdoc_list_row\u001b[0m\u001b[1;33m.\u001b[0m\u001b[0mappend\u001b[0m\u001b[1;33m(\u001b[0m\u001b[0mdoc\u001b[0m\u001b[1;33m.\u001b[0m\u001b[0mget\u001b[0m\u001b[1;33m(\u001b[0m\u001b[1;34m'personUUID'\u001b[0m\u001b[1;33m)\u001b[0m\u001b[1;33m)\u001b[0m\u001b[1;33m\u001b[0m\u001b[1;33m\u001b[0m\u001b[0m\n",
      "\u001b[1;32m~\\Anaconda3\\lib\\site-packages\\google\\cloud\\firestore_v1\\query.py\u001b[0m in \u001b[0;36mstream\u001b[1;34m(self, transaction)\u001b[0m\n\u001b[0;32m    766\u001b[0m         )\n\u001b[0;32m    767\u001b[0m \u001b[1;33m\u001b[0m\u001b[0m\n\u001b[1;32m--> 768\u001b[1;33m         \u001b[1;32mfor\u001b[0m \u001b[0mresponse\u001b[0m \u001b[1;32min\u001b[0m \u001b[0mresponse_iterator\u001b[0m\u001b[1;33m:\u001b[0m\u001b[1;33m\u001b[0m\u001b[1;33m\u001b[0m\u001b[0m\n\u001b[0m\u001b[0;32m    769\u001b[0m             \u001b[1;32mif\u001b[0m \u001b[0mself\u001b[0m\u001b[1;33m.\u001b[0m\u001b[0m_all_descendants\u001b[0m\u001b[1;33m:\u001b[0m\u001b[1;33m\u001b[0m\u001b[1;33m\u001b[0m\u001b[0m\n\u001b[0;32m    770\u001b[0m                 snapshot = _collection_group_query_response_to_snapshot(\n",
      "\u001b[1;32m~\\AppData\\Roaming\\Python\\Python36\\site-packages\\google\\api_core\\grpc_helpers.py\u001b[0m in \u001b[0;36mnext\u001b[1;34m(self)\u001b[0m\n\u001b[0;32m     79\u001b[0m             \u001b[1;32mreturn\u001b[0m \u001b[0msix\u001b[0m\u001b[1;33m.\u001b[0m\u001b[0mnext\u001b[0m\u001b[1;33m(\u001b[0m\u001b[0mself\u001b[0m\u001b[1;33m.\u001b[0m\u001b[0m_wrapped\u001b[0m\u001b[1;33m)\u001b[0m\u001b[1;33m\u001b[0m\u001b[1;33m\u001b[0m\u001b[0m\n\u001b[0;32m     80\u001b[0m         \u001b[1;32mexcept\u001b[0m \u001b[0mgrpc\u001b[0m\u001b[1;33m.\u001b[0m\u001b[0mRpcError\u001b[0m \u001b[1;32mas\u001b[0m \u001b[0mexc\u001b[0m\u001b[1;33m:\u001b[0m\u001b[1;33m\u001b[0m\u001b[1;33m\u001b[0m\u001b[0m\n\u001b[1;32m---> 81\u001b[1;33m             \u001b[0msix\u001b[0m\u001b[1;33m.\u001b[0m\u001b[0mraise_from\u001b[0m\u001b[1;33m(\u001b[0m\u001b[0mexceptions\u001b[0m\u001b[1;33m.\u001b[0m\u001b[0mfrom_grpc_error\u001b[0m\u001b[1;33m(\u001b[0m\u001b[0mexc\u001b[0m\u001b[1;33m)\u001b[0m\u001b[1;33m,\u001b[0m \u001b[0mexc\u001b[0m\u001b[1;33m)\u001b[0m\u001b[1;33m\u001b[0m\u001b[1;33m\u001b[0m\u001b[0m\n\u001b[0m\u001b[0;32m     82\u001b[0m \u001b[1;33m\u001b[0m\u001b[0m\n\u001b[0;32m     83\u001b[0m     \u001b[1;31m# Alias needed for Python 2/3 support.\u001b[0m\u001b[1;33m\u001b[0m\u001b[1;33m\u001b[0m\u001b[1;33m\u001b[0m\u001b[0m\n",
      "\u001b[1;32m~\\Anaconda3\\lib\\site-packages\\six.py\u001b[0m in \u001b[0;36mraise_from\u001b[1;34m(value, from_value)\u001b[0m\n",
      "\u001b[1;31mResourceExhausted\u001b[0m: 429 Quota exceeded."
     ]
    }
   ],
   "source": [
    "user_items_list = data_preprocessing(get_user_rating_list()) # order DB에서 데이터 가공해서 가져온다\n",
    "\n",
    "\n",
    "\n",
    "print(user_items_list)"
   ]
  },
  {
   "cell_type": "code",
   "execution_count": null,
   "metadata": {},
   "outputs": [],
   "source": [
    "def userid_preprocessing(rating_item_df): #userid 전처리\n",
    "    \n",
    "    userid_encoder = LabelEncoder()\n",
    "    users = rating_item_df['userid'].values.tolist()\n",
    "    userid_encoder.fit(users)\n",
    "    users_vec = userid_encoder.transform(users)\n",
    "    \n",
    "#print('인코딩 클래스:', userid_encoder.classes_)\n",
    "#print('디코딩 원본 값:', encoder.inverse_transform([0,1])) #리스트나 스칼라로 전달하면 변환해서 반환함\n",
    "    rating_item_df['userid'] = pd.Series(users_vec)\n",
    "    \n",
    "    return userid_encoder,rating_item_df # 사용자가 아이템에 점수 매긴 DF ## return"
   ]
  },
  {
   "cell_type": "code",
   "execution_count": null,
   "metadata": {},
   "outputs": [],
   "source": []
  },
  {
   "cell_type": "code",
   "execution_count": null,
   "metadata": {},
   "outputs": [],
   "source": [
    "rating_item_df = pd.DataFrame(user_items_list, columns=['userid','itemid','rating']) #ndarray로 변환\n",
    "userid_encoder,rating_item_df = userid_preprocessing(rating_item_df)\n",
    "print(type(userid_encoder.transform(['911283bd-2e4f-439b-89c4-fc8667782b51']).tolist()[0]))\n",
    "#userid_encoder.classes_\n",
    "#rating_item_df\n"
   ]
  },
  {
   "cell_type": "code",
   "execution_count": null,
   "metadata": {},
   "outputs": [],
   "source": [
    "ratings_matrix = rating_item_df.pivot_table(values='rating', index='userid', columns='itemid').fillna(0)#,aggfunc='first')\n",
    "\n",
    "\n",
    "#NaN 값을 모두 0으로 변환\n",
    "#ratings_matrix = ratings_matrix.fillna(0)\n",
    "ratings_matrix # 행:사용자, 열:아이템 DF"
   ]
  },
  {
   "cell_type": "code",
   "execution_count": null,
   "metadata": {},
   "outputs": [],
   "source": [
    "# 사용자/아이템 분기"
   ]
  },
  {
   "cell_type": "code",
   "execution_count": null,
   "metadata": {},
   "outputs": [],
   "source": []
  },
  {
   "cell_type": "code",
   "execution_count": null,
   "metadata": {},
   "outputs": [],
   "source": []
  },
  {
   "cell_type": "code",
   "execution_count": null,
   "metadata": {},
   "outputs": [],
   "source": [
    "#아이템 간 유사도 행렬을 구하려면, 아이템이 행으로 나열되어 있어야 함\n",
    "ratings_matrix_T = ratings_matrix.transpose()\n",
    "\n",
    "ratings_matrix_T # 행:아이템, 열:사용자 DF"
   ]
  },
  {
   "cell_type": "code",
   "execution_count": null,
   "metadata": {},
   "outputs": [],
   "source": [
    "## item cf\n",
    "item_sim = cosine_similarity(ratings_matrix_T, ratings_matrix_T)\n",
    "item_sim_df = pd.DataFrame(data=item_sim, index=ratings_matrix.columns, columns=ratings_matrix.columns)\n",
    "\n",
    "\n",
    "item_sim_df  # 아이템-아이템 유사도 DF\n"
   ]
  },
  {
   "cell_type": "code",
   "execution_count": null,
   "metadata": {},
   "outputs": [],
   "source": [
    "# df.sort_values(ascending=False)[:top_n]\n",
    "\n",
    "#매개 item_sim_df \n",
    "def items_sim_dict(user_id,ratings_matrix,item_sim_df):\n",
    "    item_sim_des_dict = {}\n",
    "    for row,item in enumerate(item_sim_df):\n",
    "        print(row, item) #item은 행:아이템 이름\n",
    "        row_ndarray = item_sim_df.iloc[row].values\n",
    "    #print(row_ndarray)\n",
    "        des_sort_index = np.argsort(row_ndarray)[::-1][1:]\n",
    "        print('!',des_sort_index)\n",
    "        item_sim_des_list = item_sim_df.iloc[row].index[des_sort_index].tolist()\n",
    "        print(item_sim_des_list)\n",
    "    \n",
    "        item_sim_des_dict[item] = item_sim_des_list\n",
    "        \n",
    "    return item_sim_des_dict\n",
    "    #print(item_sim_des_dict)\n",
    "    print()\n",
    "    \n",
    "print(item_sim_des_dict)\n",
    "#인덱스0은 자기자신\n",
    "\n",
    "# 각 아이템마다 자신과 가장 유사한 아이템 반환\n",
    "# 사용자가 구매하지 않은?\n",
    "item_sim_df\n",
    "#np.argsort(item_sim_df.iloc[0].values)[::-1] #열 인덱스겠지"
   ]
  },
  {
   "cell_type": "code",
   "execution_count": null,
   "metadata": {},
   "outputs": [],
   "source": [
    "## user cf"
   ]
  },
  {
   "cell_type": "code",
   "execution_count": null,
   "metadata": {},
   "outputs": [],
   "source": [
    "def preference_df(ratings_matrix,item_sim_df):\n",
    "    \n",
    "    ratings_pred = ratings_matrix.values.dot(item_sim_df.values)/np.array([np.abs(item_sim_df.values).sum(axis=1)])\n",
    "    df = pd.DataFrame(data=ratings_pred, index=ratings_matrix.index, columns=ratings_matrix.columns)\n",
    "    \n",
    "    return df\n",
    "    \n",
    "    "
   ]
  },
  {
   "cell_type": "code",
   "execution_count": null,
   "metadata": {},
   "outputs": [],
   "source": [
    "\n",
    "\n",
    "ratings_pred_matrix = preference_df(ratings_matrix,item_sim_df)\n",
    "\n",
    "ratings_pred_matrix  # 선호도 DF ?\n"
   ]
  },
  {
   "cell_type": "code",
   "execution_count": null,
   "metadata": {},
   "outputs": [],
   "source": [
    "def item_cf(user_id,ratings_matrix,top_n=1): #매개 request 포함\n",
    "    \n",
    "    user_rating = ratings_matrix.loc[user_id,:] # 그래서 슬라이싱을 했구나\n",
    "    already_ordered = user_rating[user_rating>0].index.tolist()\n",
    "    order_list = ratings_matrix.columns.tolist() # 전체 메뉴판에서 가져올 필요가 없다 계산못하니까\n",
    "    unordered_list = [item for item in order_list if item not in already_ordered]\n",
    "    recomm_item = ratings_pred_matrix.loc[user_id, unordered_list].sort_values(ascending=False)[:top_n]\n",
    "    \n",
    "    return recomm_item #추천 아이템 1개\n",
    "    "
   ]
  },
  {
   "cell_type": "code",
   "execution_count": null,
   "metadata": {},
   "outputs": [],
   "source": [
    "\n",
    "\n",
    "item_cf(0,ratings_matrix)\n",
    "\n"
   ]
  },
  {
   "cell_type": "code",
   "execution_count": null,
   "metadata": {},
   "outputs": [],
   "source": [
    "\n",
    "\n",
    "## 끝"
   ]
  },
  {
   "cell_type": "code",
   "execution_count": null,
   "metadata": {},
   "outputs": [],
   "source": [
    "#def get_menu_list(tag='menu'):\n",
    "#    docs = firestore.client().collection(tag).stream()\n",
    "#    menu_list = []\n",
    "#    \n",
    "#    for doc in docs: # 메뉴 이름만 일단 모아서 반환한다\n",
    "#        menu_list.append(doc.get('name'))\n",
    "#    \n",
    "#    return menu_list"
   ]
  },
  {
   "cell_type": "code",
   "execution_count": null,
   "metadata": {},
   "outputs": [],
   "source": [
    "# 사용자 취향을 고려해 개인화된 추천을 수행해봅시다.\n",
    "\n",
    "def predict_rating(ratings_arr, item_sim_arr):#평점, 유사도\n",
    "    rating_pred = ratings_arr.dot(item_sim_arr)/np.array([np.abs(item_sim_arr).sum(axis=1)])\n",
    "    #아 행으로 만드려고 [] 안에 sum 연산했구나. 결국 axis=0 같은 역할 아니야? \n",
    "    #응 아니야 []안하면 행으로 ndarray 만들어지니까\n",
    "    \n",
    "    # 평점*유사도/유사도합-각 아이템.\n",
    "    return rating_pred\n",
    "\n",
    "\n",
    "#먼저 사용자가 이미 평점을 준 영화를 제외하고 추천할 수 있도록\n",
    "#평점을 주지 않은 영화를 리스트 객체로 반환하는 함수인 get_unseen_movies()를 생성합니다.\n",
    "\n",
    "def get_unseen_movies(rating_df, userId): # 매개 사용자가 점수주지 않은 아이템 반환\n",
    "    print('()', rating_df)\n",
    "    \n",
    "    all_menu_list = get_menu_list() #모든 메뉴 리스트 반환\n",
    "    print(all_menu_list)\n",
    "\n",
    "    #rating_item_list = rating_item_df.values.tolist()\n",
    "    user_ordered_these_item = rating_df[ rating_df['userid']==userId ].values.tolist()\n",
    "    print('user_ordered_these_item',user_ordered_these_item)\n",
    "    \n",
    "    if len(user_ordered_these_item) == 0:\n",
    "        return None\n",
    "    \n",
    "    not_in_orderList = [x for x in all_menu_list if x not in user_ordered_these_item]\n",
    "                        #rating_df['itemid'].values.tolist() 수정해야 한다\n",
    "    \n",
    "    return not_int_orderList\n",
    "    \n",
    "\n",
    "def recomm_movie_by_userid(pred_df, userId, unseen_list, top_n=10):\n",
    "    #예측 평점 DataFrame에서 사용자id 인덱스와 unseen_list로 들어온 영화명 칼럼을 추출해\n",
    "    #가장 예측 평점이 높은 순으로 정렬한다\n",
    "    recomm_movies = pred_df.loc[userId, unseen_list].sort_values(ascending=False)[:top_n]\n",
    "    \n",
    "    return recomm_movies"
   ]
  },
  {
   "cell_type": "code",
   "execution_count": null,
   "metadata": {},
   "outputs": [],
   "source": []
  },
  {
   "cell_type": "code",
   "execution_count": null,
   "metadata": {},
   "outputs": [],
   "source": []
  }
 ],
 "metadata": {
  "kernelspec": {
   "display_name": "Python 3",
   "language": "python",
   "name": "python3"
  },
  "language_info": {
   "codemirror_mode": {
    "name": "ipython",
    "version": 3
   },
   "file_extension": ".py",
   "mimetype": "text/x-python",
   "name": "python",
   "nbconvert_exporter": "python",
   "pygments_lexer": "ipython3",
   "version": "3.6.9"
  }
 },
 "nbformat": 4,
 "nbformat_minor": 2
}
