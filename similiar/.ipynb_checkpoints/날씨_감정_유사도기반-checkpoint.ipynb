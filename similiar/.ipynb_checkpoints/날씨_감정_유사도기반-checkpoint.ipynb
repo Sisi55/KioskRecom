{
 "cells": [
  {
   "cell_type": "code",
   "execution_count": null,
   "metadata": {},
   "outputs": [],
   "source": [
    "import firebase_admin\n",
    "from firebase_admin import credentials\n",
    "from firebase_admin import firestore\n",
    "import pandas as pd\n",
    "import numpy as np\n",
    "from sklearn.preprocessing import LabelEncoder\n",
    "from sklearn.metrics.pairwise import cosine_similarity\n",
    "\n",
    "cred = credentials.Certificate('kiosk-firestore-jnsy-bcfe4-firebase-adminsdk-269q4-4a795774bb.json')\n",
    "firebase_admin.initialize_app(cred)"
   ]
  },
  {
   "cell_type": "code",
   "execution_count": null,
   "metadata": {},
   "outputs": [],
   "source": [
    "def get_emotion_vec():\n",
    "\n",
    "    # 8가지 감정 키워드\n",
    "    emotion_keyword = [\"anger\",\"contempt\",\"disgust\",\"fear\",\"happiness\",\"neutral\",\"sadness\",\"surprise\"]\n",
    "\n",
    "    emotion_df = pd.DataFrame({ 'emotion_keyword':emotion_keyword })\n",
    "    emotion_df['emotion_encoding'] = pd.factorize(emotion_df['emotion_keyword'])[0]  # pd.factorize(df['Col'])[0]\n",
    "\n",
    "    #print(emotion_df.values)\n",
    "    emotion_keyword_to_vec = {} #딕셔너리로 저장하면 편하겠지?\n",
    "    for keyword,encoding in emotion_df.values:\n",
    "        #print(keyword,encoding)\n",
    "        emotion_keyword_to_vec[keyword] = encoding\n",
    "\n",
    "    del emotion_df  #불필요한 메모리 제거\n",
    "\n",
    "    return emotion_keyword_to_vec\n"
   ]
  },
  {
   "cell_type": "code",
   "execution_count": null,
   "metadata": {},
   "outputs": [],
   "source": [
    "def weather_emo_similiar(user_uuid): # views.py\n",
    "    \n",
    "    # order_df 만들기\n",
    "    # emotion_keyword_to_vec를 만든다\n",
    "    emotion_keyword_to_vec = get_emotion_vec()\n",
    "    \n",
    "    docs = firestore.client().collection(u'order').stream()\n",
    "\n",
    "    doc_list = []\n",
    "    for doc in docs:\n",
    "        doc_list_row = []\n",
    "\n",
    "        # 메뉴 - 레이블\n",
    "        #doc_list_row.append(doc.get('orderToString'))\n",
    "        # 데이터가 거의 없는 문제로 임시로 name으로 모델 학습한다\n",
    "        doc_list_row.append(doc.get('items')[0].get('name'))\n",
    "\n",
    "        # 날씨\n",
    "    #    weather_key_list = []\n",
    "        for key in doc.get('weather').keys():\n",
    "            doc_list_row.append(doc.get('weather').get(key))\n",
    "\n",
    "        # 감정\n",
    "        emotion_key_list = ''\n",
    "        for key in doc.get('emotion').keys():\n",
    "            emotion_key_list += str(emotion_keyword_to_vec[key])  # 감정 데이터 전처리 str to str \n",
    "        doc_list_row.append(emotion_key_list)\n",
    "\n",
    "        # 날짜\n",
    "        #print(type(doc.get('today')))\n",
    "        #print(doc.get('today').split(' '))\n",
    "        list_date = doc.get('today').split(' ') # 2019-09-09 21:05:58\n",
    "        doc_list_row.append(list_date[0]) # date 2019-09-09\n",
    "        doc_list_row.append(list_date[1]) # time 21:05:58\n",
    "\n",
    "        doc_list.append(doc_list_row)\n",
    "\n",
    "    doc_df = pd.DataFrame(doc_list, columns=['item_name','w_humidity','w_temp','w_speed','emotion','date','time'])\n",
    "    doc_df['emotion'] = doc_df['emotion'].astype(int) # 감정 데이터 전처리 str to int\n",
    "\n",
    "#    return doc_df\n",
    "\n",
    "    # encoding 메뉴이름\n",
    "    doc_df['item_name'], item_name_restore = pd.factorize(doc_df['item_name']) \n",
    "    return doc_df\n",
    "    \n",
    "    # user_uuid -> encoder로 변환한다\n",
    "    \n",
    "    \n",
    "    \n",
    "    # 같은함수a\n",
    "    # a1: 습도 유사도 행렬 가져오기 - 정규화해서 반환한다\n",
    "    \n",
    "    # a2: 바람 유사도 행렬 가져오기 - 정규화해서 반환한다\n",
    "    \n",
    "    # a3: 온도 유사도 행렬 가져오기 - 정규화해서 반환한다\n",
    "    \n",
    "    # 같은함수c -- 매개:행렬 리스트, 가중값=1(default) 반환: 행렬 합\n",
    "    # c1: 습도,바람,온도 유사도 행렬 합한다 - 날씨 행렬 \n",
    "    \n",
    "    # 같은함수b\n",
    "    # b1: 감정1 유사도 행렬 가져오기\n",
    "    \n",
    "    # b2: 감정2 유사도 행렬 가져오기\n",
    "    \n",
    "    # c2: 감정1, 감정2 유사도 행렬 합 - 감정 행렬\n",
    "    \n",
    "    # 날씨, 감정 행렬 정규화 - 같은 값 범위로\n",
    "    \n",
    "    # 사장님 피드백:날씨 기반 추천 좋다\n",
    "    # c3(가중값=2): 날씨, 감정 행렬 2:1 가중합 - 날씨/감정 행렬 \n",
    "    \n",
    "    # 그리고 추천\n",
    "    "
   ]
  },
  {
   "cell_type": "code",
   "execution_count": null,
   "metadata": {},
   "outputs": [],
   "source": [
    "weather_emo_similiar('')"
   ]
  },
  {
   "cell_type": "code",
   "execution_count": null,
   "metadata": {},
   "outputs": [],
   "source": []
  },
  {
   "cell_type": "code",
   "execution_count": null,
   "metadata": {},
   "outputs": [],
   "source": []
  },
  {
   "cell_type": "code",
   "execution_count": null,
   "metadata": {},
   "outputs": [],
   "source": []
  },
  {
   "cell_type": "code",
   "execution_count": null,
   "metadata": {},
   "outputs": [],
   "source": []
  },
  {
   "cell_type": "code",
   "execution_count": null,
   "metadata": {},
   "outputs": [],
   "source": []
  },
  {
   "cell_type": "code",
   "execution_count": null,
   "metadata": {},
   "outputs": [],
   "source": []
  }
 ],
 "metadata": {
  "kernelspec": {
   "display_name": "Python 3",
   "language": "python",
   "name": "python3"
  },
  "language_info": {
   "codemirror_mode": {
    "name": "ipython",
    "version": 3
   },
   "file_extension": ".py",
   "mimetype": "text/x-python",
   "name": "python",
   "nbconvert_exporter": "python",
   "pygments_lexer": "ipython3",
   "version": "3.6.9"
  }
 },
 "nbformat": 4,
 "nbformat_minor": 2
}
