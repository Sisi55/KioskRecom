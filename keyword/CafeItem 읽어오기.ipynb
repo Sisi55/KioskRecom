{
 "cells": [
  {
   "cell_type": "code",
   "execution_count": 1,
   "metadata": {},
   "outputs": [
    {
     "data": {
      "text/plain": [
       "<firebase_admin.App at 0x23aabc348d0>"
      ]
     },
     "execution_count": 1,
     "metadata": {},
     "output_type": "execute_result"
    }
   ],
   "source": [
    "import firebase_admin\n",
    "from firebase_admin import credentials\n",
    "from firebase_admin import firestore\n",
    "import pandas as pd\n",
    "import numpy as np\n",
    "from sklearn.preprocessing import LabelEncoder\n",
    "from sklearn.metrics.pairwise import cosine_similarity\n",
    "\n",
    "cred = credentials.Certificate('kiosk-firestore-jnsy-bcfe4-firebase-adminsdk-269q4-4a795774bb.json')\n",
    "firebase_admin.initialize_app(cred)"
   ]
  },
  {
   "cell_type": "code",
   "execution_count": 2,
   "metadata": {},
   "outputs": [
    {
     "name": "stdout",
     "output_type": "stream",
     "text": [
      "생강라떼\n",
      "오렌지라떼\n",
      "레몬에이드\n",
      "자몽에이드\n",
      "카페라떼\n",
      "헤즐넛라떼\n",
      "더블카카오\n",
      "바닐라라떼\n",
      "플레인요거트스무디\n",
      "과테말라드립커피\n",
      "카라멜마끼야또\n",
      "케냐드립커피\n",
      "티라미슈라떼\n",
      "자몽라떼\n",
      "예자체크드립커피\n",
      "밀크티\n",
      "브라질드립커피\n",
      "말차그린티라떼\n",
      "청포도프레시\n",
      "레몬요거트스무디\n",
      "카푸치노\n",
      "밀어라떼ICE\n",
      "레몬그라스차\n",
      "더치라떼\n",
      "바나나프레시\n",
      "스노우아메리카노ICE\n",
      "사케타로ICE\n",
      "쿠키크림스무디\n",
      "코코넛커피스무디\n",
      "오늘의원두드립커피\n",
      "콜롬비아드립커피\n",
      "사과바나나프레시\n",
      "코코넛스무디\n",
      "포스칼카비스커스차\n",
      "루이스보스바닐라차\n",
      "아메리카노\n",
      "카페모카\n"
     ]
    }
   ],
   "source": [
    "tag = 'menu'\n",
    "docs = firestore.client().collection(tag).stream()\n",
    "\n",
    "#doc_list = []\n",
    "    \n",
    "for doc in docs:\n",
    "    #doc_list_row = []\n",
    "    #col_name = ['name']\n",
    "    \n",
    "    print(doc.get('name'))\n",
    "    \n",
    "    \n",
    "    #doc_list.append(doc_list_row)\n",
    "    \n",
    "    \n",
    "#doc_list"
   ]
  },
  {
   "cell_type": "code",
   "execution_count": null,
   "metadata": {},
   "outputs": [],
   "source": [
    "더치아메리카노 (없음)"
   ]
  },
  {
   "cell_type": "code",
   "execution_count": null,
   "metadata": {},
   "outputs": [],
   "source": []
  },
  {
   "cell_type": "code",
   "execution_count": null,
   "metadata": {},
   "outputs": [],
   "source": []
  },
  {
   "cell_type": "code",
   "execution_count": null,
   "metadata": {},
   "outputs": [],
   "source": []
  },
  {
   "cell_type": "code",
   "execution_count": null,
   "metadata": {},
   "outputs": [],
   "source": []
  },
  {
   "cell_type": "code",
   "execution_count": null,
   "metadata": {},
   "outputs": [],
   "source": []
  }
 ],
 "metadata": {
  "kernelspec": {
   "display_name": "Python 3",
   "language": "python",
   "name": "python3"
  },
  "language_info": {
   "codemirror_mode": {
    "name": "ipython",
    "version": 3
   },
   "file_extension": ".py",
   "mimetype": "text/x-python",
   "name": "python",
   "nbconvert_exporter": "python",
   "pygments_lexer": "ipython3",
   "version": "3.6.9"
  }
 },
 "nbformat": 4,
 "nbformat_minor": 2
}
