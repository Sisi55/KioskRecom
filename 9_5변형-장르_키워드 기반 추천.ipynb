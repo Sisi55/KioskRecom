{
 "cells": [
  {
   "cell_type": "code",
   "execution_count": 1,
   "metadata": {},
   "outputs": [],
   "source": [
    "import pandas as pd\n",
    "import numpy as np\n",
    "import warnings; warnings.filterwarnings('ignore')\n",
    "import json\n",
    "from sklearn.feature_extraction.text import CountVectorizer\n",
    "from sklearn.metrics.pairwise import cosine_similarity"
   ]
  },
  {
   "cell_type": "code",
   "execution_count": 2,
   "metadata": {},
   "outputs": [],
   "source": [
    "movies =pd.read_csv('./tmdb_5000_movies.csv')\n",
    "movies_df = movies[['id','title', 'genres', 'keywords']]"
   ]
  },
  {
   "cell_type": "code",
   "execution_count": 3,
   "metadata": {},
   "outputs": [],
   "source": [
    "# keywords 테스트\n",
    "#print(type(movies_df['keywords'][1]))"
   ]
  },
  {
   "cell_type": "code",
   "execution_count": 4,
   "metadata": {},
   "outputs": [],
   "source": [
    "movies_df['genres'] = movies_df['genres'].apply(lambda x: json.loads(x))\n",
    "#문자열 -> dict\n",
    "movies_df['keywords'] = movies_df['keywords'].apply(lambda x: json.loads(x))"
   ]
  },
  {
   "cell_type": "code",
   "execution_count": 5,
   "metadata": {},
   "outputs": [],
   "source": [
    "movies_df['genres'] = movies_df['genres'].apply(lambda x : [ y['name'] for y in x])\n",
    "# 문자열 리스트 ? oo\n",
    "movies_df['keywords'] = movies_df['keywords'].apply(lambda x : [ y['name'] for y in x])"
   ]
  },
  {
   "cell_type": "code",
   "execution_count": 6,
   "metadata": {},
   "outputs": [],
   "source": [
    "# 단어 벡터화 객체 생성\n",
    "count_vect = CountVectorizer(min_df=0, ngram_range=(1,2))"
   ]
  },
  {
   "cell_type": "code",
   "execution_count": 7,
   "metadata": {},
   "outputs": [],
   "source": [
    "movies_df['genres_literal'] = movies_df['genres'].apply(lambda x : (' ').join(x))\n",
    "movies_df['keywords_literal'] = movies_df['keywords'].apply(lambda x : (' ').join(x))\n",
    "\n",
    "genre_mat = count_vect.fit_transform(movies_df['genres_literal'])\n",
    "keyword_mat = count_vect.fit_transform(movies_df['keywords_literal'])"
   ]
  },
  {
   "cell_type": "code",
   "execution_count": 9,
   "metadata": {},
   "outputs": [
    {
     "data": {
      "text/plain": [
       "0    Action Adventure Fantasy Science Fiction\n",
       "1                    Adventure Fantasy Action\n",
       "2                      Action Adventure Crime\n",
       "3                 Action Crime Drama Thriller\n",
       "4            Action Adventure Science Fiction\n",
       "5                    Fantasy Action Adventure\n",
       "6                            Animation Family\n",
       "7            Action Adventure Science Fiction\n",
       "8                    Adventure Fantasy Family\n",
       "9                    Action Adventure Fantasy\n",
       "Name: genres_literal, dtype: object"
      ]
     },
     "execution_count": 9,
     "metadata": {},
     "output_type": "execute_result"
    }
   ],
   "source": [
    "movies_df['genres_literal'][:10]"
   ]
  },
  {
   "cell_type": "code",
   "execution_count": 8,
   "metadata": {},
   "outputs": [
    {
     "name": "stdout",
     "output_type": "stream",
     "text": [
      "  (0, 0)\t1\n",
      "  (0, 16)\t1\n",
      "  (0, 124)\t1\n",
      "  (0, 232)\t1\n",
      "  (0, 138)\t1\n",
      "  (0, 1)\t1\n",
      "  (0, 24)\t1\n",
      "  (0, 135)\t1\n",
      "  (0, 233)\t1\n",
      "  (1, 0)\t1\n",
      "  (1, 16)\t1\n",
      "  (1, 124)\t1\n",
      "  (1, 24)\t1\n",
      "  (1, 125)\t1\n",
      "  (2, 0)\t1\n",
      "  (2, 16)\t1\n",
      "  (2, 1)\t1\n",
      "  (2, 64)\t1\n",
      "  (2, 20)\t1\n",
      "  (3, 0)\t1\n",
      "  (3, 64)\t1\n",
      "  (3, 90)\t1\n",
      "  (3, 234)\t1\n",
      "  (3, 4)\t1\n",
      "  (3, 68)\t1\n",
      "  :\t:\n",
      "  (4796, 90)\t1\n",
      "  (4796, 234)\t1\n",
      "  (4796, 106)\t1\n",
      "  (4796, 144)\t1\n",
      "  (4797, 234)\t1\n",
      "  (4797, 153)\t1\n",
      "  (4797, 157)\t1\n",
      "  (4798, 0)\t1\n",
      "  (4798, 64)\t1\n",
      "  (4798, 234)\t1\n",
      "  (4798, 4)\t1\n",
      "  (4798, 78)\t1\n",
      "  (4799, 44)\t1\n",
      "  (4799, 214)\t1\n",
      "  (4799, 58)\t1\n",
      "  (4800, 90)\t1\n",
      "  (4800, 44)\t1\n",
      "  (4800, 214)\t1\n",
      "  (4800, 104)\t1\n",
      "  (4800, 50)\t1\n",
      "  (4800, 250)\t1\n",
      "  (4800, 182)\t1\n",
      "  (4800, 251)\t1\n",
      "  (4800, 229)\t1\n",
      "  (4802, 80)\t1\n",
      "<class 'scipy.sparse.csr.csr_matrix'>\n"
     ]
    }
   ],
   "source": [
    "print(genre_mat)\n",
    "print(type(genre_mat))"
   ]
  },
  {
   "cell_type": "code",
   "execution_count": 8,
   "metadata": {},
   "outputs": [],
   "source": [
    "genre_sim = cosine_similarity(genre_mat, genre_mat)\n",
    "# 장르 코사인 유사도\n",
    "keyword_sim = cosine_similarity(keyword_mat, keyword_mat)\n",
    "\n",
    "\n",
    "#여기서 테스트하면서 진행"
   ]
  },
  {
   "cell_type": "code",
   "execution_count": 10,
   "metadata": {},
   "outputs": [
    {
     "name": "stdout",
     "output_type": "stream",
     "text": [
      "[[1.         0.01628008 0.         ... 0.02614435 0.         0.        ]\n",
      " [0.01628008 1.         0.         ... 0.03277368 0.         0.        ]\n",
      " [0.         0.         1.         ... 0.         0.         0.        ]\n",
      " ...\n",
      " [0.02614435 0.03277368 0.         ... 1.         0.         0.        ]\n",
      " [0.         0.         0.         ... 0.         0.         0.        ]\n",
      " [0.         0.         0.         ... 0.         0.         1.        ]]\n"
     ]
    }
   ],
   "source": [
    "#print(type(genre_sim))\n",
    "print(keyword_sim)"
   ]
  },
  {
   "cell_type": "code",
   "execution_count": 11,
   "metadata": {},
   "outputs": [
    {
     "name": "stdout",
     "output_type": "stream",
     "text": [
      "[[2.         0.61256488 0.4472136  ... 0.02614435 0.         0.        ]\n",
      " [0.61256488 2.         0.4        ... 0.03277368 0.         0.        ]\n",
      " [0.4472136  0.4        2.         ... 0.         0.         0.        ]\n",
      " ...\n",
      " [0.02614435 0.03277368 0.         ... 2.         0.         0.        ]\n",
      " [0.         0.         0.         ... 0.         0.         0.        ]\n",
      " [0.         0.         0.         ... 0.         0.         2.        ]]\n"
     ]
    }
   ],
   "source": [
    "# 장르 + 키워드 : 코사인 유사도\n",
    "genre_keyword_sim = genre_sim + keyword_sim\n",
    "print(genre_keyword_sim)\n",
    "#genre_sorted_ind = genre_sim.argsort()[:, ::-1]"
   ]
  },
  {
   "cell_type": "code",
   "execution_count": 12,
   "metadata": {},
   "outputs": [],
   "source": [
    "# genre_keyword_sim\n",
    "genre_keyword_sim_sorted_ind = genre_keyword_sim.argsort()[:, ::-1]\n",
    "# 값 내림차 정렬, 인덱스 반환"
   ]
  },
  {
   "cell_type": "code",
   "execution_count": 13,
   "metadata": {},
   "outputs": [],
   "source": [
    "# 사례로 테스트\n",
    "title_movie = movies_df[movies_df['title'] == 'The Godfather']\n",
    "title_index = title_movie.index.values #인덱스\n",
    "\n",
    "# 상위 10개 index 가져오기\n",
    "genre_keyword_similar_indexes = genre_keyword_sim_sorted_ind[title_index, :10]\n",
    "\n",
    "\n",
    "# 1차원으로 변환\n",
    "genre_keyword_similar_indexes = genre_keyword_similar_indexes.reshape(-1)\n",
    "\n",
    "# index로 dataframe 가져오기\n",
    "genre_keyword_similar_movies = movies_df.iloc[genre_keyword_similar_indexes]"
   ]
  },
  {
   "cell_type": "code",
   "execution_count": 16,
   "metadata": {},
   "outputs": [
    {
     "name": "stdout",
     "output_type": "stream",
     "text": [
      "                                               title          genres  \\\n",
      "3337                                   The Godfather  [Drama, Crime]   \n",
      "1946  The Bad Lieutenant: Port of Call - New Orleans  [Drama, Crime]   \n",
      "1847                                      GoodFellas  [Drama, Crime]   \n",
      "2731                          The Godfather: Part II  [Drama, Crime]   \n",
      "4065                                      Mi America  [Drama, Crime]   \n",
      "281                                American Gangster  [Drama, Crime]   \n",
      "4217                                            Kids  [Drama, Crime]   \n",
      "2640         Things to Do in Denver When You're Dead  [Drama, Crime]   \n",
      "1243                                    Mean Streets  [Drama, Crime]   \n",
      "2582                      The Place Beyond the Pines  [Drama, Crime]   \n",
      "\n",
      "                                               keywords  \n",
      "3337  [italy, love at first sight, loss of father, p...  \n",
      "1946  [police brutality, organized crime, policeman,...  \n",
      "1847  [prison, based on novel, florida, 1970s, mass ...  \n",
      "2731  [italo-american, cuba, vororte, melancholy, pr...  \n",
      "4065                       [new york state, hate crime]  \n",
      "281   [underdog, black people, drug traffic, drug sm...  \n",
      "4217                              [puberty, first time]  \n",
      "2640  [father son relationship, bounty hunter, boat,...  \n",
      "1243  [epilepsy, protection money, secret love, mone...  \n",
      "2582  [corruption, father son relationship, carnival...  \n"
     ]
    }
   ],
   "source": [
    "print(genre_keyword_similar_movies[['title','genres', 'keywords']])"
   ]
  },
  {
   "cell_type": "code",
   "execution_count": null,
   "metadata": {},
   "outputs": [],
   "source": []
  }
 ],
 "metadata": {
  "kernelspec": {
   "display_name": "Python 3",
   "language": "python",
   "name": "python3"
  },
  "language_info": {
   "codemirror_mode": {
    "name": "ipython",
    "version": 3
   },
   "file_extension": ".py",
   "mimetype": "text/x-python",
   "name": "python",
   "nbconvert_exporter": "python",
   "pygments_lexer": "ipython3",
   "version": "3.6.9"
  }
 },
 "nbformat": 4,
 "nbformat_minor": 2
}
